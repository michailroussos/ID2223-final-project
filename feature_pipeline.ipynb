{
 "cells": [
  {
   "cell_type": "code",
   "execution_count": 31,
   "metadata": {},
   "outputs": [],
   "source": [
    "\n",
    "\n",
    "import pandas as pd\n",
    "import hopsworks\n",
    "from utils import *\n",
    "import json\n",
    "import os\n",
    "import warnings\n",
    "from dotenv import load_dotenv\n",
    "import datetime\n",
    "\n",
    "warnings.filterwarnings(\"ignore\")"
   ]
  },
  {
   "cell_type": "code",
   "execution_count": 32,
   "metadata": {},
   "outputs": [
    {
     "name": "stdout",
     "output_type": "stream",
     "text": [
      "2024-12-21 14:33:26,429 INFO: Closing external client and cleaning up certificates.\n",
      "Connection closed.\n",
      "2024-12-21 14:33:26,430 INFO: Initializing external client\n",
      "2024-12-21 14:33:26,431 INFO: Base URL: https://c.app.hopsworks.ai:443\n",
      "2024-12-21 14:33:28,755 INFO: Python Engine initialized.\n",
      "\n",
      "Logged in to project, explore it here https://c.app.hopsworks.ai:443/p/1164448\n"
     ]
    }
   ],
   "source": [
    "load_dotenv()\n",
    "os.environ[\"HOPSWORKS_API_KEY\"] = os.getenv(\"HOPSWORKS_API_KEY\")\n",
    "\n",
    "\n",
    "project = hopsworks.login()"
   ]
  },
  {
   "cell_type": "code",
   "execution_count": 33,
   "metadata": {},
   "outputs": [
    {
     "data": {
      "text/plain": [
       "datetime.date(2024, 12, 21)"
      ]
     },
     "execution_count": 33,
     "metadata": {},
     "output_type": "execute_result"
    }
   ],
   "source": [
    "\n",
    "fs = project.get_feature_store() \n",
    "#secrets = secrets_api(project.name)\n",
    "\n",
    "# This line will fail if you have not registered the AQI_API_KEY as a secret in Hopsworks\n",
    "#CRYPTO_API_KEY = secrets.get_secret(\"CRYPTO_API_KEY\").value\n",
    "\n",
    "CRYPTO_API_KEY = os.getenv(\"CRYPTO_API_KEY\")\n",
    "\n",
    "today = datetime.date.today()\n",
    "\n",
    "today\n"
   ]
  },
  {
   "cell_type": "code",
   "execution_count": 34,
   "metadata": {},
   "outputs": [
    {
     "name": "stdout",
     "output_type": "stream",
     "text": [
      "Finished: Reading data from Hopsworks, using Hopsworks Feature Query Service (0.57s) \n",
      "The maximum date is: 2024-12-21 00:00:00+00:00\n"
     ]
    }
   ],
   "source": [
    "\n",
    "# Step 2: Retrieve the feature group by name and version\n",
    "solana_feature_group = fs.get_feature_group(\n",
    "    name=\"solana\",  \n",
    "    version=6\n",
    ")\n",
    "\n",
    "# Step 3: Read the data from the feature group\n",
    "s_data_df = solana_feature_group.select([\"date\"]).read()\n",
    "\n",
    "# Step 4: Find the maximum date\n",
    "solana_max_date = s_data_df['date'].max()\n",
    "\n",
    "# Step 5: Print the result\n",
    "print(f\"The maximum date is: {solana_max_date}\")"
   ]
  },
  {
   "cell_type": "code",
   "execution_count": 35,
   "metadata": {},
   "outputs": [
    {
     "name": "stdout",
     "output_type": "stream",
     "text": [
      "Finished: Reading data from Hopsworks, using Hopsworks Feature Query Service (0.82s) \n",
      "The maximum date is: 2024-12-21 00:00:00+00:00\n"
     ]
    }
   ],
   "source": [
    "\n",
    "# Step 2: Retrieve the feature group by name and version\n",
    "bitcoin_feature_group = fs.get_feature_group(\n",
    "    name=\"bitcoin\",  \n",
    "    version=6\n",
    ")\n",
    "\n",
    "# Step 3: Read the data from the feature group\n",
    "b_data_df = bitcoin_feature_group.select([\"date\"]).read()\n",
    "\n",
    "# Step 4: Find the maximum date\n",
    "bitcoin_max_date = b_data_df['date'].max()\n",
    "\n",
    "# Step 5: Print the result\n",
    "print(f\"The maximum date is: {bitcoin_max_date}\")"
   ]
  },
  {
   "cell_type": "code",
   "execution_count": 37,
   "metadata": {},
   "outputs": [
    {
     "name": "stdout",
     "output_type": "stream",
     "text": [
      "2024-12-21 14:33:50,968 ERROR: [Errno 2] Opening HDFS file '/apps/hive/warehouse/kth_lab1_2024_featurestore.db/f_n_g_index_6/.hoodie/hoodie.properties' failed. Detail: [errno 2] No such file or directory. Detail: Python exception: FlyingDuckException. gRPC client debug context: UNKNOWN:Error received from peer ipv4:51.79.26.27:5005 {grpc_message:\"[Errno 2] Opening HDFS file \\'/apps/hive/warehouse/kth_lab1_2024_featurestore.db/f_n_g_index_6/.hoodie/hoodie.properties\\' failed. Detail: [errno 2] No such file or directory. Detail: Python exception: FlyingDuckException\", grpc_status:2, created_time:\"2024-12-21T14:33:50.967868+02:00\"}. Client context: IOError: Server never sent a data message. Detail: Internal\n",
      "Traceback (most recent call last):\n",
      "  File \"/opt/homebrew/anaconda3/envs/final_project_env/lib/python3.10/site-packages/hsfs/core/arrow_flight_client.py\", line 364, in afs_error_handler_wrapper\n",
      "    return func(instance, *args, **kw)\n",
      "  File \"/opt/homebrew/anaconda3/envs/final_project_env/lib/python3.10/site-packages/hsfs/core/arrow_flight_client.py\", line 427, in read_query\n",
      "    return self._get_dataset(\n",
      "  File \"/opt/homebrew/anaconda3/envs/final_project_env/lib/python3.10/site-packages/retrying.py\", line 56, in wrapped_f\n",
      "    return Retrying(*dargs, **dkw).call(f, *args, **kw)\n",
      "  File \"/opt/homebrew/anaconda3/envs/final_project_env/lib/python3.10/site-packages/retrying.py\", line 257, in call\n",
      "    return attempt.get(self._wrap_exception)\n",
      "  File \"/opt/homebrew/anaconda3/envs/final_project_env/lib/python3.10/site-packages/retrying.py\", line 301, in get\n",
      "    six.reraise(self.value[0], self.value[1], self.value[2])\n",
      "  File \"/opt/homebrew/anaconda3/envs/final_project_env/lib/python3.10/site-packages/six.py\", line 724, in reraise\n",
      "    raise value\n",
      "  File \"/opt/homebrew/anaconda3/envs/final_project_env/lib/python3.10/site-packages/retrying.py\", line 251, in call\n",
      "    attempt = Attempt(fn(*args, **kwargs), attempt_number, False)\n",
      "  File \"/opt/homebrew/anaconda3/envs/final_project_env/lib/python3.10/site-packages/hsfs/core/arrow_flight_client.py\", line 413, in _get_dataset\n",
      "    reader = self._connection.do_get(info.endpoints[0].ticket, options)\n",
      "  File \"pyarrow/_flight.pyx\", line 1633, in pyarrow._flight.FlightClient.do_get\n",
      "  File \"pyarrow/_flight.pyx\", line 58, in pyarrow._flight.check_flight_status\n",
      "pyarrow._flight.FlightServerError: [Errno 2] Opening HDFS file '/apps/hive/warehouse/kth_lab1_2024_featurestore.db/f_n_g_index_6/.hoodie/hoodie.properties' failed. Detail: [errno 2] No such file or directory. Detail: Python exception: FlyingDuckException. gRPC client debug context: UNKNOWN:Error received from peer ipv4:51.79.26.27:5005 {grpc_message:\"[Errno 2] Opening HDFS file \\'/apps/hive/warehouse/kth_lab1_2024_featurestore.db/f_n_g_index_6/.hoodie/hoodie.properties\\' failed. Detail: [errno 2] No such file or directory. Detail: Python exception: FlyingDuckException\", grpc_status:2, created_time:\"2024-12-21T14:33:50.967868+02:00\"}. Client context: IOError: Server never sent a data message. Detail: Internal\n",
      "Error: Reading data from Hopsworks, using Hopsworks Feature Query Service           \n"
     ]
    },
    {
     "ename": "FeatureStoreException",
     "evalue": "Could not read data using Hopsworks Feature Query Service.",
     "output_type": "error",
     "traceback": [
      "\u001b[0;31m---------------------------------------------------------------------------\u001b[0m",
      "\u001b[0;31mFlightServerError\u001b[0m                         Traceback (most recent call last)",
      "File \u001b[0;32m/opt/homebrew/anaconda3/envs/final_project_env/lib/python3.10/site-packages/hsfs/core/arrow_flight_client.py:364\u001b[0m, in \u001b[0;36mArrowFlightClient._handle_afs_exception.<locals>.decorator.<locals>.afs_error_handler_wrapper\u001b[0;34m(instance, *args, **kw)\u001b[0m\n\u001b[1;32m    363\u001b[0m \u001b[38;5;28;01mtry\u001b[39;00m:\n\u001b[0;32m--> 364\u001b[0m     \u001b[38;5;28;01mreturn\u001b[39;00m \u001b[43mfunc\u001b[49m\u001b[43m(\u001b[49m\u001b[43minstance\u001b[49m\u001b[43m,\u001b[49m\u001b[43m \u001b[49m\u001b[38;5;241;43m*\u001b[39;49m\u001b[43margs\u001b[49m\u001b[43m,\u001b[49m\u001b[43m \u001b[49m\u001b[38;5;241;43m*\u001b[39;49m\u001b[38;5;241;43m*\u001b[39;49m\u001b[43mkw\u001b[49m\u001b[43m)\u001b[49m\n\u001b[1;32m    365\u001b[0m \u001b[38;5;28;01mexcept\u001b[39;00m \u001b[38;5;167;01mException\u001b[39;00m \u001b[38;5;28;01mas\u001b[39;00m e:\n",
      "File \u001b[0;32m/opt/homebrew/anaconda3/envs/final_project_env/lib/python3.10/site-packages/hsfs/core/arrow_flight_client.py:427\u001b[0m, in \u001b[0;36mArrowFlightClient.read_query\u001b[0;34m(self, query_object, arrow_flight_config, dataframe_type)\u001b[0m\n\u001b[1;32m    426\u001b[0m descriptor \u001b[38;5;241m=\u001b[39m pyarrow\u001b[38;5;241m.\u001b[39mflight\u001b[38;5;241m.\u001b[39mFlightDescriptor\u001b[38;5;241m.\u001b[39mfor_command(query_encoded)\n\u001b[0;32m--> 427\u001b[0m \u001b[38;5;28;01mreturn\u001b[39;00m \u001b[38;5;28;43mself\u001b[39;49m\u001b[38;5;241;43m.\u001b[39;49m\u001b[43m_get_dataset\u001b[49m\u001b[43m(\u001b[49m\n\u001b[1;32m    428\u001b[0m \u001b[43m    \u001b[49m\u001b[43mdescriptor\u001b[49m\u001b[43m,\u001b[49m\n\u001b[1;32m    429\u001b[0m \u001b[43m    \u001b[49m\u001b[43m(\u001b[49m\n\u001b[1;32m    430\u001b[0m \u001b[43m        \u001b[49m\u001b[43marrow_flight_config\u001b[49m\u001b[38;5;241;43m.\u001b[39;49m\u001b[43mget\u001b[49m\u001b[43m(\u001b[49m\u001b[38;5;124;43m\"\u001b[39;49m\u001b[38;5;124;43mtimeout\u001b[39;49m\u001b[38;5;124;43m\"\u001b[39;49m\u001b[43m,\u001b[49m\u001b[43m \u001b[49m\u001b[38;5;28;43mself\u001b[39;49m\u001b[38;5;241;43m.\u001b[39;49m\u001b[43mtimeout\u001b[49m\u001b[43m)\u001b[49m\n\u001b[1;32m    431\u001b[0m \u001b[43m        \u001b[49m\u001b[38;5;28;43;01mif\u001b[39;49;00m\u001b[43m \u001b[49m\u001b[43marrow_flight_config\u001b[49m\n\u001b[1;32m    432\u001b[0m \u001b[43m        \u001b[49m\u001b[38;5;28;43;01melse\u001b[39;49;00m\u001b[43m \u001b[49m\u001b[38;5;28;43mself\u001b[39;49m\u001b[38;5;241;43m.\u001b[39;49m\u001b[43mtimeout\u001b[49m\n\u001b[1;32m    433\u001b[0m \u001b[43m    \u001b[49m\u001b[43m)\u001b[49m\u001b[43m,\u001b[49m\n\u001b[1;32m    434\u001b[0m \u001b[43m    \u001b[49m\u001b[43mdataframe_type\u001b[49m\u001b[43m,\u001b[49m\n\u001b[1;32m    435\u001b[0m \u001b[43m\u001b[49m\u001b[43m)\u001b[49m\n",
      "File \u001b[0;32m/opt/homebrew/anaconda3/envs/final_project_env/lib/python3.10/site-packages/retrying.py:56\u001b[0m, in \u001b[0;36mretry.<locals>.wrap.<locals>.wrapped_f\u001b[0;34m(*args, **kw)\u001b[0m\n\u001b[1;32m     54\u001b[0m \u001b[38;5;129m@six\u001b[39m\u001b[38;5;241m.\u001b[39mwraps(f)\n\u001b[1;32m     55\u001b[0m \u001b[38;5;28;01mdef\u001b[39;00m \u001b[38;5;21mwrapped_f\u001b[39m(\u001b[38;5;241m*\u001b[39margs, \u001b[38;5;241m*\u001b[39m\u001b[38;5;241m*\u001b[39mkw):\n\u001b[0;32m---> 56\u001b[0m     \u001b[38;5;28;01mreturn\u001b[39;00m \u001b[43mRetrying\u001b[49m\u001b[43m(\u001b[49m\u001b[38;5;241;43m*\u001b[39;49m\u001b[43mdargs\u001b[49m\u001b[43m,\u001b[49m\u001b[43m \u001b[49m\u001b[38;5;241;43m*\u001b[39;49m\u001b[38;5;241;43m*\u001b[39;49m\u001b[43mdkw\u001b[49m\u001b[43m)\u001b[49m\u001b[38;5;241;43m.\u001b[39;49m\u001b[43mcall\u001b[49m\u001b[43m(\u001b[49m\u001b[43mf\u001b[49m\u001b[43m,\u001b[49m\u001b[43m \u001b[49m\u001b[38;5;241;43m*\u001b[39;49m\u001b[43margs\u001b[49m\u001b[43m,\u001b[49m\u001b[43m \u001b[49m\u001b[38;5;241;43m*\u001b[39;49m\u001b[38;5;241;43m*\u001b[39;49m\u001b[43mkw\u001b[49m\u001b[43m)\u001b[49m\n",
      "File \u001b[0;32m/opt/homebrew/anaconda3/envs/final_project_env/lib/python3.10/site-packages/retrying.py:257\u001b[0m, in \u001b[0;36mRetrying.call\u001b[0;34m(self, fn, *args, **kwargs)\u001b[0m\n\u001b[1;32m    256\u001b[0m \u001b[38;5;28;01mif\u001b[39;00m \u001b[38;5;129;01mnot\u001b[39;00m \u001b[38;5;28mself\u001b[39m\u001b[38;5;241m.\u001b[39mshould_reject(attempt):\n\u001b[0;32m--> 257\u001b[0m     \u001b[38;5;28;01mreturn\u001b[39;00m \u001b[43mattempt\u001b[49m\u001b[38;5;241;43m.\u001b[39;49m\u001b[43mget\u001b[49m\u001b[43m(\u001b[49m\u001b[38;5;28;43mself\u001b[39;49m\u001b[38;5;241;43m.\u001b[39;49m\u001b[43m_wrap_exception\u001b[49m\u001b[43m)\u001b[49m\n\u001b[1;32m    259\u001b[0m \u001b[38;5;28;01mif\u001b[39;00m \u001b[38;5;28mself\u001b[39m\u001b[38;5;241m.\u001b[39m_after_attempts:\n",
      "File \u001b[0;32m/opt/homebrew/anaconda3/envs/final_project_env/lib/python3.10/site-packages/retrying.py:301\u001b[0m, in \u001b[0;36mAttempt.get\u001b[0;34m(self, wrap_exception)\u001b[0m\n\u001b[1;32m    300\u001b[0m     \u001b[38;5;28;01melse\u001b[39;00m:\n\u001b[0;32m--> 301\u001b[0m         \u001b[43msix\u001b[49m\u001b[38;5;241;43m.\u001b[39;49m\u001b[43mreraise\u001b[49m\u001b[43m(\u001b[49m\u001b[38;5;28;43mself\u001b[39;49m\u001b[38;5;241;43m.\u001b[39;49m\u001b[43mvalue\u001b[49m\u001b[43m[\u001b[49m\u001b[38;5;241;43m0\u001b[39;49m\u001b[43m]\u001b[49m\u001b[43m,\u001b[49m\u001b[43m \u001b[49m\u001b[38;5;28;43mself\u001b[39;49m\u001b[38;5;241;43m.\u001b[39;49m\u001b[43mvalue\u001b[49m\u001b[43m[\u001b[49m\u001b[38;5;241;43m1\u001b[39;49m\u001b[43m]\u001b[49m\u001b[43m,\u001b[49m\u001b[43m \u001b[49m\u001b[38;5;28;43mself\u001b[39;49m\u001b[38;5;241;43m.\u001b[39;49m\u001b[43mvalue\u001b[49m\u001b[43m[\u001b[49m\u001b[38;5;241;43m2\u001b[39;49m\u001b[43m]\u001b[49m\u001b[43m)\u001b[49m\n\u001b[1;32m    302\u001b[0m \u001b[38;5;28;01melse\u001b[39;00m:\n",
      "File \u001b[0;32m/opt/homebrew/anaconda3/envs/final_project_env/lib/python3.10/site-packages/six.py:724\u001b[0m, in \u001b[0;36mreraise\u001b[0;34m(tp, value, tb)\u001b[0m\n\u001b[1;32m    723\u001b[0m         \u001b[38;5;28;01mraise\u001b[39;00m value\u001b[38;5;241m.\u001b[39mwith_traceback(tb)\n\u001b[0;32m--> 724\u001b[0m     \u001b[38;5;28;01mraise\u001b[39;00m value\n\u001b[1;32m    725\u001b[0m \u001b[38;5;28;01mfinally\u001b[39;00m:\n",
      "File \u001b[0;32m/opt/homebrew/anaconda3/envs/final_project_env/lib/python3.10/site-packages/retrying.py:251\u001b[0m, in \u001b[0;36mRetrying.call\u001b[0;34m(self, fn, *args, **kwargs)\u001b[0m\n\u001b[1;32m    250\u001b[0m \u001b[38;5;28;01mtry\u001b[39;00m:\n\u001b[0;32m--> 251\u001b[0m     attempt \u001b[38;5;241m=\u001b[39m Attempt(\u001b[43mfn\u001b[49m\u001b[43m(\u001b[49m\u001b[38;5;241;43m*\u001b[39;49m\u001b[43margs\u001b[49m\u001b[43m,\u001b[49m\u001b[43m \u001b[49m\u001b[38;5;241;43m*\u001b[39;49m\u001b[38;5;241;43m*\u001b[39;49m\u001b[43mkwargs\u001b[49m\u001b[43m)\u001b[49m, attempt_number, \u001b[38;5;28;01mFalse\u001b[39;00m)\n\u001b[1;32m    252\u001b[0m \u001b[38;5;28;01mexcept\u001b[39;00m:\n",
      "File \u001b[0;32m/opt/homebrew/anaconda3/envs/final_project_env/lib/python3.10/site-packages/hsfs/core/arrow_flight_client.py:413\u001b[0m, in \u001b[0;36mArrowFlightClient._get_dataset\u001b[0;34m(self, descriptor, timeout, dataframe_type)\u001b[0m\n\u001b[1;32m    412\u001b[0m options \u001b[38;5;241m=\u001b[39m pyarrow\u001b[38;5;241m.\u001b[39mflight\u001b[38;5;241m.\u001b[39mFlightCallOptions(timeout\u001b[38;5;241m=\u001b[39mtimeout)\n\u001b[0;32m--> 413\u001b[0m reader \u001b[38;5;241m=\u001b[39m \u001b[38;5;28;43mself\u001b[39;49m\u001b[38;5;241;43m.\u001b[39;49m\u001b[43m_connection\u001b[49m\u001b[38;5;241;43m.\u001b[39;49m\u001b[43mdo_get\u001b[49m\u001b[43m(\u001b[49m\u001b[43minfo\u001b[49m\u001b[38;5;241;43m.\u001b[39;49m\u001b[43mendpoints\u001b[49m\u001b[43m[\u001b[49m\u001b[38;5;241;43m0\u001b[39;49m\u001b[43m]\u001b[49m\u001b[38;5;241;43m.\u001b[39;49m\u001b[43mticket\u001b[49m\u001b[43m,\u001b[49m\u001b[43m \u001b[49m\u001b[43moptions\u001b[49m\u001b[43m)\u001b[49m\n\u001b[1;32m    414\u001b[0m _logger\u001b[38;5;241m.\u001b[39mdebug(\u001b[38;5;124m\"\u001b[39m\u001b[38;5;124mDataset fetched. Converting to dataframe \u001b[39m\u001b[38;5;132;01m%s\u001b[39;00m\u001b[38;5;124m.\u001b[39m\u001b[38;5;124m\"\u001b[39m, dataframe_type)\n",
      "File \u001b[0;32m/opt/homebrew/anaconda3/envs/final_project_env/lib/python3.10/site-packages/pyarrow/_flight.pyx:1633\u001b[0m, in \u001b[0;36mpyarrow._flight.FlightClient.do_get\u001b[0;34m()\u001b[0m\n",
      "File \u001b[0;32m/opt/homebrew/anaconda3/envs/final_project_env/lib/python3.10/site-packages/pyarrow/_flight.pyx:58\u001b[0m, in \u001b[0;36mpyarrow._flight.check_flight_status\u001b[0;34m()\u001b[0m\n",
      "\u001b[0;31mFlightServerError\u001b[0m: [Errno 2] Opening HDFS file '/apps/hive/warehouse/kth_lab1_2024_featurestore.db/f_n_g_index_6/.hoodie/hoodie.properties' failed. Detail: [errno 2] No such file or directory. Detail: Python exception: FlyingDuckException. gRPC client debug context: UNKNOWN:Error received from peer ipv4:51.79.26.27:5005 {grpc_message:\"[Errno 2] Opening HDFS file \\'/apps/hive/warehouse/kth_lab1_2024_featurestore.db/f_n_g_index_6/.hoodie/hoodie.properties\\' failed. Detail: [errno 2] No such file or directory. Detail: Python exception: FlyingDuckException\", grpc_status:2, created_time:\"2024-12-21T14:33:50.967868+02:00\"}. Client context: IOError: Server never sent a data message. Detail: Internal",
      "\nThe above exception was the direct cause of the following exception:\n",
      "\u001b[0;31mFeatureStoreException\u001b[0m                     Traceback (most recent call last)",
      "Cell \u001b[0;32mIn[37], line 8\u001b[0m\n\u001b[1;32m      2\u001b[0m fng_feature_group \u001b[38;5;241m=\u001b[39m fs\u001b[38;5;241m.\u001b[39mget_feature_group(\n\u001b[1;32m      3\u001b[0m     name\u001b[38;5;241m=\u001b[39m\u001b[38;5;124m\"\u001b[39m\u001b[38;5;124mf_n_g_index\u001b[39m\u001b[38;5;124m\"\u001b[39m, \n\u001b[1;32m      4\u001b[0m     version\u001b[38;5;241m=\u001b[39m\u001b[38;5;241m6\u001b[39m\n\u001b[1;32m      5\u001b[0m )\n\u001b[1;32m      7\u001b[0m \u001b[38;5;66;03m# Step 3: Read the data from the feature group\u001b[39;00m\n\u001b[0;32m----> 8\u001b[0m fng_data_df \u001b[38;5;241m=\u001b[39m \u001b[43mfng_feature_group\u001b[49m\u001b[38;5;241;43m.\u001b[39;49m\u001b[43mselect\u001b[49m\u001b[43m(\u001b[49m\u001b[43m[\u001b[49m\u001b[38;5;124;43m\"\u001b[39;49m\u001b[38;5;124;43mdate\u001b[39;49m\u001b[38;5;124;43m\"\u001b[39;49m\u001b[43m]\u001b[49m\u001b[43m)\u001b[49m\u001b[38;5;241;43m.\u001b[39;49m\u001b[43mread\u001b[49m\u001b[43m(\u001b[49m\u001b[43m)\u001b[49m\n\u001b[1;32m     10\u001b[0m \u001b[38;5;66;03m# Step 4: Find the maximum date\u001b[39;00m\n\u001b[1;32m     11\u001b[0m fng_max_date \u001b[38;5;241m=\u001b[39m fng_data_df[\u001b[38;5;124m'\u001b[39m\u001b[38;5;124mdate\u001b[39m\u001b[38;5;124m'\u001b[39m]\u001b[38;5;241m.\u001b[39mmax()\n",
      "File \u001b[0;32m/opt/homebrew/anaconda3/envs/final_project_env/lib/python3.10/site-packages/hsfs/constructor/query.py:206\u001b[0m, in \u001b[0;36mQuery.read\u001b[0;34m(self, online, dataframe_type, read_options)\u001b[0m\n\u001b[1;32m    201\u001b[0m     \u001b[38;5;28;01mif\u001b[39;00m \u001b[38;5;28mlen\u001b[39m(\u001b[38;5;28mself\u001b[39m\u001b[38;5;241m.\u001b[39mjoins) \u001b[38;5;241m>\u001b[39m \u001b[38;5;241m0\u001b[39m \u001b[38;5;129;01mor\u001b[39;00m \u001b[38;5;28;01mNone\u001b[39;00m \u001b[38;5;129;01min\u001b[39;00m [f\u001b[38;5;241m.\u001b[39mtype \u001b[38;5;28;01mfor\u001b[39;00m f \u001b[38;5;129;01min\u001b[39;00m schema]:\n\u001b[1;32m    202\u001b[0m         \u001b[38;5;28;01mraise\u001b[39;00m \u001b[38;5;167;01mValueError\u001b[39;00m(\n\u001b[1;32m    203\u001b[0m             \u001b[38;5;124m\"\u001b[39m\u001b[38;5;124mPandas types casting only supported for feature_group.read()/query.select_all()\u001b[39m\u001b[38;5;124m\"\u001b[39m\n\u001b[1;32m    204\u001b[0m         )\n\u001b[0;32m--> 206\u001b[0m \u001b[38;5;28;01mreturn\u001b[39;00m \u001b[43mengine\u001b[49m\u001b[38;5;241;43m.\u001b[39;49m\u001b[43mget_instance\u001b[49m\u001b[43m(\u001b[49m\u001b[43m)\u001b[49m\u001b[38;5;241;43m.\u001b[39;49m\u001b[43msql\u001b[49m\u001b[43m(\u001b[49m\n\u001b[1;32m    207\u001b[0m \u001b[43m    \u001b[49m\u001b[43msql_query\u001b[49m\u001b[43m,\u001b[49m\n\u001b[1;32m    208\u001b[0m \u001b[43m    \u001b[49m\u001b[38;5;28;43mself\u001b[39;49m\u001b[38;5;241;43m.\u001b[39;49m\u001b[43m_feature_store_name\u001b[49m\u001b[43m,\u001b[49m\n\u001b[1;32m    209\u001b[0m \u001b[43m    \u001b[49m\u001b[43monline_conn\u001b[49m\u001b[43m,\u001b[49m\n\u001b[1;32m    210\u001b[0m \u001b[43m    \u001b[49m\u001b[43mdataframe_type\u001b[49m\u001b[43m,\u001b[49m\n\u001b[1;32m    211\u001b[0m \u001b[43m    \u001b[49m\u001b[43mread_options\u001b[49m\u001b[43m,\u001b[49m\n\u001b[1;32m    212\u001b[0m \u001b[43m    \u001b[49m\u001b[43mschema\u001b[49m\u001b[43m,\u001b[49m\n\u001b[1;32m    213\u001b[0m \u001b[43m\u001b[49m\u001b[43m)\u001b[49m\n",
      "File \u001b[0;32m/opt/homebrew/anaconda3/envs/final_project_env/lib/python3.10/site-packages/hsfs/engine/python.py:146\u001b[0m, in \u001b[0;36mEngine.sql\u001b[0;34m(self, sql_query, feature_store, online_conn, dataframe_type, read_options, schema)\u001b[0m\n\u001b[1;32m    136\u001b[0m \u001b[38;5;28;01mdef\u001b[39;00m \u001b[38;5;21msql\u001b[39m(\n\u001b[1;32m    137\u001b[0m     \u001b[38;5;28mself\u001b[39m,\n\u001b[1;32m    138\u001b[0m     sql_query: \u001b[38;5;28mstr\u001b[39m,\n\u001b[0;32m   (...)\u001b[0m\n\u001b[1;32m    143\u001b[0m     schema: Optional[List[feature\u001b[38;5;241m.\u001b[39mFeature]] \u001b[38;5;241m=\u001b[39m \u001b[38;5;28;01mNone\u001b[39;00m,\n\u001b[1;32m    144\u001b[0m ) \u001b[38;5;241m-\u001b[39m\u001b[38;5;241m>\u001b[39m Union[pd\u001b[38;5;241m.\u001b[39mDataFrame, pl\u001b[38;5;241m.\u001b[39mDataFrame]:\n\u001b[1;32m    145\u001b[0m     \u001b[38;5;28;01mif\u001b[39;00m \u001b[38;5;129;01mnot\u001b[39;00m online_conn:\n\u001b[0;32m--> 146\u001b[0m         \u001b[38;5;28;01mreturn\u001b[39;00m \u001b[38;5;28;43mself\u001b[39;49m\u001b[38;5;241;43m.\u001b[39;49m\u001b[43m_sql_offline\u001b[49m\u001b[43m(\u001b[49m\n\u001b[1;32m    147\u001b[0m \u001b[43m            \u001b[49m\u001b[43msql_query\u001b[49m\u001b[43m,\u001b[49m\n\u001b[1;32m    148\u001b[0m \u001b[43m            \u001b[49m\u001b[43mdataframe_type\u001b[49m\u001b[43m,\u001b[49m\n\u001b[1;32m    149\u001b[0m \u001b[43m            \u001b[49m\u001b[43mschema\u001b[49m\u001b[43m,\u001b[49m\n\u001b[1;32m    150\u001b[0m \u001b[43m            \u001b[49m\u001b[43marrow_flight_config\u001b[49m\u001b[38;5;241;43m=\u001b[39;49m\u001b[43mread_options\u001b[49m\u001b[38;5;241;43m.\u001b[39;49m\u001b[43mget\u001b[49m\u001b[43m(\u001b[49m\u001b[38;5;124;43m\"\u001b[39;49m\u001b[38;5;124;43marrow_flight_config\u001b[39;49m\u001b[38;5;124;43m\"\u001b[39;49m\u001b[43m,\u001b[49m\u001b[43m \u001b[49m\u001b[43m{\u001b[49m\u001b[43m}\u001b[49m\u001b[43m)\u001b[49m\n\u001b[1;32m    151\u001b[0m \u001b[43m            \u001b[49m\u001b[38;5;28;43;01mif\u001b[39;49;00m\u001b[43m \u001b[49m\u001b[43mread_options\u001b[49m\n\u001b[1;32m    152\u001b[0m \u001b[43m            \u001b[49m\u001b[38;5;28;43;01melse\u001b[39;49;00m\u001b[43m \u001b[49m\u001b[43m{\u001b[49m\u001b[43m}\u001b[49m\u001b[43m,\u001b[49m\n\u001b[1;32m    153\u001b[0m \u001b[43m        \u001b[49m\u001b[43m)\u001b[49m\n\u001b[1;32m    154\u001b[0m     \u001b[38;5;28;01melse\u001b[39;00m:\n\u001b[1;32m    155\u001b[0m         \u001b[38;5;28;01mreturn\u001b[39;00m \u001b[38;5;28mself\u001b[39m\u001b[38;5;241m.\u001b[39m_jdbc(\n\u001b[1;32m    156\u001b[0m             sql_query, online_conn, dataframe_type, read_options, schema\n\u001b[1;32m    157\u001b[0m         )\n",
      "File \u001b[0;32m/opt/homebrew/anaconda3/envs/final_project_env/lib/python3.10/site-packages/hsfs/engine/python.py:189\u001b[0m, in \u001b[0;36mEngine._sql_offline\u001b[0;34m(self, sql_query, dataframe_type, schema, arrow_flight_config)\u001b[0m\n\u001b[1;32m    186\u001b[0m \u001b[38;5;28;01mif\u001b[39;00m \u001b[38;5;28misinstance\u001b[39m(sql_query, \u001b[38;5;28mdict\u001b[39m) \u001b[38;5;129;01mand\u001b[39;00m \u001b[38;5;124m\"\u001b[39m\u001b[38;5;124mquery_string\u001b[39m\u001b[38;5;124m\"\u001b[39m \u001b[38;5;129;01min\u001b[39;00m sql_query:\n\u001b[1;32m    187\u001b[0m     \u001b[38;5;28;01mfrom\u001b[39;00m \u001b[38;5;21;01mhsfs\u001b[39;00m\u001b[38;5;21;01m.\u001b[39;00m\u001b[38;5;21;01mcore\u001b[39;00m \u001b[38;5;28;01mimport\u001b[39;00m arrow_flight_client\n\u001b[0;32m--> 189\u001b[0m     result_df \u001b[38;5;241m=\u001b[39m \u001b[43mutil\u001b[49m\u001b[38;5;241;43m.\u001b[39;49m\u001b[43mrun_with_loading_animation\u001b[49m\u001b[43m(\u001b[49m\n\u001b[1;32m    190\u001b[0m \u001b[43m        \u001b[49m\u001b[38;5;124;43m\"\u001b[39;49m\u001b[38;5;124;43mReading data from Hopsworks, using Hopsworks Feature Query Service\u001b[39;49m\u001b[38;5;124;43m\"\u001b[39;49m\u001b[43m,\u001b[49m\n\u001b[1;32m    191\u001b[0m \u001b[43m        \u001b[49m\u001b[43marrow_flight_client\u001b[49m\u001b[38;5;241;43m.\u001b[39;49m\u001b[43mget_instance\u001b[49m\u001b[43m(\u001b[49m\u001b[43m)\u001b[49m\u001b[38;5;241;43m.\u001b[39;49m\u001b[43mread_query\u001b[49m\u001b[43m,\u001b[49m\n\u001b[1;32m    192\u001b[0m \u001b[43m        \u001b[49m\u001b[43msql_query\u001b[49m\u001b[43m,\u001b[49m\n\u001b[1;32m    193\u001b[0m \u001b[43m        \u001b[49m\u001b[43marrow_flight_config\u001b[49m\u001b[43m \u001b[49m\u001b[38;5;129;43;01mor\u001b[39;49;00m\u001b[43m \u001b[49m\u001b[43m{\u001b[49m\u001b[43m}\u001b[49m\u001b[43m,\u001b[49m\n\u001b[1;32m    194\u001b[0m \u001b[43m        \u001b[49m\u001b[43mdataframe_type\u001b[49m\u001b[43m,\u001b[49m\n\u001b[1;32m    195\u001b[0m \u001b[43m    \u001b[49m\u001b[43m)\u001b[49m\n\u001b[1;32m    196\u001b[0m \u001b[38;5;28;01melse\u001b[39;00m:\n\u001b[1;32m    197\u001b[0m     \u001b[38;5;28;01mraise\u001b[39;00m \u001b[38;5;167;01mValueError\u001b[39;00m(\n\u001b[1;32m    198\u001b[0m         \u001b[38;5;124m\"\u001b[39m\u001b[38;5;124mReading data with Hive is not supported when using hopsworks client version >= 4.0\u001b[39m\u001b[38;5;124m\"\u001b[39m\n\u001b[1;32m    199\u001b[0m     )\n",
      "File \u001b[0;32m/opt/homebrew/anaconda3/envs/final_project_env/lib/python3.10/site-packages/hopsworks_common/util.py:303\u001b[0m, in \u001b[0;36mrun_with_loading_animation\u001b[0;34m(message, func, *args, **kwargs)\u001b[0m\n\u001b[1;32m    300\u001b[0m end \u001b[38;5;241m=\u001b[39m \u001b[38;5;28;01mNone\u001b[39;00m\n\u001b[1;32m    302\u001b[0m \u001b[38;5;28;01mtry\u001b[39;00m:\n\u001b[0;32m--> 303\u001b[0m     result \u001b[38;5;241m=\u001b[39m \u001b[43mfunc\u001b[49m\u001b[43m(\u001b[49m\u001b[38;5;241;43m*\u001b[39;49m\u001b[43margs\u001b[49m\u001b[43m,\u001b[49m\u001b[43m \u001b[49m\u001b[38;5;241;43m*\u001b[39;49m\u001b[38;5;241;43m*\u001b[39;49m\u001b[43mkwargs\u001b[49m\u001b[43m)\u001b[49m\n\u001b[1;32m    304\u001b[0m     end \u001b[38;5;241m=\u001b[39m time\u001b[38;5;241m.\u001b[39mtime()\n\u001b[1;32m    305\u001b[0m     \u001b[38;5;28;01mreturn\u001b[39;00m result\n",
      "File \u001b[0;32m/opt/homebrew/anaconda3/envs/final_project_env/lib/python3.10/site-packages/hsfs/core/arrow_flight_client.py:382\u001b[0m, in \u001b[0;36mArrowFlightClient._handle_afs_exception.<locals>.decorator.<locals>.afs_error_handler_wrapper\u001b[0;34m(instance, *args, **kw)\u001b[0m\n\u001b[1;32m    380\u001b[0m     \u001b[38;5;28;01mraise\u001b[39;00m FeatureStoreException(\u001b[38;5;28mstr\u001b[39m(e)\u001b[38;5;241m.\u001b[39msplit(\u001b[38;5;124m\"\u001b[39m\u001b[38;5;124mDetails:\u001b[39m\u001b[38;5;124m\"\u001b[39m)[\u001b[38;5;241m0\u001b[39m]) \u001b[38;5;28;01mfrom\u001b[39;00m \u001b[38;5;21;01me\u001b[39;00m\n\u001b[1;32m    381\u001b[0m \u001b[38;5;28;01melse\u001b[39;00m:\n\u001b[0;32m--> 382\u001b[0m     \u001b[38;5;28;01mraise\u001b[39;00m FeatureStoreException(user_message) \u001b[38;5;28;01mfrom\u001b[39;00m \u001b[38;5;21;01me\u001b[39;00m\n",
      "\u001b[0;31mFeatureStoreException\u001b[0m: Could not read data using Hopsworks Feature Query Service."
     ]
    }
   ],
   "source": [
    "# Step 2: Retrieve the feature group by name and version\n",
    "fng_feature_group = fs.get_feature_group(\n",
    "    name=\"f_n_g_index\", \n",
    "    version=6\n",
    ")\n",
    "\n",
    "# Step 3: Read the data from the feature group\n",
    "fng_data_df = fng_feature_group.select([\"date\"]).read()\n",
    "\n",
    "# Step 4: Find the maximum date\n",
    "fng_max_date = fng_data_df['date'].max()\n",
    "\n",
    "# Step 5: Print the result\n",
    "print(f\"The maximum date is: {fng_max_date}\")"
   ]
  },
  {
   "cell_type": "markdown",
   "metadata": {},
   "source": [
    "### Getting missing data"
   ]
  },
  {
   "cell_type": "markdown",
   "metadata": {},
   "source": [
    "### Request solana price from last available data till now"
   ]
  },
  {
   "cell_type": "code",
   "execution_count": null,
   "metadata": {},
   "outputs": [],
   "source": [
    "# convert the date to a naive date\n",
    "solana_max_date_naive = solana_max_date.date()\n",
    "\n",
    "# Calculate the difference in days, so how many days ago was the last data point\n",
    "solana_difference = (solana_max_date_naive - today).days\n",
    "print(f\"Difference in days: {solana_difference}\")"
   ]
  },
  {
   "cell_type": "code",
   "execution_count": null,
   "metadata": {},
   "outputs": [],
   "source": [
    "url = \"https://min-api.cryptocompare.com/data/v2/histoday\"\n",
    "\n",
    "# Load environment variables from the .env file\n",
    "load_dotenv()\n",
    "crypto_api_key = os.getenv(\"CRYPTO_API_KEY\")\n",
    "\n",
    "\n",
    "# Set the parameters for the API request\n",
    "params = {\n",
    "    \"fsym\": \"SOL\",  # From symbol (e.g., Bitcoin)\n",
    "    \"tsym\": \"USD\",  # To symbol (e.g., US Dollar)\n",
    "    \"limit\": solana_difference,    # Number of days of data to retrieve\n",
    "    \"toTs\": None,   # Timestamp for the end of the period (None for latest data)\n",
    "    \"api_key\": crypto_api_key\n",
    "}\n",
    "\n",
    "sol_response = trigger_request(url, params)\n",
    "sol_response.keys()"
   ]
  },
  {
   "cell_type": "code",
   "execution_count": null,
   "metadata": {},
   "outputs": [],
   "source": [
    "sol_response[\"Data\"]"
   ]
  },
  {
   "cell_type": "code",
   "execution_count": null,
   "metadata": {},
   "outputs": [],
   "source": [
    "# convert the date to a naive date\n",
    "bitcoin_max_date_naive = bitcoin_max_date.date()\n",
    "\n",
    "# Calculate the difference in days, so how many days ago was the last data point\n",
    "bitcoin_difference = (bitcoin_max_date_naive - today).days\n",
    "print(f\"Difference in days: {bitcoin_difference}\")"
   ]
  },
  {
   "cell_type": "code",
   "execution_count": null,
   "metadata": {},
   "outputs": [],
   "source": [
    "url = \"https://min-api.cryptocompare.com/data/v2/histoday\"\n",
    "\n",
    "# Load environment variables from the .env file\n",
    "load_dotenv()\n",
    "crypto_api_key = os.getenv(\"CRYPTO_API_KEY\")\n",
    "\n",
    "\n",
    "# Set the parameters for the API request\n",
    "params = {\n",
    "    \"fsym\": \"BTC\",  # From symbol (e.g., Bitcoin)\n",
    "    \"tsym\": \"USD\",  # To symbol (e.g., US Dollar)\n",
    "    \"limit\": bitcoin_difference,    # Number of days of data to retrieve\n",
    "    \"toTs\": None,   # Timestamp for the end of the period (None for latest data)\n",
    "    \"api_key\": crypto_api_key\n",
    "}\n",
    "\n",
    "btc_response = trigger_request(url, params)\n",
    "btc_response.keys()"
   ]
  },
  {
   "cell_type": "code",
   "execution_count": null,
   "metadata": {},
   "outputs": [],
   "source": [
    "response[\"Data\"]"
   ]
  },
  {
   "cell_type": "code",
   "execution_count": null,
   "metadata": {},
   "outputs": [],
   "source": [
    "\n",
    "# convert the date to a naive date\n",
    "fng_max_date_naive = fng_max_date.date()\n",
    "\n",
    "# Calculate the difference in days, so how many days ago was the last data point\n",
    "fng_difference = (fng_max_date_naive - today).days\n",
    "print(f\"Difference in days: {fng_difference}\")"
   ]
  },
  {
   "cell_type": "code",
   "execution_count": 27,
   "metadata": {},
   "outputs": [
    {
     "data": {
      "text/plain": [
       "dict_keys(['name', 'data', 'metadata'])"
      ]
     },
     "execution_count": 27,
     "metadata": {},
     "output_type": "execute_result"
    }
   ],
   "source": [
    "url = \"https://api.alternative.me/fng/?\"\n",
    "\n",
    "# Load environment variables from the .env file\n",
    "load_dotenv()\n",
    "crypto_api_key = os.getenv(\"CRYPTO_API_KEY\")\n",
    "\n",
    "\n",
    "# Set the parameters for the API request\n",
    "params = {\n",
    "    \"limit\": fng_difference    # Number of days of data to retrieve\n",
    "}\n",
    "\n",
    "response = trigger_request(url, params)\n",
    "response.keys()"
   ]
  },
  {
   "cell_type": "code",
   "execution_count": 30,
   "metadata": {},
   "outputs": [
    {
     "data": {
      "text/plain": [
       "[{'value': '73',\n",
       "  'value_classification': 'Greed',\n",
       "  'timestamp': '1734739200',\n",
       "  'time_until_update': '41404'},\n",
       " {'value': '74', 'value_classification': 'Greed', 'timestamp': '1734652800'},\n",
       " {'value': '75', 'value_classification': 'Greed', 'timestamp': '1734566400'},\n",
       " {'value': '81',\n",
       "  'value_classification': 'Extreme Greed',\n",
       "  'timestamp': '1734480000'},\n",
       " {'value': '87',\n",
       "  'value_classification': 'Extreme Greed',\n",
       "  'timestamp': '1734393600'},\n",
       " {'value': '83',\n",
       "  'value_classification': 'Extreme Greed',\n",
       "  'timestamp': '1734307200'},\n",
       " {'value': '80',\n",
       "  'value_classification': 'Extreme Greed',\n",
       "  'timestamp': '1734220800'},\n",
       " {'value': '83',\n",
       "  'value_classification': 'Extreme Greed',\n",
       "  'timestamp': '1734134400'},\n",
       " {'value': '76',\n",
       "  'value_classification': 'Extreme Greed',\n",
       "  'timestamp': '1734048000'},\n",
       " {'value': '83',\n",
       "  'value_classification': 'Extreme Greed',\n",
       "  'timestamp': '1733961600'},\n",
       " {'value': '74', 'value_classification': 'Greed', 'timestamp': '1733875200'},\n",
       " {'value': '78',\n",
       "  'value_classification': 'Extreme Greed',\n",
       "  'timestamp': '1733788800'},\n",
       " {'value': '78',\n",
       "  'value_classification': 'Extreme Greed',\n",
       "  'timestamp': '1733702400'},\n",
       " {'value': '79',\n",
       "  'value_classification': 'Extreme Greed',\n",
       "  'timestamp': '1733616000'},\n",
       " {'value': '75', 'value_classification': 'Greed', 'timestamp': '1733529600'},\n",
       " {'value': '72', 'value_classification': 'Greed', 'timestamp': '1733443200'},\n",
       " {'value': '84',\n",
       "  'value_classification': 'Extreme Greed',\n",
       "  'timestamp': '1733356800'},\n",
       " {'value': '78',\n",
       "  'value_classification': 'Extreme Greed',\n",
       "  'timestamp': '1733270400'},\n",
       " {'value': '76',\n",
       "  'value_classification': 'Extreme Greed',\n",
       "  'timestamp': '1733184000'},\n",
       " {'value': '80',\n",
       "  'value_classification': 'Extreme Greed',\n",
       "  'timestamp': '1733097600'},\n",
       " {'value': '81',\n",
       "  'value_classification': 'Extreme Greed',\n",
       "  'timestamp': '1733011200'},\n",
       " {'value': '84',\n",
       "  'value_classification': 'Extreme Greed',\n",
       "  'timestamp': '1732924800'},\n",
       " {'value': '78',\n",
       "  'value_classification': 'Extreme Greed',\n",
       "  'timestamp': '1732838400'},\n",
       " {'value': '77',\n",
       "  'value_classification': 'Extreme Greed',\n",
       "  'timestamp': '1732752000'},\n",
       " {'value': '75', 'value_classification': 'Greed', 'timestamp': '1732665600'},\n",
       " {'value': '79',\n",
       "  'value_classification': 'Extreme Greed',\n",
       "  'timestamp': '1732579200'},\n",
       " {'value': '82',\n",
       "  'value_classification': 'Extreme Greed',\n",
       "  'timestamp': '1732492800'},\n",
       " {'value': '80',\n",
       "  'value_classification': 'Extreme Greed',\n",
       "  'timestamp': '1732406400'},\n",
       " {'value': '93',\n",
       "  'value_classification': 'Extreme Greed',\n",
       "  'timestamp': '1732320000'},\n",
       " {'value': '94',\n",
       "  'value_classification': 'Extreme Greed',\n",
       "  'timestamp': '1732233600'}]"
      ]
     },
     "execution_count": 30,
     "metadata": {},
     "output_type": "execute_result"
    }
   ],
   "source": [
    "response['data']"
   ]
  },
  {
   "cell_type": "code",
   "execution_count": null,
   "metadata": {},
   "outputs": [],
   "source": []
  }
 ],
 "metadata": {
  "kernelspec": {
   "display_name": "final_project_env",
   "language": "python",
   "name": "python3"
  },
  "language_info": {
   "codemirror_mode": {
    "name": "ipython",
    "version": 3
   },
   "file_extension": ".py",
   "mimetype": "text/x-python",
   "name": "python",
   "nbconvert_exporter": "python",
   "pygments_lexer": "ipython3",
   "version": "3.10.16"
  }
 },
 "nbformat": 4,
 "nbformat_minor": 2
}
