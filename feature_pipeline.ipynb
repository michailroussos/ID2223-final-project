{
 "cells": [
  {
   "cell_type": "code",
   "execution_count": 2,
   "metadata": {},
   "outputs": [],
   "source": [
    "test_mode = False"
   ]
  },
  {
   "cell_type": "code",
   "execution_count": 3,
   "metadata": {},
   "outputs": [
    {
     "name": "stderr",
     "output_type": "stream",
     "text": [
      "/opt/anaconda3/envs/crypto-env/lib/python3.10/site-packages/tqdm/auto.py:21: TqdmWarning: IProgress not found. Please update jupyter and ipywidgets. See https://ipywidgets.readthedocs.io/en/stable/user_install.html\n",
      "  from .autonotebook import tqdm as notebook_tqdm\n"
     ]
    }
   ],
   "source": [
    "import pandas as pd\n",
    "import hopsworks\n",
    "from utils import *\n",
    "import json\n",
    "import os\n",
    "import warnings\n",
    "from dotenv import load_dotenv\n",
    "import datetime\n",
    "#from datetime import timezone\n",
    "\n",
    "warnings.filterwarnings(\"ignore\")"
   ]
  },
  {
   "cell_type": "code",
   "execution_count": 4,
   "metadata": {},
   "outputs": [
    {
     "name": "stdout",
     "output_type": "stream",
     "text": [
      "2025-01-01 21:23:41,341 INFO: Initializing external client\n",
      "2025-01-01 21:23:41,341 INFO: Base URL: https://c.app.hopsworks.ai:443\n",
      "2025-01-01 21:23:42,874 INFO: Python Engine initialized.\n",
      "\n",
      "Logged in to project, explore it here https://c.app.hopsworks.ai:443/p/1164448\n"
     ]
    }
   ],
   "source": [
    "load_dotenv()\n",
    "#os.environ[\"HOPSWORKS_API_KEY\"] = os.getenv(\"HOPSWORKS_API_KEY\")\n",
    "\n",
    "\n",
    "project = hopsworks.login()"
   ]
  },
  {
   "cell_type": "code",
   "execution_count": 5,
   "metadata": {},
   "outputs": [
    {
     "data": {
      "text/plain": [
       "1735759424"
      ]
     },
     "execution_count": 5,
     "metadata": {},
     "output_type": "execute_result"
    }
   ],
   "source": [
    "\n",
    "fs = project.get_feature_store() \n",
    "#secrets = secrets_api(project.name)\n",
    "\n",
    "# This line will fail if you have not registered the CRYPTO_API_KEY as a secret in Hopsworks\n",
    "#CRYPTO_API_KEY = secrets.get_secret(\"CRYPTO_API_KEY\").value\n",
    "\n",
    "#CRYPTO_API_KEY = os.getenv(\"CRYPTO_API_KEY\")\n",
    "today = int(time.time())\n",
    "seconds_in_one_day = 24 * 60 * 60\n",
    "\n",
    "\n",
    "today\n"
   ]
  },
  {
   "cell_type": "code",
   "execution_count": 6,
   "metadata": {},
   "outputs": [
    {
     "name": "stdout",
     "output_type": "stream",
     "text": [
      "Finished: Reading data from Hopsworks, using Hopsworks Feature Query Service (0.65s) \n",
      "The maximum date is: 1735344000\n",
      "Difference in days: 4\n"
     ]
    }
   ],
   "source": [
    "\n",
    "# Step 2: Retrieve the feature group by name and version\n",
    "solana_feature_group = fs.get_feature_group(\n",
    "    name=\"solana\",  \n",
    "    version=1\n",
    ")\n",
    "\n",
    "# Step 3: Read the data from the feature group\n",
    "s_data_df = solana_feature_group.select([\"timestamp\"]).read()\n",
    "\n",
    "# Step 4: Find the maximum date\n",
    "solana_max_date = s_data_df['timestamp'].max()\n",
    "solana_difference = (today - solana_max_date)//seconds_in_one_day\n",
    "\n",
    "# Step 5: Print the result\n",
    "print(f\"The maximum date is: {solana_max_date}\")\n",
    "print(f\"Difference in days: {solana_difference}\")\n"
   ]
  },
  {
   "cell_type": "code",
   "execution_count": 7,
   "metadata": {},
   "outputs": [
    {
     "name": "stdout",
     "output_type": "stream",
     "text": [
      "Finished: Reading data from Hopsworks, using Hopsworks Feature Query Service (0.56s) \n",
      "The maximum date is: 1735344000\n",
      "Difference in days: 4\n"
     ]
    }
   ],
   "source": [
    "# Step 2: Retrieve the feature group by name and version\n",
    "bitcoin_feature_group = fs.get_feature_group(\n",
    "    name=\"bitcoin\",  \n",
    "    version=1\n",
    ")\n",
    "\n",
    "# Step 3: Read the data from the feature group\n",
    "b_data_df = bitcoin_feature_group.select([\"timestamp\"]).read()\n",
    "\n",
    "# Step 4: Find the maximum date\n",
    "bitcoin_max_date = b_data_df['timestamp'].max()\n",
    "bitcoin_difference = (today - bitcoin_max_date)//seconds_in_one_day\n",
    "\n",
    "# Step 5: Print the result\n",
    "print(f\"The maximum date is: {bitcoin_max_date}\")\n",
    "print(f\"Difference in days: {bitcoin_difference}\")\n"
   ]
  },
  {
   "cell_type": "code",
   "execution_count": 8,
   "metadata": {},
   "outputs": [
    {
     "name": "stdout",
     "output_type": "stream",
     "text": [
      "Finished: Reading data from Hopsworks, using Hopsworks Feature Query Service (0.75s) \n",
      "The maximum date is: 1735344000\n",
      "Difference in days: 4\n"
     ]
    }
   ],
   "source": [
    "#fs = project.get_feature_store(name='kth_lab1_2024_featurestore')\n",
    "fs = project.get_feature_store()\n",
    "\n",
    "fng_feature_group = fs.get_feature_group(\n",
    "    name='f_n_g_index', \n",
    "    version=8)\n",
    "fng_df = fng_feature_group.read()\n",
    "\n",
    "# Step 4: Find the maximum date\n",
    "fng_max_date = int(fng_df['timestamp'].max())\n",
    "fng_difference = (today - fng_max_date)//seconds_in_one_day\n",
    "\n",
    "# Step 5: Print the result\n",
    "print(f\"The maximum date is: {fng_max_date}\")\n",
    "print(f\"Difference in days: {fng_difference}\")\n"
   ]
  },
  {
   "cell_type": "markdown",
   "metadata": {},
   "source": [
    "### Getting missing data"
   ]
  },
  {
   "cell_type": "markdown",
   "metadata": {},
   "source": [
    "### Request solana price from last available data till now"
   ]
  },
  {
   "cell_type": "code",
   "execution_count": 9,
   "metadata": {},
   "outputs": [
    {
     "name": "stdout",
     "output_type": "stream",
     "text": [
      "Num entries to add:  4\n"
     ]
    }
   ],
   "source": [
    "\n",
    "url = \"https://data-api.cryptocompare.com//spot/v1/historical/days\"\n",
    "\n",
    "# Load environment variables from the .env file\n",
    "load_dotenv()\n",
    "crypto_api_key = os.getenv(\"CRYPTO_API_KEY\")\n",
    "\n",
    "\n",
    "params = {\n",
    "    \"market\":\"kraken\",\n",
    "    \"instrument\": \"SOL-USD\",  \n",
    "    \"limit\": solana_difference,  \n",
    "    \"api_key\": crypto_api_key,\n",
    "}\n",
    "if solana_difference!=0:\n",
    "    sol_response = trigger_request(url, params)\n",
    "    sol_response_df = pd.DataFrame(sol_response[\"Data\"])\n",
    "    sol_response_df = sol_response_df[[\"TIMESTAMP\", 'OPEN', 'HIGH', 'LOW', 'CLOSE', \"VOLUME\", 'VOLUME_BUY', 'VOLUME_SELL']]\n",
    "    sol_response_df.columns = sol_response_df.columns.str.lower()\n",
    "    print(\"Num entries to add: \", len(sol_response_df))\n",
    "else:\n",
    "    sol_response_df = pd.DataFrame(columns=[\"timestamp\",\"open\",\"high\", \"low\",\"close\", \"volume\", \"volume_buy\", \"volume_sell\"])"
   ]
  },
  {
   "cell_type": "code",
   "execution_count": 10,
   "metadata": {},
   "outputs": [
    {
     "data": {
      "text/html": [
       "<div>\n",
       "<style scoped>\n",
       "    .dataframe tbody tr th:only-of-type {\n",
       "        vertical-align: middle;\n",
       "    }\n",
       "\n",
       "    .dataframe tbody tr th {\n",
       "        vertical-align: top;\n",
       "    }\n",
       "\n",
       "    .dataframe thead th {\n",
       "        text-align: right;\n",
       "    }\n",
       "</style>\n",
       "<table border=\"1\" class=\"dataframe\">\n",
       "  <thead>\n",
       "    <tr style=\"text-align: right;\">\n",
       "      <th></th>\n",
       "      <th>timestamp</th>\n",
       "      <th>open</th>\n",
       "      <th>high</th>\n",
       "      <th>low</th>\n",
       "      <th>close</th>\n",
       "      <th>volume</th>\n",
       "      <th>volume_buy</th>\n",
       "      <th>volume_sell</th>\n",
       "    </tr>\n",
       "  </thead>\n",
       "  <tbody>\n",
       "    <tr>\n",
       "      <th>0</th>\n",
       "      <td>1735430400</td>\n",
       "      <td>195.15</td>\n",
       "      <td>197.19</td>\n",
       "      <td>188.26</td>\n",
       "      <td>189.60</td>\n",
       "      <td>120179.830193</td>\n",
       "      <td>45590.791614</td>\n",
       "      <td>74589.038579</td>\n",
       "    </tr>\n",
       "    <tr>\n",
       "      <th>1</th>\n",
       "      <td>1735516800</td>\n",
       "      <td>189.60</td>\n",
       "      <td>196.10</td>\n",
       "      <td>185.58</td>\n",
       "      <td>191.06</td>\n",
       "      <td>186701.859563</td>\n",
       "      <td>80979.111912</td>\n",
       "      <td>105722.747651</td>\n",
       "    </tr>\n",
       "    <tr>\n",
       "      <th>2</th>\n",
       "      <td>1735603200</td>\n",
       "      <td>191.06</td>\n",
       "      <td>198.73</td>\n",
       "      <td>187.76</td>\n",
       "      <td>188.95</td>\n",
       "      <td>169485.435743</td>\n",
       "      <td>98813.418835</td>\n",
       "      <td>70672.016908</td>\n",
       "    </tr>\n",
       "    <tr>\n",
       "      <th>3</th>\n",
       "      <td>1735689600</td>\n",
       "      <td>188.95</td>\n",
       "      <td>192.19</td>\n",
       "      <td>187.63</td>\n",
       "      <td>191.97</td>\n",
       "      <td>68217.177694</td>\n",
       "      <td>38111.182699</td>\n",
       "      <td>30105.994995</td>\n",
       "    </tr>\n",
       "  </tbody>\n",
       "</table>\n",
       "</div>"
      ],
      "text/plain": [
       "    timestamp    open    high     low   close         volume    volume_buy  \\\n",
       "0  1735430400  195.15  197.19  188.26  189.60  120179.830193  45590.791614   \n",
       "1  1735516800  189.60  196.10  185.58  191.06  186701.859563  80979.111912   \n",
       "2  1735603200  191.06  198.73  187.76  188.95  169485.435743  98813.418835   \n",
       "3  1735689600  188.95  192.19  187.63  191.97   68217.177694  38111.182699   \n",
       "\n",
       "     volume_sell  \n",
       "0   74589.038579  \n",
       "1  105722.747651  \n",
       "2   70672.016908  \n",
       "3   30105.994995  "
      ]
     },
     "execution_count": 10,
     "metadata": {},
     "output_type": "execute_result"
    }
   ],
   "source": [
    "sol_response_df.head()"
   ]
  },
  {
   "cell_type": "markdown",
   "metadata": {},
   "source": [
    "### Request bitcoin price from last available data till now"
   ]
  },
  {
   "cell_type": "code",
   "execution_count": 11,
   "metadata": {},
   "outputs": [
    {
     "name": "stdout",
     "output_type": "stream",
     "text": [
      "Num entries to add:  4\n"
     ]
    },
    {
     "data": {
      "text/html": [
       "<div>\n",
       "<style scoped>\n",
       "    .dataframe tbody tr th:only-of-type {\n",
       "        vertical-align: middle;\n",
       "    }\n",
       "\n",
       "    .dataframe tbody tr th {\n",
       "        vertical-align: top;\n",
       "    }\n",
       "\n",
       "    .dataframe thead th {\n",
       "        text-align: right;\n",
       "    }\n",
       "</style>\n",
       "<table border=\"1\" class=\"dataframe\">\n",
       "  <thead>\n",
       "    <tr style=\"text-align: right;\">\n",
       "      <th></th>\n",
       "      <th>timestamp</th>\n",
       "      <th>open</th>\n",
       "      <th>high</th>\n",
       "      <th>low</th>\n",
       "      <th>close</th>\n",
       "      <th>volume</th>\n",
       "      <th>volume_buy</th>\n",
       "      <th>volume_sell</th>\n",
       "    </tr>\n",
       "  </thead>\n",
       "  <tbody>\n",
       "    <tr>\n",
       "      <th>0</th>\n",
       "      <td>1735430400</td>\n",
       "      <td>95204.1</td>\n",
       "      <td>95204.1</td>\n",
       "      <td>92860.7</td>\n",
       "      <td>93551.0</td>\n",
       "      <td>698.547127</td>\n",
       "      <td>229.720452</td>\n",
       "      <td>468.826675</td>\n",
       "    </tr>\n",
       "    <tr>\n",
       "      <th>1</th>\n",
       "      <td>1735516800</td>\n",
       "      <td>93551.0</td>\n",
       "      <td>94858.7</td>\n",
       "      <td>91256.6</td>\n",
       "      <td>92611.3</td>\n",
       "      <td>2168.291728</td>\n",
       "      <td>994.214537</td>\n",
       "      <td>1174.077191</td>\n",
       "    </tr>\n",
       "    <tr>\n",
       "      <th>2</th>\n",
       "      <td>1735603200</td>\n",
       "      <td>92611.3</td>\n",
       "      <td>96040.0</td>\n",
       "      <td>91934.1</td>\n",
       "      <td>93370.9</td>\n",
       "      <td>1697.950414</td>\n",
       "      <td>943.514778</td>\n",
       "      <td>754.435636</td>\n",
       "    </tr>\n",
       "    <tr>\n",
       "      <th>3</th>\n",
       "      <td>1735689600</td>\n",
       "      <td>93370.9</td>\n",
       "      <td>94250.0</td>\n",
       "      <td>92588.1</td>\n",
       "      <td>93999.9</td>\n",
       "      <td>435.492907</td>\n",
       "      <td>213.283399</td>\n",
       "      <td>222.209508</td>\n",
       "    </tr>\n",
       "  </tbody>\n",
       "</table>\n",
       "</div>"
      ],
      "text/plain": [
       "    timestamp     open     high      low    close       volume  volume_buy  \\\n",
       "0  1735430400  95204.1  95204.1  92860.7  93551.0   698.547127  229.720452   \n",
       "1  1735516800  93551.0  94858.7  91256.6  92611.3  2168.291728  994.214537   \n",
       "2  1735603200  92611.3  96040.0  91934.1  93370.9  1697.950414  943.514778   \n",
       "3  1735689600  93370.9  94250.0  92588.1  93999.9   435.492907  213.283399   \n",
       "\n",
       "   volume_sell  \n",
       "0   468.826675  \n",
       "1  1174.077191  \n",
       "2   754.435636  \n",
       "3   222.209508  "
      ]
     },
     "execution_count": 11,
     "metadata": {},
     "output_type": "execute_result"
    }
   ],
   "source": [
    "load_dotenv()\n",
    "crypto_api_key = os.getenv(\"CRYPTO_API_KEY\")\n",
    "\n",
    "\n",
    "params = {\n",
    "    \"market\":\"kraken\",\n",
    "    \"instrument\": \"BTC-USD\",  \n",
    "    \"limit\": bitcoin_difference,  \n",
    "    \"api_key\": crypto_api_key,\n",
    "}\n",
    "\n",
    "if bitcoin_difference>0:\n",
    "    bitcoin_response = trigger_request(url, params)\n",
    "    bitcoin_response_df = pd.DataFrame(bitcoin_response[\"Data\"])\n",
    "    bitcoin_response_df = bitcoin_response_df[[\"TIMESTAMP\", 'OPEN', 'HIGH', 'LOW', 'CLOSE', \"VOLUME\", 'VOLUME_BUY', 'VOLUME_SELL']]\n",
    "    bitcoin_response_df.columns = bitcoin_response_df.columns.str.lower()\n",
    "    print(\"Num entries to add: \", len(bitcoin_response_df))\n",
    "else:\n",
    "    bitcoin_response_df = pd.DataFrame(columns=[\"timestamp\",\"open\",\"high\", \"low\",\"close\", \"volume\", \"volume_buy\", \"volume_sell\"])\n",
    "\n",
    "bitcoin_response_df.head()"
   ]
  },
  {
   "cell_type": "code",
   "execution_count": 12,
   "metadata": {},
   "outputs": [
    {
     "data": {
      "text/html": [
       "<div>\n",
       "<style scoped>\n",
       "    .dataframe tbody tr th:only-of-type {\n",
       "        vertical-align: middle;\n",
       "    }\n",
       "\n",
       "    .dataframe tbody tr th {\n",
       "        vertical-align: top;\n",
       "    }\n",
       "\n",
       "    .dataframe thead th {\n",
       "        text-align: right;\n",
       "    }\n",
       "</style>\n",
       "<table border=\"1\" class=\"dataframe\">\n",
       "  <thead>\n",
       "    <tr style=\"text-align: right;\">\n",
       "      <th></th>\n",
       "      <th>timestamp</th>\n",
       "      <th>open</th>\n",
       "      <th>high</th>\n",
       "      <th>low</th>\n",
       "      <th>close</th>\n",
       "      <th>volume</th>\n",
       "      <th>volume_buy</th>\n",
       "      <th>volume_sell</th>\n",
       "    </tr>\n",
       "  </thead>\n",
       "  <tbody>\n",
       "    <tr>\n",
       "      <th>0</th>\n",
       "      <td>1735430400</td>\n",
       "      <td>95204.1</td>\n",
       "      <td>95204.1</td>\n",
       "      <td>92860.7</td>\n",
       "      <td>93551.0</td>\n",
       "      <td>698.547127</td>\n",
       "      <td>229.720452</td>\n",
       "      <td>468.826675</td>\n",
       "    </tr>\n",
       "    <tr>\n",
       "      <th>1</th>\n",
       "      <td>1735516800</td>\n",
       "      <td>93551.0</td>\n",
       "      <td>94858.7</td>\n",
       "      <td>91256.6</td>\n",
       "      <td>92611.3</td>\n",
       "      <td>2168.291728</td>\n",
       "      <td>994.214537</td>\n",
       "      <td>1174.077191</td>\n",
       "    </tr>\n",
       "    <tr>\n",
       "      <th>2</th>\n",
       "      <td>1735603200</td>\n",
       "      <td>92611.3</td>\n",
       "      <td>96040.0</td>\n",
       "      <td>91934.1</td>\n",
       "      <td>93370.9</td>\n",
       "      <td>1697.950414</td>\n",
       "      <td>943.514778</td>\n",
       "      <td>754.435636</td>\n",
       "    </tr>\n",
       "    <tr>\n",
       "      <th>3</th>\n",
       "      <td>1735689600</td>\n",
       "      <td>93370.9</td>\n",
       "      <td>94250.0</td>\n",
       "      <td>92588.1</td>\n",
       "      <td>93999.9</td>\n",
       "      <td>435.492907</td>\n",
       "      <td>213.283399</td>\n",
       "      <td>222.209508</td>\n",
       "    </tr>\n",
       "  </tbody>\n",
       "</table>\n",
       "</div>"
      ],
      "text/plain": [
       "    timestamp     open     high      low    close       volume  volume_buy  \\\n",
       "0  1735430400  95204.1  95204.1  92860.7  93551.0   698.547127  229.720452   \n",
       "1  1735516800  93551.0  94858.7  91256.6  92611.3  2168.291728  994.214537   \n",
       "2  1735603200  92611.3  96040.0  91934.1  93370.9  1697.950414  943.514778   \n",
       "3  1735689600  93370.9  94250.0  92588.1  93999.9   435.492907  213.283399   \n",
       "\n",
       "   volume_sell  \n",
       "0   468.826675  \n",
       "1  1174.077191  \n",
       "2   754.435636  \n",
       "3   222.209508  "
      ]
     },
     "execution_count": 12,
     "metadata": {},
     "output_type": "execute_result"
    }
   ],
   "source": [
    "bitcoin_response_df"
   ]
  },
  {
   "cell_type": "markdown",
   "metadata": {},
   "source": [
    "### Request fear and greed index values from last available data till now"
   ]
  },
  {
   "cell_type": "code",
   "execution_count": 23,
   "metadata": {},
   "outputs": [
    {
     "data": {
      "text/html": [
       "<div>\n",
       "<style scoped>\n",
       "    .dataframe tbody tr th:only-of-type {\n",
       "        vertical-align: middle;\n",
       "    }\n",
       "\n",
       "    .dataframe tbody tr th {\n",
       "        vertical-align: top;\n",
       "    }\n",
       "\n",
       "    .dataframe thead th {\n",
       "        text-align: right;\n",
       "    }\n",
       "</style>\n",
       "<table border=\"1\" class=\"dataframe\">\n",
       "  <thead>\n",
       "    <tr style=\"text-align: right;\">\n",
       "      <th></th>\n",
       "      <th>fng_value</th>\n",
       "      <th>fng_classification</th>\n",
       "      <th>timestamp</th>\n",
       "    </tr>\n",
       "  </thead>\n",
       "  <tbody>\n",
       "    <tr>\n",
       "      <th>0</th>\n",
       "      <td>66</td>\n",
       "      <td>Greed</td>\n",
       "      <td>1.735690e+09</td>\n",
       "    </tr>\n",
       "    <tr>\n",
       "      <th>1</th>\n",
       "      <td>64</td>\n",
       "      <td>Greed</td>\n",
       "      <td>1.735603e+09</td>\n",
       "    </tr>\n",
       "    <tr>\n",
       "      <th>2</th>\n",
       "      <td>65</td>\n",
       "      <td>Greed</td>\n",
       "      <td>1.735517e+09</td>\n",
       "    </tr>\n",
       "    <tr>\n",
       "      <th>3</th>\n",
       "      <td>73</td>\n",
       "      <td>Greed</td>\n",
       "      <td>1.735430e+09</td>\n",
       "    </tr>\n",
       "  </tbody>\n",
       "</table>\n",
       "</div>"
      ],
      "text/plain": [
       "  fng_value fng_classification     timestamp\n",
       "0        66              Greed  1.735690e+09\n",
       "1        64              Greed  1.735603e+09\n",
       "2        65              Greed  1.735517e+09\n",
       "3        73              Greed  1.735430e+09"
      ]
     },
     "execution_count": 23,
     "metadata": {},
     "output_type": "execute_result"
    }
   ],
   "source": [
    "url = \"https://api.alternative.me/fng/?\"\n",
    "\n",
    "# Set the parameters for the API request\n",
    "params = {\n",
    "    \"limit\": fng_difference  # Number of days of data to retrieve\n",
    "}\n",
    "\n",
    "if fng_difference>0:\n",
    "    fng_response = trigger_request(url, params)\n",
    "    fng_df = pd.DataFrame(fng_response['data'])\n",
    "    fng_df['timestamp'] = fng_df['timestamp'].astype(float)\n",
    "    fng_df.rename(columns={'value_classification': 'fng_classification'}, inplace=True)\n",
    "    fng_df.rename(columns={'value': 'fng_value'}, inplace=True)\n",
    "\n",
    "    fng_df.drop(columns=[\"time_until_update\"],inplace=True)\n",
    "    fng_df.head()\n",
    "else:\n",
    "    fng_df = pd.DataFrame(columns=[\"fng_value\",\"fng_classification\",\"timestamp\"])\n",
    "fng_df.head()"
   ]
  },
  {
   "cell_type": "markdown",
   "metadata": {},
   "source": [
    "### Now we need to use the responses to update the data in Hopsworks"
   ]
  },
  {
   "cell_type": "code",
   "execution_count": 19,
   "metadata": {},
   "outputs": [
    {
     "name": "stderr",
     "output_type": "stream",
     "text": [
      "Uploading Dataframe: 100.00% |██████████| Rows 4/4 | Elapsed Time: 00:01 | Remaining Time: 00:00\n"
     ]
    },
    {
     "name": "stdout",
     "output_type": "stream",
     "text": [
      "Launching job: solana_1_offline_fg_materialization\n",
      "Job started successfully, you can follow the progress at \n",
      "https://c.app.hopsworks.ai:443/p/1164448/jobs/named/solana_1_offline_fg_materialization/executions\n"
     ]
    }
   ],
   "source": [
    "if not test_mode and sol_response_df.shape[0]>0:\n",
    "    solana_feature_group.insert(sol_response_df)\n",
    "\n"
   ]
  },
  {
   "cell_type": "code",
   "execution_count": 20,
   "metadata": {},
   "outputs": [
    {
     "name": "stderr",
     "output_type": "stream",
     "text": [
      "Uploading Dataframe: 25.00% |██▌       | Rows 1/4 | Elapsed Time: 00:01 | Remaining Time: 00:04"
     ]
    },
    {
     "ename": "KeyboardInterrupt",
     "evalue": "",
     "output_type": "error",
     "traceback": [
      "\u001b[0;31m---------------------------------------------------------------------------\u001b[0m",
      "\u001b[0;31mKeyboardInterrupt\u001b[0m                         Traceback (most recent call last)",
      "Cell \u001b[0;32mIn[20], line 2\u001b[0m\n\u001b[1;32m      1\u001b[0m \u001b[38;5;28;01mif\u001b[39;00m \u001b[38;5;129;01mnot\u001b[39;00m test_mode \u001b[38;5;129;01mand\u001b[39;00m bitcoin_response_df\u001b[38;5;241m.\u001b[39mshape[\u001b[38;5;241m0\u001b[39m]\u001b[38;5;241m>\u001b[39m\u001b[38;5;241m0\u001b[39m:\n\u001b[0;32m----> 2\u001b[0m     \u001b[43mbitcoin_feature_group\u001b[49m\u001b[38;5;241;43m.\u001b[39;49m\u001b[43minsert\u001b[49m\u001b[43m(\u001b[49m\u001b[43mbitcoin_response_df\u001b[49m\u001b[43m)\u001b[49m\n",
      "File \u001b[0;32m/opt/anaconda3/envs/crypto-env/lib/python3.10/site-packages/hsfs/feature_group.py:2940\u001b[0m, in \u001b[0;36mFeatureGroup.insert\u001b[0;34m(self, features, overwrite, operation, storage, write_options, validation_options, wait)\u001b[0m\n\u001b[1;32m   2937\u001b[0m \u001b[38;5;28;01mif\u001b[39;00m \u001b[38;5;129;01mnot\u001b[39;00m \u001b[38;5;28mself\u001b[39m\u001b[38;5;241m.\u001b[39m_id \u001b[38;5;129;01mand\u001b[39;00m \u001b[38;5;28mself\u001b[39m\u001b[38;5;241m.\u001b[39m_offline_backfill_every_hr \u001b[38;5;129;01mis\u001b[39;00m \u001b[38;5;129;01mnot\u001b[39;00m \u001b[38;5;28;01mNone\u001b[39;00m:\n\u001b[1;32m   2938\u001b[0m     write_options[\u001b[38;5;124m\"\u001b[39m\u001b[38;5;124moffline_backfill_every_hr\u001b[39m\u001b[38;5;124m\"\u001b[39m] \u001b[38;5;241m=\u001b[39m \u001b[38;5;28mself\u001b[39m\u001b[38;5;241m.\u001b[39m_offline_backfill_every_hr\n\u001b[0;32m-> 2940\u001b[0m job, ge_report \u001b[38;5;241m=\u001b[39m \u001b[38;5;28;43mself\u001b[39;49m\u001b[38;5;241;43m.\u001b[39;49m\u001b[43m_feature_group_engine\u001b[49m\u001b[38;5;241;43m.\u001b[39;49m\u001b[43minsert\u001b[49m\u001b[43m(\u001b[49m\n\u001b[1;32m   2941\u001b[0m \u001b[43m    \u001b[49m\u001b[38;5;28;43mself\u001b[39;49m\u001b[43m,\u001b[49m\n\u001b[1;32m   2942\u001b[0m \u001b[43m    \u001b[49m\u001b[43mfeature_dataframe\u001b[49m\u001b[38;5;241;43m=\u001b[39;49m\u001b[43mfeature_dataframe\u001b[49m\u001b[43m,\u001b[49m\n\u001b[1;32m   2943\u001b[0m \u001b[43m    \u001b[49m\u001b[43moverwrite\u001b[49m\u001b[38;5;241;43m=\u001b[39;49m\u001b[43moverwrite\u001b[49m\u001b[43m,\u001b[49m\n\u001b[1;32m   2944\u001b[0m \u001b[43m    \u001b[49m\u001b[43moperation\u001b[49m\u001b[38;5;241;43m=\u001b[39;49m\u001b[43moperation\u001b[49m\u001b[43m,\u001b[49m\n\u001b[1;32m   2945\u001b[0m \u001b[43m    \u001b[49m\u001b[43mstorage\u001b[49m\u001b[38;5;241;43m=\u001b[39;49m\u001b[43mstorage\u001b[49m\u001b[38;5;241;43m.\u001b[39;49m\u001b[43mlower\u001b[49m\u001b[43m(\u001b[49m\u001b[43m)\u001b[49m\u001b[43m \u001b[49m\u001b[38;5;28;43;01mif\u001b[39;49;00m\u001b[43m \u001b[49m\u001b[43mstorage\u001b[49m\u001b[43m \u001b[49m\u001b[38;5;129;43;01mis\u001b[39;49;00m\u001b[43m \u001b[49m\u001b[38;5;129;43;01mnot\u001b[39;49;00m\u001b[43m \u001b[49m\u001b[38;5;28;43;01mNone\u001b[39;49;00m\u001b[43m \u001b[49m\u001b[38;5;28;43;01melse\u001b[39;49;00m\u001b[43m \u001b[49m\u001b[38;5;28;43;01mNone\u001b[39;49;00m\u001b[43m,\u001b[49m\n\u001b[1;32m   2946\u001b[0m \u001b[43m    \u001b[49m\u001b[43mwrite_options\u001b[49m\u001b[38;5;241;43m=\u001b[39;49m\u001b[43mwrite_options\u001b[49m\u001b[43m,\u001b[49m\n\u001b[1;32m   2947\u001b[0m \u001b[43m    \u001b[49m\u001b[43mvalidation_options\u001b[49m\u001b[38;5;241;43m=\u001b[39;49m\u001b[43m{\u001b[49m\u001b[38;5;124;43m\"\u001b[39;49m\u001b[38;5;124;43msave_report\u001b[39;49m\u001b[38;5;124;43m\"\u001b[39;49m\u001b[43m:\u001b[49m\u001b[43m \u001b[49m\u001b[38;5;28;43;01mTrue\u001b[39;49;00m\u001b[43m,\u001b[49m\u001b[43m \u001b[49m\u001b[38;5;241;43m*\u001b[39;49m\u001b[38;5;241;43m*\u001b[39;49m\u001b[43mvalidation_options\u001b[49m\u001b[43m}\u001b[49m\u001b[43m,\u001b[49m\n\u001b[1;32m   2948\u001b[0m \u001b[43m\u001b[49m\u001b[43m)\u001b[49m\n\u001b[1;32m   2950\u001b[0m \u001b[38;5;28;01mif\u001b[39;00m engine\u001b[38;5;241m.\u001b[39mget_type()\u001b[38;5;241m.\u001b[39mstartswith(\u001b[38;5;124m\"\u001b[39m\u001b[38;5;124mspark\u001b[39m\u001b[38;5;124m\"\u001b[39m) \u001b[38;5;129;01mand\u001b[39;00m \u001b[38;5;129;01mnot\u001b[39;00m \u001b[38;5;28mself\u001b[39m\u001b[38;5;241m.\u001b[39mstream:\n\u001b[1;32m   2951\u001b[0m     \u001b[38;5;66;03m# Also, only compute statistics if stream is False.\u001b[39;00m\n\u001b[1;32m   2952\u001b[0m     \u001b[38;5;66;03m# if True, the backfill job has not been triggered and the data has not been inserted (it's in Kafka)\u001b[39;00m\n\u001b[1;32m   2953\u001b[0m     \u001b[38;5;28mself\u001b[39m\u001b[38;5;241m.\u001b[39mcompute_statistics()\n",
      "File \u001b[0;32m/opt/anaconda3/envs/crypto-env/lib/python3.10/site-packages/hsfs/core/feature_group_engine.py:212\u001b[0m, in \u001b[0;36mFeatureGroupEngine.insert\u001b[0;34m(self, feature_group, feature_dataframe, overwrite, operation, storage, write_options, validation_options)\u001b[0m\n\u001b[1;32m    208\u001b[0m \u001b[38;5;28;01mif\u001b[39;00m overwrite:\n\u001b[1;32m    209\u001b[0m     \u001b[38;5;28mself\u001b[39m\u001b[38;5;241m.\u001b[39m_feature_group_api\u001b[38;5;241m.\u001b[39mdelete_content(feature_group)\n\u001b[1;32m    211\u001b[0m \u001b[38;5;28;01mreturn\u001b[39;00m (\n\u001b[0;32m--> 212\u001b[0m     \u001b[43mengine\u001b[49m\u001b[38;5;241;43m.\u001b[39;49m\u001b[43mget_instance\u001b[49m\u001b[43m(\u001b[49m\u001b[43m)\u001b[49m\u001b[38;5;241;43m.\u001b[39;49m\u001b[43msave_dataframe\u001b[49m\u001b[43m(\u001b[49m\n\u001b[1;32m    213\u001b[0m \u001b[43m        \u001b[49m\u001b[43mfeature_group\u001b[49m\u001b[43m,\u001b[49m\n\u001b[1;32m    214\u001b[0m \u001b[43m        \u001b[49m\u001b[43mfeature_dataframe\u001b[49m\u001b[43m,\u001b[49m\n\u001b[1;32m    215\u001b[0m \u001b[43m        \u001b[49m\u001b[38;5;124;43m\"\u001b[39;49m\u001b[38;5;124;43mbulk_insert\u001b[39;49m\u001b[38;5;124;43m\"\u001b[39;49m\u001b[43m \u001b[49m\u001b[38;5;28;43;01mif\u001b[39;49;00m\u001b[43m \u001b[49m\u001b[43moverwrite\u001b[49m\u001b[43m \u001b[49m\u001b[38;5;28;43;01melse\u001b[39;49;00m\u001b[43m \u001b[49m\u001b[43moperation\u001b[49m\u001b[43m,\u001b[49m\n\u001b[1;32m    216\u001b[0m \u001b[43m        \u001b[49m\u001b[43mfeature_group\u001b[49m\u001b[38;5;241;43m.\u001b[39;49m\u001b[43monline_enabled\u001b[49m\u001b[43m,\u001b[49m\n\u001b[1;32m    217\u001b[0m \u001b[43m        \u001b[49m\u001b[43mstorage\u001b[49m\u001b[43m,\u001b[49m\n\u001b[1;32m    218\u001b[0m \u001b[43m        \u001b[49m\u001b[43moffline_write_options\u001b[49m\u001b[43m,\u001b[49m\n\u001b[1;32m    219\u001b[0m \u001b[43m        \u001b[49m\u001b[43monline_write_options\u001b[49m\u001b[43m,\u001b[49m\n\u001b[1;32m    220\u001b[0m \u001b[43m    \u001b[49m\u001b[43m)\u001b[49m,\n\u001b[1;32m    221\u001b[0m     ge_report,\n\u001b[1;32m    222\u001b[0m )\n",
      "File \u001b[0;32m/opt/anaconda3/envs/crypto-env/lib/python3.10/site-packages/hsfs/engine/python.py:815\u001b[0m, in \u001b[0;36mEngine.save_dataframe\u001b[0;34m(self, feature_group, dataframe, operation, online_enabled, storage, offline_write_options, online_write_options, validation_id)\u001b[0m\n\u001b[1;32m    800\u001b[0m \u001b[38;5;28;01mdef\u001b[39;00m \u001b[38;5;21msave_dataframe\u001b[39m(\n\u001b[1;32m    801\u001b[0m     \u001b[38;5;28mself\u001b[39m,\n\u001b[1;32m    802\u001b[0m     feature_group: FeatureGroup,\n\u001b[0;32m   (...)\u001b[0m\n\u001b[1;32m    809\u001b[0m     validation_id: Optional[\u001b[38;5;28mint\u001b[39m] \u001b[38;5;241m=\u001b[39m \u001b[38;5;28;01mNone\u001b[39;00m,\n\u001b[1;32m    810\u001b[0m ) \u001b[38;5;241m-\u001b[39m\u001b[38;5;241m>\u001b[39m Optional[job\u001b[38;5;241m.\u001b[39mJob]:\n\u001b[1;32m    811\u001b[0m     \u001b[38;5;28;01mif\u001b[39;00m (\n\u001b[1;32m    812\u001b[0m         \u001b[38;5;28mhasattr\u001b[39m(feature_group, \u001b[38;5;124m\"\u001b[39m\u001b[38;5;124mEXTERNAL_FEATURE_GROUP\u001b[39m\u001b[38;5;124m\"\u001b[39m)\n\u001b[1;32m    813\u001b[0m         \u001b[38;5;129;01mand\u001b[39;00m feature_group\u001b[38;5;241m.\u001b[39monline_enabled\n\u001b[1;32m    814\u001b[0m     ) \u001b[38;5;129;01mor\u001b[39;00m feature_group\u001b[38;5;241m.\u001b[39mstream:\n\u001b[0;32m--> 815\u001b[0m         \u001b[38;5;28;01mreturn\u001b[39;00m \u001b[38;5;28;43mself\u001b[39;49m\u001b[38;5;241;43m.\u001b[39;49m\u001b[43m_write_dataframe_kafka\u001b[49m\u001b[43m(\u001b[49m\n\u001b[1;32m    816\u001b[0m \u001b[43m            \u001b[49m\u001b[43mfeature_group\u001b[49m\u001b[43m,\u001b[49m\u001b[43m \u001b[49m\u001b[43mdataframe\u001b[49m\u001b[43m,\u001b[49m\u001b[43m \u001b[49m\u001b[43moffline_write_options\u001b[49m\n\u001b[1;32m    817\u001b[0m \u001b[43m        \u001b[49m\u001b[43m)\u001b[49m\n\u001b[1;32m    818\u001b[0m     \u001b[38;5;28;01melse\u001b[39;00m:\n\u001b[1;32m    819\u001b[0m         \u001b[38;5;66;03m# for backwards compatibility\u001b[39;00m\n\u001b[1;32m    820\u001b[0m         \u001b[38;5;28;01mreturn\u001b[39;00m \u001b[38;5;28mself\u001b[39m\u001b[38;5;241m.\u001b[39mlegacy_save_dataframe(\n\u001b[1;32m    821\u001b[0m             feature_group,\n\u001b[1;32m    822\u001b[0m             dataframe,\n\u001b[0;32m   (...)\u001b[0m\n\u001b[1;32m    828\u001b[0m             validation_id,\n\u001b[1;32m    829\u001b[0m         )\n",
      "File \u001b[0;32m/opt/anaconda3/envs/crypto-env/lib/python3.10/site-packages/hsfs/engine/python.py:1496\u001b[0m, in \u001b[0;36mEngine._write_dataframe_kafka\u001b[0;34m(self, feature_group, dataframe, offline_write_options)\u001b[0m\n\u001b[1;32m   1494\u001b[0m \u001b[38;5;66;03m# make sure producer blocks and everything is delivered\u001b[39;00m\n\u001b[1;32m   1495\u001b[0m \u001b[38;5;28;01mif\u001b[39;00m \u001b[38;5;129;01mnot\u001b[39;00m feature_group\u001b[38;5;241m.\u001b[39m_multi_part_insert:\n\u001b[0;32m-> 1496\u001b[0m     \u001b[43mproducer\u001b[49m\u001b[38;5;241;43m.\u001b[39;49m\u001b[43mflush\u001b[49m\u001b[43m(\u001b[49m\u001b[43m)\u001b[49m\n\u001b[1;32m   1497\u001b[0m     \u001b[38;5;28;01mdel\u001b[39;00m producer\n\u001b[1;32m   1498\u001b[0m     progress_bar\u001b[38;5;241m.\u001b[39mclose()\n",
      "File \u001b[0;32m/opt/anaconda3/envs/crypto-env/lib/python3.10/site-packages/hsfs/core/kafka_engine.py:261\u001b[0m, in \u001b[0;36mbuild_ack_callback_and_optional_progress_bar.<locals>.acked\u001b[0;34m(err, msg)\u001b[0m\n\u001b[1;32m    258\u001b[0m \u001b[38;5;28;01melse\u001b[39;00m:\n\u001b[1;32m    259\u001b[0m     progress_bar \u001b[38;5;241m=\u001b[39m \u001b[38;5;28;01mNone\u001b[39;00m\n\u001b[0;32m--> 261\u001b[0m \u001b[38;5;28;01mdef\u001b[39;00m \u001b[38;5;21macked\u001b[39m(err: \u001b[38;5;167;01mException\u001b[39;00m, msg: Any) \u001b[38;5;241m-\u001b[39m\u001b[38;5;241m>\u001b[39m \u001b[38;5;28;01mNone\u001b[39;00m:\n\u001b[1;32m    262\u001b[0m     \u001b[38;5;28;01mif\u001b[39;00m err \u001b[38;5;129;01mis\u001b[39;00m \u001b[38;5;129;01mnot\u001b[39;00m \u001b[38;5;28;01mNone\u001b[39;00m:\n\u001b[1;32m    263\u001b[0m         \u001b[38;5;28;01mif\u001b[39;00m offline_write_options\u001b[38;5;241m.\u001b[39mget(\u001b[38;5;124m\"\u001b[39m\u001b[38;5;124mdebug_kafka\u001b[39m\u001b[38;5;124m\"\u001b[39m, \u001b[38;5;28;01mFalse\u001b[39;00m):\n",
      "\u001b[0;31mKeyboardInterrupt\u001b[0m: "
     ]
    }
   ],
   "source": [
    "if not test_mode and bitcoin_response_df.shape[0]>0:\n",
    "    bitcoin_feature_group.insert(bitcoin_response_df)\n"
   ]
  },
  {
   "cell_type": "code",
   "execution_count": 21,
   "metadata": {},
   "outputs": [
    {
     "data": {
      "text/html": [
       "<div>\n",
       "<style scoped>\n",
       "    .dataframe tbody tr th:only-of-type {\n",
       "        vertical-align: middle;\n",
       "    }\n",
       "\n",
       "    .dataframe tbody tr th {\n",
       "        vertical-align: top;\n",
       "    }\n",
       "\n",
       "    .dataframe thead th {\n",
       "        text-align: right;\n",
       "    }\n",
       "</style>\n",
       "<table border=\"1\" class=\"dataframe\">\n",
       "  <thead>\n",
       "    <tr style=\"text-align: right;\">\n",
       "      <th></th>\n",
       "      <th>fng_value</th>\n",
       "      <th>fng_classification</th>\n",
       "      <th>timestamp</th>\n",
       "    </tr>\n",
       "  </thead>\n",
       "  <tbody>\n",
       "    <tr>\n",
       "      <th>0</th>\n",
       "      <td>66</td>\n",
       "      <td>Greed</td>\n",
       "      <td>1735689600</td>\n",
       "    </tr>\n",
       "    <tr>\n",
       "      <th>1</th>\n",
       "      <td>64</td>\n",
       "      <td>Greed</td>\n",
       "      <td>1735603200</td>\n",
       "    </tr>\n",
       "    <tr>\n",
       "      <th>2</th>\n",
       "      <td>65</td>\n",
       "      <td>Greed</td>\n",
       "      <td>1735516800</td>\n",
       "    </tr>\n",
       "    <tr>\n",
       "      <th>3</th>\n",
       "      <td>73</td>\n",
       "      <td>Greed</td>\n",
       "      <td>1735430400</td>\n",
       "    </tr>\n",
       "  </tbody>\n",
       "</table>\n",
       "</div>"
      ],
      "text/plain": [
       "  fng_value fng_classification   timestamp\n",
       "0        66              Greed  1735689600\n",
       "1        64              Greed  1735603200\n",
       "2        65              Greed  1735516800\n",
       "3        73              Greed  1735430400"
      ]
     },
     "execution_count": 21,
     "metadata": {},
     "output_type": "execute_result"
    }
   ],
   "source": [
    "fng_df.head()"
   ]
  },
  {
   "cell_type": "code",
   "execution_count": 24,
   "metadata": {},
   "outputs": [
    {
     "name": "stderr",
     "output_type": "stream",
     "text": [
      "Uploading Dataframe: 100.00% |██████████| Rows 4/4 | Elapsed Time: 00:01 | Remaining Time: 00:00\n"
     ]
    },
    {
     "name": "stdout",
     "output_type": "stream",
     "text": [
      "Launching job: f_n_g_index_8_offline_fg_materialization\n"
     ]
    },
    {
     "name": "stderr",
     "output_type": "stream",
     "text": [
      "%6|1735759616.707|FAIL|rdkafka#producer-7| [thrd:ssl://51.161.80.189:9093/bootstrap]: ssl://51.161.80.189:9093/0: Disconnected (after 54882ms in state UP)\n",
      "%6|1735759617.221|FAIL|rdkafka#producer-7| [thrd:ssl://51.161.81.188:9093/bootstrap]: ssl://51.161.81.188:9093/1: Disconnected (after 50382ms in state UP)\n"
     ]
    },
    {
     "name": "stdout",
     "output_type": "stream",
     "text": [
      "Job started successfully, you can follow the progress at \n",
      "https://c.app.hopsworks.ai:443/p/1164448/jobs/named/f_n_g_index_8_offline_fg_materialization/executions\n"
     ]
    },
    {
     "name": "stderr",
     "output_type": "stream",
     "text": [
      "%6|1735759667.399|FAIL|rdkafka#producer-7| [thrd:ssl://51.161.81.208:9093/bootstrap]: ssl://51.161.81.208:9093/2: Disconnected (after 100573ms in state UP)\n",
      "%6|1735759717.965|FAIL|rdkafka#producer-7| [thrd:ssl://51.161.80.189:9093/bootstrap]: ssl://51.161.80.189:9093/0: Disconnected (after 50030ms in state UP, 1 identical error(s) suppressed)\n",
      "%6|1735759717.973|FAIL|rdkafka#producer-7| [thrd:ssl://51.161.81.208:9093/bootstrap]: ssl://51.161.81.208:9093/2: Disconnected (after 50000ms in state UP, 1 identical error(s) suppressed)\n",
      "%6|1735759768.522|FAIL|rdkafka#producer-7| [thrd:ssl://51.161.81.188:9093/bootstrap]: ssl://51.161.81.188:9093/1: Disconnected (after 50001ms in state UP, 1 identical error(s) suppressed)\n",
      "%6|1735759768.628|FAIL|rdkafka#producer-7| [thrd:ssl://51.161.81.208:9093/bootstrap]: ssl://51.161.81.208:9093/2: Disconnected (after 50132ms in state UP, 1 identical error(s) suppressed)\n",
      "%6|1735759819.567|FAIL|rdkafka#producer-7| [thrd:ssl://51.161.81.188:9093/bootstrap]: ssl://51.161.81.188:9093/1: Disconnected (after 50061ms in state UP, 1 identical error(s) suppressed)\n",
      "%6|1735759820.289|FAIL|rdkafka#producer-7| [thrd:ssl://51.161.80.189:9093/bootstrap]: ssl://51.161.80.189:9093/0: Disconnected (after 50006ms in state UP, 1 identical error(s) suppressed)\n",
      "%6|1735759911.291|FAIL|rdkafka#producer-7| [thrd:ssl://51.161.81.208:9093/bootstrap]: ssl://51.161.81.208:9093/2: Disconnected (after 142136ms in state UP, 1 identical error(s) suppressed)\n",
      "%6|1735759961.905|FAIL|rdkafka#producer-7| [thrd:ssl://51.161.80.189:9093/bootstrap]: ssl://51.161.80.189:9093/0: Disconnected (after 50073ms in state UP, 1 identical error(s) suppressed)\n",
      "%6|1735760012.493|FAIL|rdkafka#producer-7| [thrd:ssl://51.161.81.208:9093/bootstrap]: ssl://51.161.81.208:9093/2: Disconnected (after 50054ms in state UP, 1 identical error(s) suppressed)\n",
      "%6|1735760062.669|FAIL|rdkafka#producer-7| [thrd:ssl://51.161.80.189:9093/bootstrap]: ssl://51.161.80.189:9093/0: Disconnected (after 99801ms in state UP, 1 identical error(s) suppressed)\n",
      "%6|1735760113.173|FAIL|rdkafka#producer-7| [thrd:ssl://51.161.81.188:9093/bootstrap]: ssl://51.161.81.188:9093/1: Disconnected (after 49984ms in state UP, 1 identical error(s) suppressed)\n",
      "%6|1735760211.330|FAIL|rdkafka#producer-7| [thrd:ssl://51.161.80.189:9093/bootstrap]: ssl://51.161.80.189:9093/0: Disconnected (after 97616ms in state UP, 1 identical error(s) suppressed)\n",
      "%6|1735760261.916|FAIL|rdkafka#producer-7| [thrd:ssl://51.161.81.208:9093/bootstrap]: ssl://51.161.81.208:9093/2: Disconnected (after 50062ms in state UP, 1 identical error(s) suppressed)\n",
      "%6|1735760312.502|FAIL|rdkafka#producer-7| [thrd:ssl://51.161.81.188:9093/bootstrap]: ssl://51.161.81.188:9093/1: Disconnected (after 50058ms in state UP, 1 identical error(s) suppressed)\n",
      "%6|1735760362.679|FAIL|rdkafka#producer-7| [thrd:ssl://51.161.81.208:9093/bootstrap]: ssl://51.161.81.208:9093/2: Disconnected (after 100012ms in state UP, 1 identical error(s) suppressed)\n",
      "%6|1735760413.265|FAIL|rdkafka#producer-7| [thrd:ssl://51.161.80.189:9093/bootstrap]: ssl://51.161.80.189:9093/0: Disconnected (after 50068ms in state UP, 1 identical error(s) suppressed)\n",
      "%6|1735760464.670|FAIL|rdkafka#producer-7| [thrd:ssl://51.161.81.208:9093/bootstrap]: ssl://51.161.81.208:9093/2: Disconnected (after 50103ms in state UP, 1 identical error(s) suppressed)\n",
      "%6|1735760514.848|FAIL|rdkafka#producer-7| [thrd:ssl://51.161.80.189:9093/bootstrap]: ssl://51.161.80.189:9093/0: Disconnected (after 100707ms in state UP, 1 identical error(s) suppressed)\n",
      "%6|1735760565.387|FAIL|rdkafka#producer-7| [thrd:ssl://51.161.81.188:9093/bootstrap]: ssl://51.161.81.188:9093/1: Disconnected (after 50001ms in state UP, 1 identical error(s) suppressed)\n",
      "%6|1735760565.447|FAIL|rdkafka#producer-7| [thrd:ssl://51.161.80.189:9093/bootstrap]: ssl://51.161.80.189:9093/0: Disconnected (after 50003ms in state UP, 1 identical error(s) suppressed)\n",
      "%6|1735760615.968|FAIL|rdkafka#producer-7| [thrd:ssl://51.161.81.188:9093/bootstrap]: ssl://51.161.81.188:9093/1: Disconnected (after 50002ms in state UP, 1 identical error(s) suppressed)\n",
      "%6|1735760666.195|FAIL|rdkafka#producer-7| [thrd:ssl://51.161.80.189:9093/bootstrap]: ssl://51.161.80.189:9093/0: Disconnected (after 100220ms in state UP, 1 identical error(s) suppressed)\n",
      "%6|1735760716.712|FAIL|rdkafka#producer-7| [thrd:ssl://51.161.81.208:9093/bootstrap]: ssl://51.161.81.208:9093/2: Disconnected (after 50000ms in state UP, 1 identical error(s) suppressed)\n",
      "%6|1735760811.400|FAIL|rdkafka#producer-7| [thrd:ssl://51.161.81.188:9093/bootstrap]: ssl://51.161.81.188:9093/1: Disconnected (after 144472ms in state UP, 1 identical error(s) suppressed)\n",
      "%6|1735760861.986|FAIL|rdkafka#producer-7| [thrd:ssl://51.161.80.189:9093/bootstrap]: ssl://51.161.80.189:9093/0: Disconnected (after 50052ms in state UP, 1 identical error(s) suppressed)\n",
      "%6|1735760912.162|FAIL|rdkafka#producer-7| [thrd:ssl://51.161.81.188:9093/bootstrap]: ssl://51.161.81.188:9093/1: Disconnected (after 99864ms in state UP, 1 identical error(s) suppressed)\n",
      "%6|1735760962.739|FAIL|rdkafka#producer-7| [thrd:ssl://51.161.80.189:9093/bootstrap]: ssl://51.161.80.189:9093/0: Disconnected (after 50057ms in state UP, 1 identical error(s) suppressed)\n",
      "%6|1735761013.335|FAIL|rdkafka#producer-7| [thrd:ssl://51.161.81.188:9093/bootstrap]: ssl://51.161.81.188:9093/1: Disconnected (after 50071ms in state UP, 1 identical error(s) suppressed)\n",
      "%6|1735761111.320|FAIL|rdkafka#producer-7| [thrd:ssl://51.161.81.208:9093/bootstrap]: ssl://51.161.81.208:9093/2: Disconnected (after 147519ms in state UP, 1 identical error(s) suppressed)\n",
      "%6|1735761161.931|FAIL|rdkafka#producer-7| [thrd:ssl://51.161.80.189:9093/bootstrap]: ssl://51.161.80.189:9093/0: Disconnected (after 50064ms in state UP, 1 identical error(s) suppressed)\n",
      "%6|1735761212.110|FAIL|rdkafka#producer-7| [thrd:ssl://51.161.81.208:9093/bootstrap]: ssl://51.161.81.208:9093/2: Disconnected (after 99922ms in state UP, 1 identical error(s) suppressed)\n",
      "%6|1735761262.630|FAIL|rdkafka#producer-7| [thrd:ssl://51.161.80.189:9093/bootstrap]: ssl://51.161.80.189:9093/0: Disconnected (after 50000ms in state UP, 1 identical error(s) suppressed)\n",
      "%6|1735761313.179|FAIL|rdkafka#producer-7| [thrd:ssl://51.161.81.208:9093/bootstrap]: ssl://51.161.81.208:9093/2: Disconnected (after 50031ms in state UP, 1 identical error(s) suppressed)\n",
      "%6|1735761411.326|FAIL|rdkafka#producer-7| [thrd:ssl://51.161.81.188:9093/bootstrap]: ssl://51.161.81.188:9093/1: Disconnected (after 147645ms in state UP, 1 identical error(s) suppressed)\n",
      "%6|1735761461.851|FAIL|rdkafka#producer-7| [thrd:ssl://51.161.80.189:9093/bootstrap]: ssl://51.161.80.189:9093/0: Disconnected (after 50001ms in state UP, 1 identical error(s) suppressed)\n",
      "%6|1735761511.984|FAIL|rdkafka#producer-7| [thrd:ssl://51.161.81.208:9093/bootstrap]: ssl://51.161.81.208:9093/2: Disconnected (after 99909ms in state UP, 1 identical error(s) suppressed)\n",
      "%6|1735761562.506|FAIL|rdkafka#producer-7| [thrd:ssl://51.161.81.188:9093/bootstrap]: ssl://51.161.81.188:9093/1: Disconnected (after 50000ms in state UP, 1 identical error(s) suppressed)\n",
      "%6|1735761613.028|FAIL|rdkafka#producer-7| [thrd:ssl://51.161.81.208:9093/bootstrap]: ssl://51.161.81.208:9093/2: Disconnected (after 50001ms in state UP, 1 identical error(s) suppressed)\n",
      "%6|1735761711.416|FAIL|rdkafka#producer-7| [thrd:ssl://51.161.81.188:9093/bootstrap]: ssl://51.161.81.188:9093/1: Disconnected (after 147886ms in state UP, 1 identical error(s) suppressed)\n",
      "%6|1735761762.003|FAIL|rdkafka#producer-7| [thrd:ssl://51.161.81.208:9093/bootstrap]: ssl://51.161.81.208:9093/2: Disconnected (after 50066ms in state UP, 1 identical error(s) suppressed)\n",
      "%6|1735761762.019|FAIL|rdkafka#producer-7| [thrd:ssl://51.161.80.189:9093/bootstrap]: ssl://51.161.80.189:9093/0: Disconnected (after 49998ms in state UP, 1 identical error(s) suppressed)\n",
      "%6|1735761812.589|FAIL|rdkafka#producer-7| [thrd:ssl://51.161.81.208:9093/bootstrap]: ssl://51.161.81.208:9093/2: Disconnected (after 50056ms in state UP, 1 identical error(s) suppressed)\n",
      "%6|1735761812.666|FAIL|rdkafka#producer-7| [thrd:ssl://51.161.80.189:9093/bootstrap]: ssl://51.161.80.189:9093/0: Disconnected (after 50133ms in state UP, 1 identical error(s) suppressed)\n",
      "%6|1735761863.209|FAIL|rdkafka#producer-7| [thrd:ssl://51.161.81.188:9093/bootstrap]: ssl://51.161.81.188:9093/1: Disconnected (after 50001ms in state UP, 1 identical error(s) suppressed)\n",
      "%6|1735761863.340|FAIL|rdkafka#producer-7| [thrd:ssl://51.161.81.208:9093/bootstrap]: ssl://51.161.81.208:9093/2: Disconnected (after 50002ms in state UP, 1 identical error(s) suppressed)\n",
      "%6|1735761913.556|FAIL|rdkafka#producer-7| [thrd:ssl://51.161.80.189:9093/bootstrap]: ssl://51.161.80.189:9093/0: Disconnected (after 100344ms in state UP, 1 identical error(s) suppressed)\n",
      "%6|1735762011.332|FAIL|rdkafka#producer-7| [thrd:ssl://51.161.81.208:9093/bootstrap]: ssl://51.161.81.208:9093/2: Disconnected (after 97204ms in state UP, 1 identical error(s) suppressed)\n",
      "%6|1735762061.872|FAIL|rdkafka#producer-7| [thrd:ssl://51.161.80.189:9093/bootstrap]: ssl://51.161.80.189:9093/0: Disconnected (after 50020ms in state UP, 1 identical error(s) suppressed)\n",
      "%6|1735762061.947|FAIL|rdkafka#producer-7| [thrd:ssl://51.161.81.208:9093/bootstrap]: ssl://51.161.81.208:9093/2: Disconnected (after 50001ms in state UP, 1 identical error(s) suppressed)\n",
      "%6|1735762112.474|FAIL|rdkafka#producer-7| [thrd:ssl://51.161.80.189:9093/bootstrap]: ssl://51.161.80.189:9093/0: Disconnected (after 50002ms in state UP, 1 identical error(s) suppressed)\n",
      "%6|1735762112.596|FAIL|rdkafka#producer-7| [thrd:ssl://51.161.81.208:9093/bootstrap]: ssl://51.161.81.208:9093/2: Disconnected (after 50131ms in state UP, 1 identical error(s) suppressed)\n",
      "%6|1735762163.211|FAIL|rdkafka#producer-7| [thrd:ssl://51.161.80.189:9093/bootstrap]: ssl://51.161.80.189:9093/0: Disconnected (after 50069ms in state UP, 1 identical error(s) suppressed)\n",
      "%6|1735762163.236|FAIL|rdkafka#producer-7| [thrd:ssl://51.161.81.188:9093/bootstrap]: ssl://51.161.81.188:9093/1: Disconnected (after 50000ms in state UP, 1 identical error(s) suppressed)\n",
      "%4|1735762163.283|FAIL|rdkafka#producer-7| [thrd:ssl://51.161.81.208:9093/bootstrap]: ssl://51.161.81.208:9093/2: Disconnected (after 50138ms in state UP, 1 identical error(s) suppressed)\n",
      "%6|1735762213.895|FAIL|rdkafka#producer-7| [thrd:ssl://51.161.81.188:9093/bootstrap]: ssl://51.161.81.188:9093/1: Disconnected (after 50075ms in state UP, 1 identical error(s) suppressed)\n",
      "%6|1735762311.375|FAIL|rdkafka#producer-7| [thrd:ssl://51.161.81.208:9093/bootstrap]: ssl://51.161.81.208:9093/2: Disconnected (after 147555ms in state UP, 1 identical error(s) suppressed)\n",
      "%6|1735762361.959|FAIL|rdkafka#producer-7| [thrd:ssl://51.161.81.188:9093/bootstrap]: ssl://51.161.81.188:9093/1: Disconnected (after 50067ms in state UP, 1 identical error(s) suppressed)\n",
      "%6|1735762412.544|FAIL|rdkafka#producer-7| [thrd:ssl://51.161.81.208:9093/bootstrap]: ssl://51.161.81.208:9093/2: Disconnected (after 50031ms in state UP, 1 identical error(s) suppressed)\n",
      "%6|1735762462.720|FAIL|rdkafka#producer-7| [thrd:ssl://51.161.81.188:9093/bootstrap]: ssl://51.161.81.188:9093/1: Disconnected (after 99831ms in state UP, 1 identical error(s) suppressed)\n",
      "%6|1735762513.308|FAIL|rdkafka#producer-7| [thrd:ssl://51.161.80.189:9093/bootstrap]: ssl://51.161.80.189:9093/0: Disconnected (after 50070ms in state UP, 1 identical error(s) suppressed)\n",
      "%6|1735762564.413|FAIL|rdkafka#producer-7| [thrd:ssl://51.161.81.188:9093/bootstrap]: ssl://51.161.81.188:9093/1: Disconnected (after 50078ms in state UP, 1 identical error(s) suppressed)\n",
      "%6|1735762614.583|FAIL|rdkafka#producer-7| [thrd:ssl://51.161.81.208:9093/bootstrap]: ssl://51.161.81.208:9093/2: Disconnected (after 100757ms in state UP, 1 identical error(s) suppressed)\n",
      "%6|1735762665.176|FAIL|rdkafka#producer-7| [thrd:ssl://51.161.80.189:9093/bootstrap]: ssl://51.161.80.189:9093/0: Disconnected (after 50063ms in state UP, 1 identical error(s) suppressed)\n",
      "%6|1735762715.766|FAIL|rdkafka#producer-7| [thrd:ssl://51.161.81.188:9093/bootstrap]: ssl://51.161.81.188:9093/1: Disconnected (after 50047ms in state UP, 1 identical error(s) suppressed)\n",
      "%6|1735762766.307|FAIL|rdkafka#producer-7| [thrd:ssl://51.161.81.208:9093/bootstrap]: ssl://51.161.81.208:9093/2: Disconnected (after 50002ms in state UP, 1 identical error(s) suppressed)\n",
      "%6|1735762816.527|FAIL|rdkafka#producer-7| [thrd:ssl://51.161.80.189:9093/bootstrap]: ssl://51.161.80.189:9093/0: Disconnected (after 99895ms in state UP, 1 identical error(s) suppressed)\n",
      "%6|1735762911.335|FAIL|rdkafka#producer-7| [thrd:ssl://51.161.81.188:9093/bootstrap]: ssl://51.161.81.188:9093/1: Disconnected (after 94244ms in state UP, 1 identical error(s) suppressed)\n",
      "%6|1735762961.937|FAIL|rdkafka#producer-7| [thrd:ssl://51.161.81.208:9093/bootstrap]: ssl://51.161.81.208:9093/2: Disconnected (after 50055ms in state UP, 1 identical error(s) suppressed)\n",
      "%6|1735763012.073|FAIL|rdkafka#producer-7| [thrd:ssl://51.161.80.189:9093/bootstrap]: ssl://51.161.80.189:9093/0: Disconnected (after 99933ms in state UP, 1 identical error(s) suppressed)\n",
      "%6|1735763062.700|FAIL|rdkafka#producer-7| [thrd:ssl://51.161.81.188:9093/bootstrap]: ssl://51.161.81.188:9093/1: Disconnected (after 50095ms in state UP, 1 identical error(s) suppressed)\n",
      "%6|1735763113.293|FAIL|rdkafka#producer-7| [thrd:ssl://51.161.81.208:9093/bootstrap]: ssl://51.161.81.208:9093/2: Disconnected (after 50077ms in state UP, 1 identical error(s) suppressed)\n",
      "%6|1735763211.338|FAIL|rdkafka#producer-7| [thrd:ssl://51.161.81.188:9093/bootstrap]: ssl://51.161.81.188:9093/1: Disconnected (after 147745ms in state UP, 1 identical error(s) suppressed)\n",
      "%6|1735763261.872|FAIL|rdkafka#producer-7| [thrd:ssl://51.161.81.208:9093/bootstrap]: ssl://51.161.81.208:9093/2: Disconnected (after 50020ms in state UP, 1 identical error(s) suppressed)\n",
      "%6|1735763312.050|FAIL|rdkafka#producer-7| [thrd:ssl://51.161.81.188:9093/bootstrap]: ssl://51.161.81.188:9093/1: Disconnected (after 100004ms in state UP, 1 identical error(s) suppressed)\n",
      "%6|1735763362.633|FAIL|rdkafka#producer-7| [thrd:ssl://51.161.81.208:9093/bootstrap]: ssl://51.161.81.208:9093/2: Disconnected (after 50053ms in state UP, 1 identical error(s) suppressed)\n",
      "%6|1735763413.220|FAIL|rdkafka#producer-7| [thrd:ssl://51.161.81.188:9093/bootstrap]: ssl://51.161.81.188:9093/1: Disconnected (after 50049ms in state UP, 1 identical error(s) suppressed)\n",
      "%6|1735763511.424|FAIL|rdkafka#producer-7| [thrd:ssl://51.161.81.208:9093/bootstrap]: ssl://51.161.81.208:9093/2: Disconnected (after 147911ms in state UP, 1 identical error(s) suppressed)\n",
      "%6|1735763562.009|FAIL|rdkafka#producer-7| [thrd:ssl://51.161.80.189:9093/bootstrap]: ssl://51.161.80.189:9093/0: Disconnected (after 50034ms in state UP, 1 identical error(s) suppressed)\n",
      "%6|1735763612.527|FAIL|rdkafka#producer-7| [thrd:ssl://51.161.81.188:9093/bootstrap]: ssl://51.161.81.188:9093/1: Disconnected (after 50001ms in state UP, 1 identical error(s) suppressed)\n",
      "%6|1735763663.181|FAIL|rdkafka#producer-7| [thrd:ssl://51.161.80.189:9093/bootstrap]: ssl://51.161.80.189:9093/0: Disconnected (after 50108ms in state UP, 1 identical error(s) suppressed)\n",
      "%6|1735763663.255|FAIL|rdkafka#producer-7| [thrd:ssl://51.161.81.208:9093/bootstrap]: ssl://51.161.81.208:9093/2: Disconnected (after 50002ms in state UP, 1 identical error(s) suppressed)\n",
      "%6|1735763713.869|FAIL|rdkafka#producer-7| [thrd:ssl://51.161.80.189:9093/bootstrap]: ssl://51.161.80.189:9093/0: Disconnected (after 50050ms in state UP, 1 identical error(s) suppressed)\n",
      "%6|1735763713.924|FAIL|rdkafka#producer-7| [thrd:ssl://51.161.81.208:9093/bootstrap]: ssl://51.161.81.208:9093/2: Disconnected (after 50137ms in state UP, 1 identical error(s) suppressed)\n",
      "%6|1735763764.559|FAIL|rdkafka#producer-7| [thrd:ssl://51.161.80.189:9093/bootstrap]: ssl://51.161.80.189:9093/0: Disconnected (after 50096ms in state UP, 1 identical error(s) suppressed)\n",
      "%6|1735763764.574|FAIL|rdkafka#producer-7| [thrd:ssl://51.161.81.208:9093/bootstrap]: ssl://51.161.81.208:9093/2: Disconnected (after 50133ms in state UP, 1 identical error(s) suppressed)\n",
      "%6|1735763814.825|FAIL|rdkafka#producer-7| [thrd:ssl://51.161.81.188:9093/bootstrap]: ssl://51.161.81.188:9093/1: Disconnected (after 100238ms in state UP, 1 identical error(s) suppressed)\n",
      "%6|1735763865.341|FAIL|rdkafka#producer-7| [thrd:ssl://51.161.80.189:9093/bootstrap]: ssl://51.161.80.189:9093/0: Disconnected (after 50002ms in state UP, 1 identical error(s) suppressed)\n",
      "%6|1735763915.470|FAIL|rdkafka#producer-7| [thrd:ssl://51.161.81.188:9093/bootstrap]: ssl://51.161.81.188:9093/1: Disconnected (after 99619ms in state UP, 1 identical error(s) suppressed)\n",
      "%6|1735763966.085|FAIL|rdkafka#producer-7| [thrd:ssl://51.161.81.208:9093/bootstrap]: ssl://51.161.81.208:9093/2: Disconnected (after 50081ms in state UP, 1 identical error(s) suppressed)\n",
      "%6|1735763966.143|FAIL|rdkafka#producer-7| [thrd:ssl://51.161.80.189:9093/bootstrap]: ssl://51.161.80.189:9093/0: Disconnected (after 49994ms in state UP, 1 identical error(s) suppressed)\n",
      "%6|1735764016.762|FAIL|rdkafka#producer-7| [thrd:ssl://51.161.81.188:9093/bootstrap]: ssl://51.161.81.188:9093/1: Disconnected (after 50096ms in state UP, 1 identical error(s) suppressed)\n",
      "%6|1735764016.793|FAIL|rdkafka#producer-7| [thrd:ssl://51.161.80.189:9093/bootstrap]: ssl://51.161.80.189:9093/0: Disconnected (after 50132ms in state UP, 1 identical error(s) suppressed)\n",
      "%6|1735764067.324|FAIL|rdkafka#producer-7| [thrd:ssl://51.161.81.208:9093/bootstrap]: ssl://51.161.81.208:9093/2: Disconnected (after 50006ms in state UP, 1 identical error(s) suppressed)\n",
      "%6|1735764067.439|FAIL|rdkafka#producer-7| [thrd:ssl://51.161.81.188:9093/bootstrap]: ssl://51.161.81.188:9093/1: Disconnected (after 50004ms in state UP, 1 identical error(s) suppressed)\n",
      "%6|1735764117.588|FAIL|rdkafka#producer-7| [thrd:ssl://51.161.80.189:9093/bootstrap]: ssl://51.161.80.189:9093/0: Disconnected (after 100265ms in state UP, 1 identical error(s) suppressed)\n",
      "%6|1735764168.212|FAIL|rdkafka#producer-7| [thrd:ssl://51.161.81.208:9093/bootstrap]: ssl://51.161.81.208:9093/2: Disconnected (after 50109ms in state UP, 1 identical error(s) suppressed)\n",
      "%6|1735764218.725|FAIL|rdkafka#producer-7| [thrd:ssl://51.161.80.189:9093/bootstrap]: ssl://51.161.80.189:9093/0: Disconnected (after 50001ms in state UP, 1 identical error(s) suppressed)\n",
      "%6|1735764268.873|FAIL|rdkafka#producer-7| [thrd:ssl://51.161.81.208:9093/bootstrap]: ssl://51.161.81.208:9093/2: Disconnected (after 99979ms in state UP, 1 identical error(s) suppressed)\n",
      "%6|1735764319.460|FAIL|rdkafka#producer-7| [thrd:ssl://51.161.81.188:9093/bootstrap]: ssl://51.161.81.188:9093/1: Disconnected (after 50054ms in state UP, 1 identical error(s) suppressed)\n",
      "%6|1735764369.995|FAIL|rdkafka#producer-7| [thrd:ssl://51.161.81.208:9093/bootstrap]: ssl://51.161.81.208:9093/2: Disconnected (after 49999ms in state UP, 1 identical error(s) suppressed)\n",
      "%6|1735764420.222|FAIL|rdkafka#producer-7| [thrd:ssl://51.161.80.189:9093/bootstrap]: ssl://51.161.80.189:9093/0: Disconnected (after 99865ms in state UP, 1 identical error(s) suppressed)\n",
      "%6|1735764470.808|FAIL|rdkafka#producer-7| [thrd:ssl://51.161.81.208:9093/bootstrap]: ssl://51.161.81.208:9093/2: Disconnected (after 50035ms in state UP, 1 identical error(s) suppressed)\n",
      "%6|1735764521.395|FAIL|rdkafka#producer-7| [thrd:ssl://51.161.80.189:9093/bootstrap]: ssl://51.161.80.189:9093/0: Disconnected (after 50070ms in state UP, 1 identical error(s) suppressed)\n",
      "%6|1735764571.570|FAIL|rdkafka#producer-7| [thrd:ssl://51.161.81.208:9093/bootstrap]: ssl://51.161.81.208:9093/2: Disconnected (after 99818ms in state UP, 1 identical error(s) suppressed)\n",
      "%6|1735764622.157|FAIL|rdkafka#producer-7| [thrd:ssl://51.161.81.188:9093/bootstrap]: ssl://51.161.81.188:9093/1: Disconnected (after 50065ms in state UP, 1 identical error(s) suppressed)\n",
      "%6|1735764711.355|FAIL|rdkafka#producer-7| [thrd:ssl://51.161.80.189:9093/bootstrap]: ssl://51.161.80.189:9093/0: Disconnected (after 88676ms in state UP, 1 identical error(s) suppressed)\n",
      "%6|1735764761.905|FAIL|rdkafka#producer-7| [thrd:ssl://51.161.81.188:9093/bootstrap]: ssl://51.161.81.188:9093/1: Disconnected (after 50004ms in state UP, 1 identical error(s) suppressed)\n",
      "%6|1735764812.512|FAIL|rdkafka#producer-7| [thrd:ssl://51.161.80.189:9093/bootstrap]: ssl://51.161.80.189:9093/0: Disconnected (after 50035ms in state UP, 1 identical error(s) suppressed)\n",
      "%6|1735764812.610|FAIL|rdkafka#producer-7| [thrd:ssl://51.161.81.208:9093/bootstrap]: ssl://51.161.81.208:9093/2: Disconnected (after 50001ms in state UP, 1 identical error(s) suppressed)\n",
      "%6|1735764863.209|FAIL|rdkafka#producer-7| [thrd:ssl://51.161.81.188:9093/bootstrap]: ssl://51.161.81.188:9093/1: Disconnected (after 50078ms in state UP, 1 identical error(s) suppressed)\n",
      "%6|1735764863.282|FAIL|rdkafka#producer-7| [thrd:ssl://51.161.81.208:9093/bootstrap]: ssl://51.161.81.208:9093/2: Disconnected (after 50138ms in state UP, 1 identical error(s) suppressed)\n",
      "%6|1735764913.897|FAIL|rdkafka#producer-7| [thrd:ssl://51.161.81.188:9093/bootstrap]: ssl://51.161.81.188:9093/1: Disconnected (after 50002ms in state UP, 1 identical error(s) suppressed)\n",
      "%6|1735764913.897|FAIL|rdkafka#producer-7| [thrd:ssl://51.161.80.189:9093/bootstrap]: ssl://51.161.80.189:9093/0: Disconnected (after 50090ms in state UP, 1 identical error(s) suppressed)\n",
      "%4|1735764913.960|FAIL|rdkafka#producer-7| [thrd:ssl://51.161.81.208:9093/bootstrap]: ssl://51.161.81.208:9093/2: Disconnected (after 50137ms in state UP, 1 identical error(s) suppressed)\n",
      "%6|1735764964.835|FAIL|rdkafka#producer-7| [thrd:ssl://51.161.81.208:9093/bootstrap]: ssl://51.161.81.208:9093/2: Disconnected (after 50285ms in state UP, 1 identical error(s) suppressed)\n",
      "%6|1735765015.070|FAIL|rdkafka#producer-7| [thrd:ssl://51.161.81.188:9093/bootstrap]: ssl://51.161.81.188:9093/1: Disconnected (after 100564ms in state UP, 1 identical error(s) suppressed)\n",
      "%6|1735765065.656|FAIL|rdkafka#producer-7| [thrd:ssl://51.161.80.189:9093/bootstrap]: ssl://51.161.80.189:9093/0: Disconnected (after 50052ms in state UP, 1 identical error(s) suppressed)\n",
      "%6|1735765116.248|FAIL|rdkafka#producer-7| [thrd:ssl://51.161.81.188:9093/bootstrap]: ssl://51.161.81.188:9093/1: Disconnected (after 50061ms in state UP, 1 identical error(s) suppressed)\n",
      "%6|1735765166.416|FAIL|rdkafka#producer-7| [thrd:ssl://51.161.81.208:9093/bootstrap]: ssl://51.161.81.208:9093/2: Disconnected (after 99969ms in state UP, 1 identical error(s) suppressed)\n",
      "%6|1735765217.016|FAIL|rdkafka#producer-7| [thrd:ssl://51.161.80.189:9093/bootstrap]: ssl://51.161.80.189:9093/0: Disconnected (after 50054ms in state UP, 1 identical error(s) suppressed)\n",
      "%6|1735765267.911|FAIL|rdkafka#producer-7| [thrd:ssl://51.161.80.189:9093/bootstrap]: ssl://51.161.80.189:9093/0: Disconnected (after 50074ms in state UP, 1 identical error(s) suppressed)\n",
      "%6|1735765318.088|FAIL|rdkafka#producer-7| [thrd:ssl://51.161.81.208:9093/bootstrap]: ssl://51.161.81.208:9093/2: Disconnected (after 100556ms in state UP, 1 identical error(s) suppressed)\n",
      "%6|1735765368.620|FAIL|rdkafka#producer-7| [thrd:ssl://51.161.80.189:9093/bootstrap]: ssl://51.161.80.189:9093/0: Disconnected (after 50002ms in state UP, 1 identical error(s) suppressed)\n",
      "%6|1735765418.850|FAIL|rdkafka#producer-7| [thrd:ssl://51.161.81.188:9093/bootstrap]: ssl://51.161.81.188:9093/1: Disconnected (after 99718ms in state UP, 1 identical error(s) suppressed)\n",
      "%6|1735765469.435|FAIL|rdkafka#producer-7| [thrd:ssl://51.161.81.208:9093/bootstrap]: ssl://51.161.81.208:9093/2: Disconnected (after 50067ms in state UP, 1 identical error(s) suppressed)\n",
      "%6|1735765519.978|FAIL|rdkafka#producer-7| [thrd:ssl://51.161.80.189:9093/bootstrap]: ssl://51.161.80.189:9093/0: Disconnected (after 50002ms in state UP, 1 identical error(s) suppressed)\n",
      "%6|1735765570.522|FAIL|rdkafka#producer-7| [thrd:ssl://51.161.81.208:9093/bootstrap]: ssl://51.161.81.208:9093/2: Disconnected (after 50001ms in state UP, 1 identical error(s) suppressed)\n",
      "%6|1735765620.654|FAIL|rdkafka#producer-7| [thrd:ssl://51.161.81.188:9093/bootstrap]: ssl://51.161.81.188:9093/1: Disconnected (after 100014ms in state UP, 1 identical error(s) suppressed)\n",
      "%6|1735765671.170|FAIL|rdkafka#producer-7| [thrd:ssl://51.161.81.208:9093/bootstrap]: ssl://51.161.81.208:9093/2: Disconnected (after 50001ms in state UP, 1 identical error(s) suppressed)\n",
      "%6|1735765721.703|FAIL|rdkafka#producer-7| [thrd:ssl://51.161.80.189:9093/bootstrap]: ssl://51.161.80.189:9093/0: Disconnected (after 50002ms in state UP, 1 identical error(s) suppressed)\n",
      "%6|1735765771.929|FAIL|rdkafka#producer-7| [thrd:ssl://51.161.81.188:9093/bootstrap]: ssl://51.161.81.188:9093/1: Disconnected (after 99853ms in state UP, 1 identical error(s) suppressed)\n",
      "%6|1735765822.516|FAIL|rdkafka#producer-7| [thrd:ssl://51.161.80.189:9093/bootstrap]: ssl://51.161.80.189:9093/0: Disconnected (after 50062ms in state UP, 1 identical error(s) suppressed)\n",
      "%6|1735765873.045|FAIL|rdkafka#producer-7| [thrd:ssl://51.161.81.188:9093/bootstrap]: ssl://51.161.81.188:9093/1: Disconnected (after 50002ms in state UP, 1 identical error(s) suppressed)\n",
      "%6|1735765923.279|FAIL|rdkafka#producer-7| [thrd:ssl://51.161.80.189:9093/bootstrap]: ssl://51.161.80.189:9093/0: Disconnected (after 99729ms in state UP, 1 identical error(s) suppressed)\n",
      "%6|1735766161.368|FAIL|rdkafka#producer-7| [thrd:ssl://51.161.81.208:9093/bootstrap]: ssl://51.161.81.208:9093/2: Disconnected (after 237550ms in state UP, 1 identical error(s) suppressed)\n",
      "%6|1735766212.032|FAIL|rdkafka#producer-7| [thrd:ssl://51.161.80.189:9093/bootstrap]: ssl://51.161.80.189:9093/0: Disconnected (after 50000ms in state UP, 1 identical error(s) suppressed)\n",
      "%6|1735766212.040|FAIL|rdkafka#producer-7| [thrd:ssl://51.161.81.208:9093/bootstrap]: ssl://51.161.81.208:9093/2: Disconnected (after 50135ms in state UP, 1 identical error(s) suppressed)\n",
      "%6|1735766262.726|FAIL|rdkafka#producer-7| [thrd:ssl://51.161.80.189:9093/bootstrap]: ssl://51.161.80.189:9093/0: Disconnected (after 50033ms in state UP, 1 identical error(s) suppressed)\n",
      "%6|1735766262.726|FAIL|rdkafka#producer-7| [thrd:ssl://51.161.81.188:9093/bootstrap]: ssl://51.161.81.188:9093/1: Disconnected (after 50105ms in state UP, 1 identical error(s) suppressed)\n",
      "%4|1735766262.798|FAIL|rdkafka#producer-7| [thrd:ssl://51.161.81.208:9093/bootstrap]: ssl://51.161.81.208:9093/2: Disconnected (after 50138ms in state UP, 1 identical error(s) suppressed)\n",
      "%6|1735766313.414|FAIL|rdkafka#producer-7| [thrd:ssl://51.161.80.189:9093/bootstrap]: ssl://51.161.80.189:9093/0: Disconnected (after 50085ms in state UP, 1 identical error(s) suppressed)\n",
      "%6|1735766313.591|FAIL|rdkafka#producer-7| [thrd:ssl://51.161.81.208:9093/bootstrap]: ssl://51.161.81.208:9093/2: Disconnected (after 50263ms in state UP, 1 identical error(s) suppressed)\n",
      "%6|1735766363.797|FAIL|rdkafka#producer-7| [thrd:ssl://51.161.81.188:9093/bootstrap]: ssl://51.161.81.188:9093/1: Disconnected (after 99977ms in state UP, 1 identical error(s) suppressed)\n",
      "%6|1735766414.381|FAIL|rdkafka#producer-7| [thrd:ssl://51.161.81.208:9093/bootstrap]: ssl://51.161.81.208:9093/2: Disconnected (after 50059ms in state UP, 1 identical error(s) suppressed)\n",
      "%6|1735766464.968|FAIL|rdkafka#producer-7| [thrd:ssl://51.161.81.188:9093/bootstrap]: ssl://51.161.81.188:9093/1: Disconnected (after 50063ms in state UP, 1 identical error(s) suppressed)\n",
      "%6|1735766515.144|FAIL|rdkafka#producer-7| [thrd:ssl://51.161.80.189:9093/bootstrap]: ssl://51.161.80.189:9093/0: Disconnected (after 99844ms in state UP, 1 identical error(s) suppressed)\n",
      "%6|1735766565.727|FAIL|rdkafka#producer-7| [thrd:ssl://51.161.81.208:9093/bootstrap]: ssl://51.161.81.208:9093/2: Disconnected (after 50042ms in state UP, 1 identical error(s) suppressed)\n",
      "%6|1735766616.318|FAIL|rdkafka#producer-7| [thrd:ssl://51.161.81.188:9093/bootstrap]: ssl://51.161.81.188:9093/1: Disconnected (after 50039ms in state UP, 1 identical error(s) suppressed)\n",
      "%6|1735766666.494|FAIL|rdkafka#producer-7| [thrd:ssl://51.161.80.189:9093/bootstrap]: ssl://51.161.80.189:9093/0: Disconnected (after 99775ms in state UP, 1 identical error(s) suppressed)\n",
      "%6|1735766717.080|FAIL|rdkafka#producer-7| [thrd:ssl://51.161.81.188:9093/bootstrap]: ssl://51.161.81.188:9093/1: Disconnected (after 50071ms in state UP, 1 identical error(s) suppressed)\n",
      "%6|1735766811.384|FAIL|rdkafka#producer-7| [thrd:ssl://51.161.80.189:9093/bootstrap]: ssl://51.161.80.189:9093/0: Disconnected (after 93758ms in state UP, 1 identical error(s) suppressed)\n",
      "%6|1735766861.976|FAIL|rdkafka#producer-7| [thrd:ssl://51.161.81.188:9093/bootstrap]: ssl://51.161.81.188:9093/1: Disconnected (after 50052ms in state UP, 1 identical error(s) suppressed)\n",
      "%6|1735766912.563|FAIL|rdkafka#producer-7| [thrd:ssl://51.161.81.208:9093/bootstrap]: ssl://51.161.81.208:9093/2: Disconnected (after 50058ms in state UP, 1 identical error(s) suppressed)\n",
      "%6|1735766912.650|FAIL|rdkafka#producer-7| [thrd:ssl://51.161.80.189:9093/bootstrap]: ssl://51.161.80.189:9093/0: Disconnected (after 50001ms in state UP, 1 identical error(s) suppressed)\n",
      "%6|1735766963.252|FAIL|rdkafka#producer-7| [thrd:ssl://51.161.81.208:9093/bootstrap]: ssl://51.161.81.208:9093/2: Disconnected (after 50081ms in state UP, 1 identical error(s) suppressed)\n",
      "%6|1735766963.323|FAIL|rdkafka#producer-7| [thrd:ssl://51.161.80.189:9093/bootstrap]: ssl://51.161.80.189:9093/0: Disconnected (after 50138ms in state UP, 1 identical error(s) suppressed)\n",
      "%6|1735767013.875|FAIL|rdkafka#producer-7| [thrd:ssl://51.161.81.188:9093/bootstrap]: ssl://51.161.81.188:9093/1: Disconnected (after 50003ms in state UP, 1 identical error(s) suppressed)\n",
      "%6|1735767013.942|FAIL|rdkafka#producer-7| [thrd:ssl://51.161.81.208:9093/bootstrap]: ssl://51.161.81.208:9093/2: Disconnected (after 50001ms in state UP, 1 identical error(s) suppressed)\n",
      "%6|1735767111.379|FAIL|rdkafka#producer-7| [thrd:ssl://51.161.80.189:9093/bootstrap]: ssl://51.161.80.189:9093/0: Disconnected (after 147507ms in state UP, 1 identical error(s) suppressed)\n",
      "%6|1735767161.901|FAIL|rdkafka#producer-7| [thrd:ssl://51.161.81.208:9093/bootstrap]: ssl://51.161.81.208:9093/2: Disconnected (after 50002ms in state UP, 1 identical error(s) suppressed)\n",
      "%6|1735767212.081|FAIL|rdkafka#producer-7| [thrd:ssl://51.161.80.189:9093/bootstrap]: ssl://51.161.80.189:9093/0: Disconnected (after 99743ms in state UP, 1 identical error(s) suppressed)\n",
      "%6|1735767262.664|FAIL|rdkafka#producer-7| [thrd:ssl://51.161.81.208:9093/bootstrap]: ssl://51.161.81.208:9093/2: Disconnected (after 50056ms in state UP, 1 identical error(s) suppressed)\n",
      "%6|1735767313.275|FAIL|rdkafka#producer-7| [thrd:ssl://51.161.81.188:9093/bootstrap]: ssl://51.161.81.188:9093/1: Disconnected (after 50089ms in state UP, 1 identical error(s) suppressed)\n"
     ]
    }
   ],
   "source": [
    "if not test_mode and fng_df.shape[0]>0:\n",
    "    fng_feature_group.insert(fng_df)"
   ]
  },
  {
   "cell_type": "code",
   "execution_count": null,
   "metadata": {},
   "outputs": [],
   "source": []
  }
 ],
 "metadata": {
  "kernelspec": {
   "display_name": "crypto-env",
   "language": "python",
   "name": "python3"
  },
  "language_info": {
   "codemirror_mode": {
    "name": "ipython",
    "version": 3
   },
   "file_extension": ".py",
   "mimetype": "text/x-python",
   "name": "python",
   "nbconvert_exporter": "python",
   "pygments_lexer": "ipython3",
   "version": "3.10.16"
  }
 },
 "nbformat": 4,
 "nbformat_minor": 2
}
