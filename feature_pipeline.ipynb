{
 "cells": [
  {
   "cell_type": "code",
   "execution_count": 10,
   "metadata": {},
   "outputs": [],
   "source": [
    "\n",
    "\n",
    "import pandas as pd\n",
    "import hopsworks\n",
    "from utils import *\n",
    "import json\n",
    "import os\n",
    "import warnings\n",
    "from dotenv import load_dotenv\n",
    "import datetime\n",
    "\n",
    "warnings.filterwarnings(\"ignore\")"
   ]
  },
  {
   "cell_type": "code",
   "execution_count": 11,
   "metadata": {},
   "outputs": [
    {
     "name": "stdout",
     "output_type": "stream",
     "text": [
      "2024-12-12 15:42:35,268 INFO: Closing external client and cleaning up certificates.\n",
      "Connection closed.\n",
      "2024-12-12 15:42:35,271 INFO: Initializing external client\n",
      "2024-12-12 15:42:35,271 INFO: Base URL: https://c.app.hopsworks.ai:443\n",
      "2024-12-12 15:42:36,590 INFO: Python Engine initialized.\n",
      "\n",
      "Logged in to project, explore it here https://c.app.hopsworks.ai:443/p/1164448\n"
     ]
    }
   ],
   "source": [
    "load_dotenv()\n",
    "os.environ[\"HOPSWORKS_API_KEY\"] = os.getenv(\"HOPSWORKS_API_KEY\")\n",
    "\n",
    "\n",
    "project = hopsworks.login()"
   ]
  },
  {
   "cell_type": "code",
   "execution_count": 12,
   "metadata": {},
   "outputs": [],
   "source": [
    "\n",
    "fs = project.get_feature_store() \n",
    "#secrets = secrets_api(project.name)\n",
    "\n",
    "# This line will fail if you have not registered the AQI_API_KEY as a secret in Hopsworks\n",
    "#CRYPTO_API_KEY = secrets.get_secret(\"CRYPTO_API_KEY\").value\n",
    "\n",
    "CRYPTO_API_KEY = os.getenv(\"CRYPTO_API_KEY\")\n",
    "\n",
    "today = datetime.date.today()\n"
   ]
  },
  {
   "cell_type": "code",
   "execution_count": 20,
   "metadata": {},
   "outputs": [
    {
     "name": "stdout",
     "output_type": "stream",
     "text": [
      "Finished: Reading data from Hopsworks, using Hopsworks Feature Query Service (1.02s) \n",
      "The maximum date is: 12/12/2024\n"
     ]
    }
   ],
   "source": [
    "\n",
    "# Step 2: Retrieve the feature group by name and version\n",
    "feature_group = fs.get_feature_group(\n",
    "    name=\"solana\",  # Replace with the name of your feature group\n",
    "    version=2  # Replace with the version of the feature group\n",
    ")\n",
    "\n",
    "# Step 3: Read the data from the feature group\n",
    "data_df = feature_group.select([\"date\"]).read()\n",
    "\n",
    "# Step 4: Find the maximum date\n",
    "max_date = data_df['date'].max()\n",
    "\n",
    "# Step 5: Print the result\n",
    "print(f\"The maximum date is: {max_date}\")"
   ]
  },
  {
   "cell_type": "code",
   "execution_count": null,
   "metadata": {},
   "outputs": [],
   "source": []
  }
 ],
 "metadata": {
  "kernelspec": {
   "display_name": "final_project_env",
   "language": "python",
   "name": "python3"
  },
  "language_info": {
   "codemirror_mode": {
    "name": "ipython",
    "version": 3
   },
   "file_extension": ".py",
   "mimetype": "text/x-python",
   "name": "python",
   "nbconvert_exporter": "python",
   "pygments_lexer": "ipython3",
   "version": "3.10.16"
  }
 },
 "nbformat": 4,
 "nbformat_minor": 2
}
