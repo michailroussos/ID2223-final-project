{
 "cells": [
  {
   "cell_type": "code",
   "execution_count": 1,
   "metadata": {},
   "outputs": [
    {
     "name": "stderr",
     "output_type": "stream",
     "text": [
      "/opt/homebrew/anaconda3/envs/final_project_env/lib/python3.10/site-packages/tqdm/auto.py:21: TqdmWarning: IProgress not found. Please update jupyter and ipywidgets. See https://ipywidgets.readthedocs.io/en/stable/user_install.html\n",
      "  from .autonotebook import tqdm as notebook_tqdm\n"
     ]
    }
   ],
   "source": [
    "\n",
    "\n",
    "import pandas as pd\n",
    "import hopsworks\n",
    "from utils import *\n",
    "import json\n",
    "import os\n",
    "import warnings\n",
    "from dotenv import load_dotenv\n",
    "import datetime\n",
    "#from datetime import timezone\n",
    "\n",
    "warnings.filterwarnings(\"ignore\")"
   ]
  },
  {
   "cell_type": "code",
   "execution_count": 2,
   "metadata": {},
   "outputs": [
    {
     "name": "stdout",
     "output_type": "stream",
     "text": [
      "2024-12-22 14:32:48,669 INFO: Initializing external client\n",
      "2024-12-22 14:32:48,669 INFO: Base URL: https://c.app.hopsworks.ai:443\n",
      "2024-12-22 14:32:50,138 INFO: Python Engine initialized.\n",
      "\n",
      "Logged in to project, explore it here https://c.app.hopsworks.ai:443/p/1160346\n"
     ]
    }
   ],
   "source": [
    "load_dotenv()\n",
    "os.environ[\"HOPSWORKS_API_KEY\"] = os.getenv(\"HOPSWORKS_API_KEY\")\n",
    "\n",
    "\n",
    "project = hopsworks.login()"
   ]
  },
  {
   "cell_type": "code",
   "execution_count": 3,
   "metadata": {},
   "outputs": [
    {
     "data": {
      "text/plain": [
       "datetime.date(2024, 12, 22)"
      ]
     },
     "execution_count": 3,
     "metadata": {},
     "output_type": "execute_result"
    }
   ],
   "source": [
    "\n",
    "fs = project.get_feature_store() \n",
    "#secrets = secrets_api(project.name)\n",
    "\n",
    "# This line will fail if you have not registered the AQI_API_KEY as a secret in Hopsworks\n",
    "#CRYPTO_API_KEY = secrets.get_secret(\"CRYPTO_API_KEY\").value\n",
    "\n",
    "CRYPTO_API_KEY = os.getenv(\"CRYPTO_API_KEY\")\n",
    "\n",
    "today = datetime.date.today()\n",
    "\n",
    "today\n"
   ]
  },
  {
   "cell_type": "code",
   "execution_count": 4,
   "metadata": {},
   "outputs": [
    {
     "name": "stdout",
     "output_type": "stream",
     "text": [
      "Finished: Reading data from Hopsworks, using Hopsworks Feature Query Service (0.72s) \n",
      "The maximum date is: 2024-12-22 00:00:00+00:00\n"
     ]
    }
   ],
   "source": [
    "\n",
    "# Step 2: Retrieve the feature group by name and version\n",
    "solana_feature_group = fs.get_feature_group(\n",
    "    name=\"solana\",  \n",
    "    version=7\n",
    ")\n",
    "\n",
    "# Step 3: Read the data from the feature group\n",
    "s_data_df = solana_feature_group.select([\"date\"]).read()\n",
    "\n",
    "# Step 4: Find the maximum date\n",
    "solana_max_date = s_data_df['date'].max()\n",
    "\n",
    "# Step 5: Print the result\n",
    "print(f\"The maximum date is: {solana_max_date}\")"
   ]
  },
  {
   "cell_type": "code",
   "execution_count": 5,
   "metadata": {},
   "outputs": [
    {
     "name": "stdout",
     "output_type": "stream",
     "text": [
      "Finished: Reading data from Hopsworks, using Hopsworks Feature Query Service (0.88s) \n",
      "The maximum date is: 2024-12-22 00:00:00+00:00\n"
     ]
    }
   ],
   "source": [
    "\n",
    "# Step 2: Retrieve the feature group by name and version\n",
    "bitcoin_feature_group = fs.get_feature_group(\n",
    "    name=\"bitcoin\",  \n",
    "    version=7\n",
    ")\n",
    "\n",
    "# Step 3: Read the data from the feature group\n",
    "b_data_df = bitcoin_feature_group.select([\"date\"]).read()\n",
    "\n",
    "# Step 4: Find the maximum date\n",
    "bitcoin_max_date = b_data_df['date'].max()\n",
    "\n",
    "# Step 5: Print the result\n",
    "print(f\"The maximum date is: {bitcoin_max_date}\")"
   ]
  },
  {
   "cell_type": "code",
   "execution_count": 6,
   "metadata": {},
   "outputs": [
    {
     "name": "stdout",
     "output_type": "stream",
     "text": [
      "Finished: Reading data from Hopsworks, using Hopsworks Feature Query Service (0.65s) \n",
      "The maximum date is: 2024-12-22 00:00:00+00:00\n"
     ]
    }
   ],
   "source": [
    "# Step 2: Retrieve the feature group by name and version\n",
    "fng_feature_group = fs.get_feature_group(\n",
    "    name=\"f_n_g_index\", \n",
    "    version=6\n",
    ")\n",
    "\n",
    "# Step 3: Read the data from the feature group\n",
    "fng_data_df = fng_feature_group.select([\"date\"]).read()\n",
    "\n",
    "# Step 4: Find the maximum date\n",
    "fng_max_date = fng_data_df['date'].max()\n",
    "\n",
    "# Step 5: Print the result\n",
    "print(f\"The maximum date is: {fng_max_date}\")"
   ]
  },
  {
   "cell_type": "markdown",
   "metadata": {},
   "source": [
    "### Getting missing data"
   ]
  },
  {
   "cell_type": "markdown",
   "metadata": {},
   "source": [
    "### Request solana price from last available data till now"
   ]
  },
  {
   "cell_type": "code",
   "execution_count": 7,
   "metadata": {},
   "outputs": [
    {
     "name": "stdout",
     "output_type": "stream",
     "text": [
      "Difference in days: 0\n"
     ]
    }
   ],
   "source": [
    "# convert the date to a naive date\n",
    "solana_max_date_naive = solana_max_date.date()\n",
    "\n",
    "# Calculate the difference in days, so how many days ago was the last data point\n",
    "solana_difference = (today - solana_max_date_naive).days\n",
    "print(f\"Difference in days: {solana_difference}\")"
   ]
  },
  {
   "cell_type": "code",
   "execution_count": 8,
   "metadata": {},
   "outputs": [
    {
     "data": {
      "text/plain": [
       "dict_keys(['Response', 'Message', 'HasWarning', 'Type', 'RateLimit', 'Data', 'ParamWithError'])"
      ]
     },
     "execution_count": 8,
     "metadata": {},
     "output_type": "execute_result"
    }
   ],
   "source": [
    "url = \"https://min-api.cryptocompare.com/data/v2/histoday\"\n",
    "\n",
    "# Load environment variables from the .env file\n",
    "load_dotenv()\n",
    "crypto_api_key = os.getenv(\"CRYPTO_API_KEY\")\n",
    "\n",
    "\n",
    "# Set the parameters for the API request\n",
    "params = {\n",
    "    \"fsym\": \"SOL\",  # From symbol (e.g., Bitcoin)\n",
    "    \"tsym\": \"USD\",  # To symbol (e.g., US Dollar)\n",
    "    \"limit\": solana_difference,    # Number of days of data to retrieve\n",
    "    \"toTs\": None,   # Timestamp for the end of the period (None for latest data)\n",
    "    \"api_key\": crypto_api_key\n",
    "}\n",
    "\n",
    "sol_response = trigger_request(url, params)\n",
    "sol_response.keys()"
   ]
  },
  {
   "cell_type": "code",
   "execution_count": 9,
   "metadata": {},
   "outputs": [
    {
     "data": {
      "text/plain": [
       "{}"
      ]
     },
     "execution_count": 9,
     "metadata": {},
     "output_type": "execute_result"
    }
   ],
   "source": [
    "sol_response[\"Data\"]"
   ]
  },
  {
   "cell_type": "markdown",
   "metadata": {},
   "source": [
    "### Request bitcoin price from last available data till now"
   ]
  },
  {
   "cell_type": "code",
   "execution_count": 10,
   "metadata": {},
   "outputs": [
    {
     "name": "stdout",
     "output_type": "stream",
     "text": [
      "Difference in days: 0\n"
     ]
    }
   ],
   "source": [
    "# convert the date to a naive date\n",
    "bitcoin_max_date_naive = bitcoin_max_date.date()\n",
    "\n",
    "# Calculate the difference in days, so how many days ago was the last data point\n",
    "bitcoin_difference = (today - bitcoin_max_date_naive).days\n",
    "print(f\"Difference in days: {bitcoin_difference}\")"
   ]
  },
  {
   "cell_type": "code",
   "execution_count": 11,
   "metadata": {},
   "outputs": [
    {
     "data": {
      "text/plain": [
       "dict_keys(['Response', 'Message', 'HasWarning', 'Type', 'RateLimit', 'Data', 'ParamWithError'])"
      ]
     },
     "execution_count": 11,
     "metadata": {},
     "output_type": "execute_result"
    }
   ],
   "source": [
    "url = \"https://min-api.cryptocompare.com/data/v2/histoday\"\n",
    "\n",
    "# Load environment variables from the .env file\n",
    "load_dotenv()\n",
    "crypto_api_key = os.getenv(\"CRYPTO_API_KEY\")\n",
    "\n",
    "\n",
    "# Set the parameters for the API request\n",
    "params = {\n",
    "    \"fsym\": \"BTC\",  # From symbol (e.g., Bitcoin)\n",
    "    \"tsym\": \"USD\",  # To symbol (e.g., US Dollar)\n",
    "    \"limit\": bitcoin_difference,    # Number of days of data to retrieve\n",
    "    \"toTs\": None,   # Timestamp for the end of the period (None for latest data)\n",
    "    \"api_key\": crypto_api_key\n",
    "}\n",
    "\n",
    "btc_response = trigger_request(url, params)\n",
    "btc_response.keys()"
   ]
  },
  {
   "cell_type": "code",
   "execution_count": 12,
   "metadata": {},
   "outputs": [
    {
     "data": {
      "text/plain": [
       "{}"
      ]
     },
     "execution_count": 12,
     "metadata": {},
     "output_type": "execute_result"
    }
   ],
   "source": [
    "btc_response[\"Data\"]"
   ]
  },
  {
   "cell_type": "markdown",
   "metadata": {},
   "source": [
    "### Request fear and greed index values from last available data till now"
   ]
  },
  {
   "cell_type": "code",
   "execution_count": 13,
   "metadata": {},
   "outputs": [
    {
     "name": "stdout",
     "output_type": "stream",
     "text": [
      "Difference in days: 0\n"
     ]
    }
   ],
   "source": [
    "\n",
    "# convert the date to a naive date\n",
    "fng_max_date_naive = fng_max_date.date()\n",
    "\n",
    "# Calculate the difference in days, so how many days ago was the last data point\n",
    "fng_difference = (today - fng_max_date_naive).days\n",
    "print(f\"Difference in days: {fng_difference}\")"
   ]
  },
  {
   "cell_type": "code",
   "execution_count": 14,
   "metadata": {},
   "outputs": [
    {
     "data": {
      "text/plain": [
       "dict_keys(['name', 'data', 'metadata'])"
      ]
     },
     "execution_count": 14,
     "metadata": {},
     "output_type": "execute_result"
    }
   ],
   "source": [
    "url = \"https://api.alternative.me/fng/?\"\n",
    "\n",
    "# Load environment variables from the .env file\n",
    "load_dotenv()\n",
    "crypto_api_key = os.getenv(\"CRYPTO_API_KEY\")\n",
    "\n",
    "\n",
    "# Set the parameters for the API request\n",
    "params = {\n",
    "    \"limit\": fng_difference    # Number of days of data to retrieve\n",
    "}\n",
    "\n",
    "fng_response = trigger_request(url, params)\n",
    "fng_response.keys()"
   ]
  },
  {
   "cell_type": "markdown",
   "metadata": {},
   "source": [
    "### Now we need to use the responses to update the data in Hopsworks"
   ]
  },
  {
   "cell_type": "code",
   "execution_count": 15,
   "metadata": {},
   "outputs": [],
   "source": [
    "\n",
    "\n",
    "#create an empty dataframe with the new data with the columns ['date', 'price', 'open', 'high', 'low'], so that we can append new data later\n",
    "#solana_new_data = pd.DataFrame(columns=['date', 'price', 'open', 'high', 'low'])\n",
    "solana_new_data = pd.DataFrame(columns=['date', 'open'])\n",
    "\n",
    "if solana_difference > 0:\n",
    "    #Now we will iterate throught the response and extract the data for the missing days\n",
    "    for i in sol_response[\"Data\"][\"Data\"]:\n",
    "        timestamp = i[\"time\"]\n",
    "        # Convert to datetime object\n",
    "        date= datetime.fromtimestamp(timestamp, datetime.timezone.utc)\n",
    "        \n",
    "        if date <= solana_max_date:\n",
    "            #print(\"Data already exists\")\n",
    "            continue\n",
    "        else:\n",
    "            #here we fill up the dataframe with the new data \n",
    "            new_row = pd.DataFrame([{'date': date, 'open': i[\"open\"]}])\n",
    "            solana_new_data = pd.concat([solana_new_data, new_row], ignore_index=True)\n",
    "\n",
    "    #here we will append the new data to the existing feature group\n",
    "    solana_feature_group.insert(solana_new_data)\n",
    "\n"
   ]
  },
  {
   "cell_type": "code",
   "execution_count": 16,
   "metadata": {},
   "outputs": [],
   "source": [
    "#create an empty dataframe with the new data with the columns ['date', 'price', 'open', 'high', 'low'], so that we can append new data later\n",
    "#bitcoin_new_data = pd.DataFrame(columns=['date', 'price', 'open', 'high', 'low'])\n",
    "bitcoin_new_data = pd.DataFrame(columns=['date', 'open'])\n",
    "if bitcoin_difference > 0:\n",
    "    #Now we will iterate throught the response and extract the data for the missing days\n",
    "    for i in btc_response[\"Data\"][\"Data\"]:\n",
    "        timestamp = i[\"time\"]\n",
    "        # Convert to datetime object\n",
    "        date= datetime.datetime.fromtimestamp(timestamp, datetime.timezone.utc)\n",
    "        \n",
    "        if date <= bitcoin_max_date:\n",
    "            #print(\"Data already exists\")\n",
    "            continue\n",
    "        else:\n",
    "            #here we fill up the dataframe with the new data \n",
    "            #new_row = pd.DataFrame([{'date': date, 'price': i[\"close\"], 'open': i[\"open\"], 'high': i[\"high\"], 'low': i[\"low\"]}])\n",
    "            new_row = pd.DataFrame([{'date': date, 'open': str(i[\"open\"])}])\n",
    "\n",
    "            bitcoin_new_data = pd.concat([bitcoin_new_data, new_row], ignore_index=True)\n",
    "\n",
    "    #here we will append the new data to the existing feature group\n",
    "    bitcoin_feature_group.insert(bitcoin_new_data)\n"
   ]
  },
  {
   "cell_type": "code",
   "execution_count": 17,
   "metadata": {},
   "outputs": [],
   "source": [
    "#create an empty dataframe with the new data with the columns ['date', 'fng_value', 'fng_classification'], so that we can append new data later\n",
    "fng_new_data = pd.DataFrame(columns=['date', 'fng_value', 'fng_classification'])\n",
    "if fng_difference > 0:\n",
    "    #Now we will iterate throught the response and extract the data for the missing days\n",
    "    for i in fng_response[\"data\"]:\n",
    "        timestamp = int(i[\"timestamp\"])\n",
    "        # Convert to datetime object\n",
    "        date= datetime.datetime.fromtimestamp(timestamp, datetime.timezone.utc)\n",
    "        \n",
    "        if date <= fng_max_date:\n",
    "            print(\"Data already exists\")\n",
    "            continue\n",
    "        else:\n",
    "            #here we fill up the dataframe with the new data \n",
    "            print(\"Data does not exist\")\n",
    "            new_row = pd.DataFrame([{'date': date, 'fng_value': i[\"value\"], 'fng_classification': i[\"value_classification\"]}])\n",
    "            \n",
    "            fng_new_data = pd.concat([fng_new_data, new_row], ignore_index=True)\n",
    "\n",
    "    #here we will append the new data to the existing feature group\n",
    "    fng_feature_group.insert(bitcoin_new_data)"
   ]
  },
  {
   "cell_type": "code",
   "execution_count": null,
   "metadata": {},
   "outputs": [],
   "source": []
  }
 ],
 "metadata": {
  "kernelspec": {
   "display_name": "final_project_env",
   "language": "python",
   "name": "python3"
  },
  "language_info": {
   "codemirror_mode": {
    "name": "ipython",
    "version": 3
   },
   "file_extension": ".py",
   "mimetype": "text/x-python",
   "name": "python",
   "nbconvert_exporter": "python",
   "pygments_lexer": "ipython3",
   "version": "3.10.16"
  }
 },
 "nbformat": 4,
 "nbformat_minor": 2
}
