{
 "cells": [
  {
   "cell_type": "code",
   "execution_count": 1,
   "metadata": {
    "ExecuteTime": {
     "end_time": "2025-01-03T13:48:11.072725Z",
     "start_time": "2025-01-03T13:48:10.952373Z"
    }
   },
   "outputs": [],
   "source": [
    "test_mode = False"
   ]
  },
  {
   "cell_type": "code",
   "execution_count": 21,
   "metadata": {
    "ExecuteTime": {
     "end_time": "2025-01-03T14:36:33.636508Z",
     "start_time": "2025-01-03T14:36:33.631118Z"
    }
   },
   "outputs": [],
   "source": [
    "import pandas as pd\n",
    "import hopsworks\n",
    "from utils import *\n",
    "import json\n",
    "import os\n",
    "import warnings\n",
    "from dotenv import load_dotenv\n",
    "import datetime\n",
    "#from datetime import timezone\n",
    "\n",
    "warnings.filterwarnings(\"ignore\")"
   ]
  },
  {
   "cell_type": "code",
   "execution_count": 22,
   "metadata": {
    "ExecuteTime": {
     "end_time": "2025-01-03T14:36:37.193142Z",
     "start_time": "2025-01-03T14:36:34.066083Z"
    }
   },
   "outputs": [
    {
     "name": "stdout",
     "output_type": "stream",
     "text": [
      "2025-01-03 16:36:34,065 INFO: Closing external client and cleaning up certificates.\n",
      "Connection closed.\n",
      "2025-01-03 16:36:34,071 INFO: Initializing external client\n",
      "2025-01-03 16:36:34,072 INFO: Base URL: https://c.app.hopsworks.ai:443\n",
      "2025-01-03 16:36:35,773 INFO: Python Engine initialized.\n",
      "\n",
      "Logged in to project, explore it here https://c.app.hopsworks.ai:443/p/1160346\n"
     ]
    }
   ],
   "source": [
    "load_dotenv()\n",
    "#os.environ[\"HOPSWORKS_API_KEY\"] = os.getenv(\"HOPSWORKS_API_KEY\")\n",
    "\n",
    "\n",
    "project = hopsworks.login()"
   ]
  },
  {
   "cell_type": "code",
   "execution_count": 23,
   "metadata": {
    "ExecuteTime": {
     "end_time": "2025-01-03T14:36:37.364865Z",
     "start_time": "2025-01-03T14:36:37.196481Z"
    }
   },
   "outputs": [
    {
     "data": {
      "text/plain": "1735914997"
     },
     "execution_count": 23,
     "metadata": {},
     "output_type": "execute_result"
    }
   ],
   "source": [
    "\n",
    "fs = project.get_feature_store() \n",
    "#secrets = secrets_api(project.name)\n",
    "\n",
    "# This line will fail if you have not registered the CRYPTO_API_KEY as a secret in Hopsworks\n",
    "#CRYPTO_API_KEY = secrets.get_secret(\"CRYPTO_API_KEY\").value\n",
    "\n",
    "#CRYPTO_API_KEY = os.getenv(\"CRYPTO_API_KEY\")\n",
    "today = int(time.time())\n",
    "seconds_in_one_day = 24 * 60 * 60\n",
    "\n",
    "\n",
    "today\n"
   ]
  },
  {
   "cell_type": "code",
   "execution_count": 5,
   "metadata": {
    "ExecuteTime": {
     "end_time": "2025-01-03T13:48:17.439329Z",
     "start_time": "2025-01-03T13:48:14.753513Z"
    }
   },
   "outputs": [
    {
     "name": "stdout",
     "output_type": "stream",
     "text": [
      "Finished: Reading data from Hopsworks, using Hopsworks Feature Query Service (0.55s) \n",
      "The maximum date is: 1735862400\n",
      "Difference in days: 0\n"
     ]
    }
   ],
   "source": [
    "\n",
    "# Step 2: Retrieve the feature group by name and version\n",
    "solana_feature_group = fs.get_feature_group(\n",
    "    name=\"solana\",  \n",
    "    version=1\n",
    ")\n",
    "\n",
    "# Step 3: Read the data from the feature group\n",
    "s_data_df = solana_feature_group.select([\"timestamp\"]).read()\n",
    "\n",
    "# Step 4: Find the maximum date\n",
    "solana_max_date = s_data_df['timestamp'].max()\n",
    "solana_difference = (today - solana_max_date)//seconds_in_one_day\n",
    "\n",
    "# Step 5: Print the result\n",
    "print(f\"The maximum date is: {solana_max_date}\")\n",
    "print(f\"Difference in days: {solana_difference}\")\n"
   ]
  },
  {
   "cell_type": "code",
   "execution_count": 6,
   "metadata": {
    "ExecuteTime": {
     "end_time": "2025-01-03T13:48:19.080046Z",
     "start_time": "2025-01-03T13:48:17.443710Z"
    }
   },
   "outputs": [
    {
     "name": "stdout",
     "output_type": "stream",
     "text": [
      "Finished: Reading data from Hopsworks, using Hopsworks Feature Query Service (0.84s) \n",
      "The maximum date is: 1735862400\n",
      "Difference in days: 0\n"
     ]
    }
   ],
   "source": [
    "# Step 2: Retrieve the feature group by name and version\n",
    "bitcoin_feature_group = fs.get_feature_group(\n",
    "    name=\"bitcoin\",  \n",
    "    version=1\n",
    ")\n",
    "\n",
    "# Step 3: Read the data from the feature group\n",
    "b_data_df = bitcoin_feature_group.select([\"timestamp\"]).read()\n",
    "\n",
    "# Step 4: Find the maximum date\n",
    "bitcoin_max_date = b_data_df['timestamp'].max()\n",
    "bitcoin_difference = (today - bitcoin_max_date)//seconds_in_one_day\n",
    "\n",
    "# Step 5: Print the result\n",
    "print(f\"The maximum date is: {bitcoin_max_date}\")\n",
    "print(f\"Difference in days: {bitcoin_difference}\")\n"
   ]
  },
  {
   "cell_type": "code",
   "execution_count": 7,
   "metadata": {
    "ExecuteTime": {
     "end_time": "2025-01-03T13:48:20.861395Z",
     "start_time": "2025-01-03T13:48:19.083333Z"
    }
   },
   "outputs": [
    {
     "name": "stdout",
     "output_type": "stream",
     "text": [
      "Finished: Reading data from Hopsworks, using Hopsworks Feature Query Service (0.89s) \n",
      "The maximum date is: 1735776000\n",
      "Difference in days: 1\n"
     ]
    }
   ],
   "source": [
    "#fs = project.get_feature_store(name='kth_lab1_2024_featurestore')\n",
    "fs = project.get_feature_store()\n",
    "\n",
    "fng_feature_group = fs.get_feature_group(\n",
    "    name='f_n_g_index', \n",
    "    version=1)\n",
    "fng_df = fng_feature_group.read()\n",
    "\n",
    "# Step 4: Find the maximum date\n",
    "fng_max_date = int(fng_df['timestamp'].max())\n",
    "fng_difference = (today - fng_max_date)//seconds_in_one_day\n",
    "\n",
    "# Step 5: Print the result\n",
    "print(f\"The maximum date is: {fng_max_date}\")\n",
    "print(f\"Difference in days: {fng_difference}\")\n"
   ]
  },
  {
   "cell_type": "markdown",
   "metadata": {},
   "source": [
    "### Getting missing data"
   ]
  },
  {
   "cell_type": "markdown",
   "metadata": {},
   "source": [
    "### Request solana price from last available data till now"
   ]
  },
  {
   "cell_type": "code",
   "execution_count": 19,
   "metadata": {
    "ExecuteTime": {
     "end_time": "2025-01-03T14:35:45.451099Z",
     "start_time": "2025-01-03T14:35:45.442988Z"
    }
   },
   "outputs": [],
   "source": [
    "\n",
    "url = \"https://data-api.cryptocompare.com//spot/v1/historical/days\"\n",
    "\n",
    "# Load environment variables from the .env file\n",
    "load_dotenv()\n",
    "crypto_api_key = os.getenv(\"CRYPTO_API_KEY\")\n",
    "\n",
    "\n",
    "params = {\n",
    "    \"market\":\"kraken\",\n",
    "    \"instrument\": \"SOL-USD\",  \n",
    "    \"limit\": solana_difference,  \n",
    "    \"api_key\": crypto_api_key,\n",
    "}\n",
    "if solana_difference!=0:\n",
    "    sol_response = trigger_request(url, params)\n",
    "    sol_response_df = pd.DataFrame(sol_response[\"Data\"])\n",
    "    sol_response_df = sol_response_df[[\"TIMESTAMP\", 'OPEN', 'HIGH', 'LOW', 'CLOSE', \"VOLUME\", 'VOLUME_BUY', 'VOLUME_SELL']]\n",
    "    sol_response_df.columns = sol_response_df.columns.str.lower()\n",
    "    sol_response_df['open'] = sol_response_df['open'].astype(float)\n",
    "    sol_response_df['close'] = sol_response_df['close'].astype(float)\n",
    "\n",
    "\n",
    "    print(\"Num entries to add: \", len(sol_response_df))\n",
    "else:\n",
    "    sol_response_df = pd.DataFrame(columns=[\"timestamp\",\"open\",\"high\", \"low\",\"close\", \"volume\", \"volume_buy\", \"volume_sell\"])"
   ]
  },
  {
   "cell_type": "code",
   "execution_count": 18,
   "metadata": {
    "ExecuteTime": {
     "end_time": "2025-01-03T14:35:15.623525Z",
     "start_time": "2025-01-03T14:35:15.615990Z"
    }
   },
   "outputs": [
    {
     "data": {
      "text/plain": "Empty DataFrame\nColumns: [timestamp, open, high, low, close, volume, volume_buy, volume_sell]\nIndex: []",
      "text/html": "<div>\n<style scoped>\n    .dataframe tbody tr th:only-of-type {\n        vertical-align: middle;\n    }\n\n    .dataframe tbody tr th {\n        vertical-align: top;\n    }\n\n    .dataframe thead th {\n        text-align: right;\n    }\n</style>\n<table border=\"1\" class=\"dataframe\">\n  <thead>\n    <tr style=\"text-align: right;\">\n      <th></th>\n      <th>timestamp</th>\n      <th>open</th>\n      <th>high</th>\n      <th>low</th>\n      <th>close</th>\n      <th>volume</th>\n      <th>volume_buy</th>\n      <th>volume_sell</th>\n    </tr>\n  </thead>\n  <tbody>\n  </tbody>\n</table>\n</div>"
     },
     "execution_count": 18,
     "metadata": {},
     "output_type": "execute_result"
    }
   ],
   "source": [
    "sol_response_df.head()"
   ]
  },
  {
   "cell_type": "markdown",
   "metadata": {},
   "source": [
    "### Request bitcoin price from last available data till now"
   ]
  },
  {
   "cell_type": "code",
   "execution_count": 20,
   "metadata": {
    "ExecuteTime": {
     "end_time": "2025-01-03T14:36:24.424005Z",
     "start_time": "2025-01-03T14:36:24.415922Z"
    }
   },
   "outputs": [
    {
     "data": {
      "text/plain": "Empty DataFrame\nColumns: [timestamp, open, high, low, close, volume, volume_buy, volume_sell]\nIndex: []",
      "text/html": "<div>\n<style scoped>\n    .dataframe tbody tr th:only-of-type {\n        vertical-align: middle;\n    }\n\n    .dataframe tbody tr th {\n        vertical-align: top;\n    }\n\n    .dataframe thead th {\n        text-align: right;\n    }\n</style>\n<table border=\"1\" class=\"dataframe\">\n  <thead>\n    <tr style=\"text-align: right;\">\n      <th></th>\n      <th>timestamp</th>\n      <th>open</th>\n      <th>high</th>\n      <th>low</th>\n      <th>close</th>\n      <th>volume</th>\n      <th>volume_buy</th>\n      <th>volume_sell</th>\n    </tr>\n  </thead>\n  <tbody>\n  </tbody>\n</table>\n</div>"
     },
     "execution_count": 20,
     "metadata": {},
     "output_type": "execute_result"
    }
   ],
   "source": [
    "load_dotenv()\n",
    "crypto_api_key = os.getenv(\"CRYPTO_API_KEY\")\n",
    "\n",
    "\n",
    "params = {\n",
    "    \"market\":\"kraken\",\n",
    "    \"instrument\": \"BTC-USD\",  \n",
    "    \"limit\": bitcoin_difference,  \n",
    "    \"api_key\": crypto_api_key,\n",
    "}\n",
    "\n",
    "if bitcoin_difference>0:\n",
    "    bitcoin_response = trigger_request(url, params)\n",
    "    bitcoin_response_df = pd.DataFrame(bitcoin_response[\"Data\"])\n",
    "    bitcoin_response_df = bitcoin_response_df[[\"TIMESTAMP\", 'OPEN', 'HIGH', 'LOW', 'CLOSE', \"VOLUME\", 'VOLUME_BUY', 'VOLUME_SELL']]\n",
    "    bitcoin_response_df.columns = bitcoin_response_df.columns.str.lower()\n",
    "    bitcoin_response_df['open'] = bitcoin_response_df['open'].astype(float)\n",
    "    bitcoin_response_df['close'] = bitcoin_response_df['close'].astype(float)\n",
    "\n",
    "\n",
    "    print(\"Num entries to add: \", len(bitcoin_response_df))\n",
    "else:\n",
    "    bitcoin_response_df = pd.DataFrame(columns=[\"timestamp\",\"open\",\"high\", \"low\",\"close\", \"volume\", \"volume_buy\", \"volume_sell\"])\n",
    "\n",
    "bitcoin_response_df.head()"
   ]
  },
  {
   "cell_type": "code",
   "execution_count": 11,
   "metadata": {
    "ExecuteTime": {
     "end_time": "2025-01-03T13:48:20.918665Z",
     "start_time": "2025-01-03T13:48:20.887979Z"
    }
   },
   "outputs": [
    {
     "data": {
      "text/plain": "Empty DataFrame\nColumns: [timestamp, open, high, low, close, volume, volume_buy, volume_sell]\nIndex: []",
      "text/html": "<div>\n<style scoped>\n    .dataframe tbody tr th:only-of-type {\n        vertical-align: middle;\n    }\n\n    .dataframe tbody tr th {\n        vertical-align: top;\n    }\n\n    .dataframe thead th {\n        text-align: right;\n    }\n</style>\n<table border=\"1\" class=\"dataframe\">\n  <thead>\n    <tr style=\"text-align: right;\">\n      <th></th>\n      <th>timestamp</th>\n      <th>open</th>\n      <th>high</th>\n      <th>low</th>\n      <th>close</th>\n      <th>volume</th>\n      <th>volume_buy</th>\n      <th>volume_sell</th>\n    </tr>\n  </thead>\n  <tbody>\n  </tbody>\n</table>\n</div>"
     },
     "execution_count": 11,
     "metadata": {},
     "output_type": "execute_result"
    }
   ],
   "source": [
    "bitcoin_response_df"
   ]
  },
  {
   "cell_type": "markdown",
   "metadata": {},
   "source": [
    "### Request fear and greed index values from last available data till now"
   ]
  },
  {
   "cell_type": "code",
   "execution_count": 12,
   "metadata": {
    "ExecuteTime": {
     "end_time": "2025-01-03T13:48:21.467241Z",
     "start_time": "2025-01-03T13:48:20.892703Z"
    }
   },
   "outputs": [
    {
     "data": {
      "text/plain": "  value value_classification     timestamp\n0    74                Greed  1.735862e+09",
      "text/html": "<div>\n<style scoped>\n    .dataframe tbody tr th:only-of-type {\n        vertical-align: middle;\n    }\n\n    .dataframe tbody tr th {\n        vertical-align: top;\n    }\n\n    .dataframe thead th {\n        text-align: right;\n    }\n</style>\n<table border=\"1\" class=\"dataframe\">\n  <thead>\n    <tr style=\"text-align: right;\">\n      <th></th>\n      <th>value</th>\n      <th>value_classification</th>\n      <th>timestamp</th>\n    </tr>\n  </thead>\n  <tbody>\n    <tr>\n      <th>0</th>\n      <td>74</td>\n      <td>Greed</td>\n      <td>1.735862e+09</td>\n    </tr>\n  </tbody>\n</table>\n</div>"
     },
     "execution_count": 12,
     "metadata": {},
     "output_type": "execute_result"
    }
   ],
   "source": [
    "url = \"https://api.alternative.me/fng/?\"\n",
    "\n",
    "# Set the parameters for the API request\n",
    "params = {\n",
    "    \"limit\": fng_difference  # Number of days of data to retrieve\n",
    "}\n",
    "\n",
    "if fng_difference>0:\n",
    "    fng_response = trigger_request(url, params)\n",
    "    fng_df = pd.DataFrame(fng_response['data'])\n",
    "    fng_df['timestamp'] = fng_df['timestamp'].astype(float)\n",
    "    fng_df.rename(columns={'value_classification': 'value_classification'}, inplace=True)\n",
    "    fng_df.rename(columns={'value': 'value'}, inplace=True)\n",
    "\n",
    "    fng_df.drop(columns=[\"time_until_update\"],inplace=True)\n",
    "    fng_df.head()\n",
    "else:\n",
    "    fng_df = pd.DataFrame(columns=[\"value\",\"value_classification\",\"timestamp\"])\n",
    "fng_df.head()"
   ]
  },
  {
   "cell_type": "markdown",
   "metadata": {},
   "source": [
    "### Now we need to use the responses to update the data in Hopsworks"
   ]
  },
  {
   "cell_type": "code",
   "execution_count": 13,
   "metadata": {
    "ExecuteTime": {
     "end_time": "2025-01-03T13:48:21.472205Z",
     "start_time": "2025-01-03T13:48:21.468126Z"
    }
   },
   "outputs": [],
   "source": [
    "if not test_mode and sol_response_df.shape[0]>0:\n",
    "    solana_feature_group.insert(sol_response_df)\n",
    "\n"
   ]
  },
  {
   "cell_type": "code",
   "execution_count": 14,
   "metadata": {
    "ExecuteTime": {
     "end_time": "2025-01-03T13:48:21.477112Z",
     "start_time": "2025-01-03T13:48:21.472906Z"
    }
   },
   "outputs": [],
   "source": [
    "if not test_mode and bitcoin_response_df.shape[0]>0:\n",
    "    bitcoin_feature_group.insert(bitcoin_response_df)\n"
   ]
  },
  {
   "cell_type": "code",
   "execution_count": 15,
   "metadata": {
    "ExecuteTime": {
     "end_time": "2025-01-03T13:48:21.478996Z",
     "start_time": "2025-01-03T13:48:21.474205Z"
    }
   },
   "outputs": [
    {
     "data": {
      "text/plain": "  value value_classification     timestamp\n0    74                Greed  1.735862e+09",
      "text/html": "<div>\n<style scoped>\n    .dataframe tbody tr th:only-of-type {\n        vertical-align: middle;\n    }\n\n    .dataframe tbody tr th {\n        vertical-align: top;\n    }\n\n    .dataframe thead th {\n        text-align: right;\n    }\n</style>\n<table border=\"1\" class=\"dataframe\">\n  <thead>\n    <tr style=\"text-align: right;\">\n      <th></th>\n      <th>value</th>\n      <th>value_classification</th>\n      <th>timestamp</th>\n    </tr>\n  </thead>\n  <tbody>\n    <tr>\n      <th>0</th>\n      <td>74</td>\n      <td>Greed</td>\n      <td>1.735862e+09</td>\n    </tr>\n  </tbody>\n</table>\n</div>"
     },
     "execution_count": 15,
     "metadata": {},
     "output_type": "execute_result"
    }
   ],
   "source": [
    "fng_df.head()"
   ]
  },
  {
   "cell_type": "code",
   "execution_count": 16,
   "metadata": {
    "ExecuteTime": {
     "end_time": "2025-01-03T13:48:33.658987Z",
     "start_time": "2025-01-03T13:48:21.479537Z"
    }
   },
   "outputs": [
    {
     "name": "stderr",
     "output_type": "stream",
     "text": [
      "Uploading Dataframe: 100.00% |██████████| Rows 1/1 | Elapsed Time: 00:01 | Remaining Time: 00:00\n"
     ]
    },
    {
     "name": "stdout",
     "output_type": "stream",
     "text": [
      "Launching job: f_n_g_index_1_offline_fg_materialization\n",
      "Job started successfully, you can follow the progress at \n",
      "https://c.app.hopsworks.ai:443/p/1160346/jobs/named/f_n_g_index_1_offline_fg_materialization/executions\n"
     ]
    }
   ],
   "source": [
    "if not test_mode and fng_df.shape[0]>0:\n",
    "    fng_feature_group.insert(fng_df)"
   ]
  },
  {
   "cell_type": "code",
   "execution_count": 16,
   "metadata": {
    "ExecuteTime": {
     "end_time": "2025-01-03T13:48:33.672438Z",
     "start_time": "2025-01-03T13:48:33.660688Z"
    }
   },
   "outputs": [],
   "source": []
  }
 ],
 "metadata": {
  "kernelspec": {
   "display_name": "final_project_env",
   "language": "python",
   "name": "python3"
  },
  "language_info": {
   "codemirror_mode": {
    "name": "ipython",
    "version": 3
   },
   "file_extension": ".py",
   "mimetype": "text/x-python",
   "name": "python",
   "nbconvert_exporter": "python",
   "pygments_lexer": "ipython3",
   "version": "3.10.16"
  }
 },
 "nbformat": 4,
 "nbformat_minor": 2
}
