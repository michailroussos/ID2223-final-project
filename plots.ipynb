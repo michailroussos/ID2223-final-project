{
 "cells": [
  {
   "cell_type": "code",
   "execution_count": 17,
   "id": "initial_id",
   "metadata": {
    "collapsed": true,
    "ExecuteTime": {
     "end_time": "2025-01-02T16:35:55.558291Z",
     "start_time": "2025-01-02T16:35:55.548886Z"
    }
   },
   "outputs": [],
   "source": [
    "\n",
    "import numpy as np\n",
    "\n",
    "import time\n",
    "import hopsworks\n",
    "import os\n",
    "from dotenv import load_dotenv\n",
    "import joblib\n",
    "from datetime import datetime, timedelta, date\n",
    "import pandas as pd\n",
    "\n",
    "import hopsworks\n",
    "import matplotlib.pyplot as plt\n",
    "\n",
    "from utils import *\n",
    "import utils\n"
   ]
  },
  {
   "cell_type": "code",
   "execution_count": 18,
   "outputs": [
    {
     "name": "stdout",
     "output_type": "stream",
     "text": [
      "2025-01-02 18:35:57,154 INFO: Closing external client and cleaning up certificates.\n",
      "Connection closed.\n",
      "2025-01-02 18:35:57,159 INFO: Initializing external client\n",
      "2025-01-02 18:35:57,160 INFO: Base URL: https://c.app.hopsworks.ai:443\n",
      "2025-01-02 18:35:58,813 INFO: Python Engine initialized.\n",
      "\n",
      "Logged in to project, explore it here https://c.app.hopsworks.ai:443/p/1160346\n"
     ]
    }
   ],
   "source": [
    "load_dotenv()\n",
    "#os.environ[\"HOPSWORKS_API_KEY\"] = os.getenv(\"HOPSWORKS_API_KEY\")\n",
    "\n",
    "\n",
    "project = hopsworks.login()"
   ],
   "metadata": {
    "collapsed": false,
    "ExecuteTime": {
     "end_time": "2025-01-02T16:36:00.173746Z",
     "start_time": "2025-01-02T16:35:57.154227Z"
    }
   },
   "id": "2f8c34a71bfe0a75"
  },
  {
   "cell_type": "code",
   "execution_count": 27,
   "outputs": [
    {
     "data": {
      "text/plain": "Timestamp('2025-01-02 00:00:00+0000', tz='UTC')"
     },
     "execution_count": 27,
     "metadata": {},
     "output_type": "execute_result"
    }
   ],
   "source": [
    "\n",
    "fs = project.get_feature_store() \n",
    "#secrets = secrets_api(project.name)\n",
    "\n",
    "# This line will fail if you have not registered the CRYPTO_API_KEY as a secret in Hopsworks\n",
    "#CRYPTO_API_KEY = secrets.get_secret(\"CRYPTO_API_KEY\").value\n",
    "\n",
    "#CRYPTO_API_KEY = os.getenv(\"CRYPTO_API_KEY\")\n",
    "\n",
    "\n",
    "today = pd.to_datetime(date.today()).normalize().tz_localize('UTC')\n",
    "\n",
    "\n",
    "today"
   ],
   "metadata": {
    "collapsed": false,
    "ExecuteTime": {
     "end_time": "2025-01-02T16:42:20.192494Z",
     "start_time": "2025-01-02T16:42:19.601346Z"
    }
   },
   "id": "a59a18c1ecdcc9b8"
  },
  {
   "cell_type": "code",
   "execution_count": 31,
   "outputs": [
    {
     "name": "stdout",
     "output_type": "stream",
     "text": [
      "Finished: Reading data from Hopsworks, using Hopsworks Feature Query Service (0.67s) \n",
      "The maximum date is: 2025-01-03 00:00:00+00:00\n",
      "Difference in days: -1\n"
     ]
    }
   ],
   "source": [
    "#Step 1: get the oldest forcasted date\n",
    "solana_pred_feature_group = fs.get_feature_group(\n",
    "    name=\"solana_predictions\",  \n",
    "    version=1\n",
    ")\n",
    "\n",
    "# Step 3: Read the data from the feature group\n",
    "s_data_df = solana_pred_feature_group.select([\"date\"]).read()\n",
    "\n",
    "# Step 4: Find the maximum date\n",
    "solana_pred_min_date = s_data_df['date'].min()\n",
    "solana_difference = (today - solana_pred_min_date).days\n",
    "\n",
    "# Step 5: Print the result\n",
    "print(f\"The maximum date is: {solana_pred_min_date}\")\n",
    "print(f\"Difference in days: {solana_difference}\")"
   ],
   "metadata": {
    "collapsed": false,
    "ExecuteTime": {
     "end_time": "2025-01-02T16:45:21.787541Z",
     "start_time": "2025-01-02T16:45:20.167349Z"
    }
   },
   "id": "8405e9475da1c57f"
  },
  {
   "cell_type": "code",
   "execution_count": 45,
   "outputs": [
    {
     "name": "stdout",
     "output_type": "stream",
     "text": [
      "Num entries to add:  2\n"
     ]
    }
   ],
   "source": [
    "#Step 2: get actual values\n",
    "\n",
    "\n",
    "url = \"https://data-api.cryptocompare.com//spot/v1/historical/days\"\n",
    "\n",
    "# Load environment variables from the .env file\n",
    "load_dotenv()\n",
    "crypto_api_key = os.getenv(\"CRYPTO_API_KEY\")\n",
    "\n",
    "\n",
    "params = {\n",
    "    \"market\":\"kraken\",\n",
    "    \"instrument\": \"SOL-USD\",  \n",
    "    \"limit\": solana_difference,  \n",
    "    \"api_key\": crypto_api_key,\n",
    "}\n",
    "if solana_difference!=0:\n",
    "    sol_response = trigger_request(url, params)\n",
    "    sol_response_df = pd.DataFrame(sol_response[\"Data\"])\n",
    "    sol_response_df = sol_response_df[[\"TIMESTAMP\", 'OPEN']]\n",
    "    sol_response_df.columns = sol_response_df.columns.str.lower()\n",
    "    print(\"Num entries to add: \", len(sol_response_df))\n",
    "else:\n",
    "    sol_response_df = pd.DataFrame(columns=[\"timestamp\",\"open\"])\n"
   ],
   "metadata": {
    "collapsed": false,
    "ExecuteTime": {
     "end_time": "2025-01-02T16:51:33.055943Z",
     "start_time": "2025-01-02T16:51:31.680348Z"
    }
   },
   "id": "9884538f9a28c54"
  },
  {
   "cell_type": "code",
   "execution_count": 48,
   "outputs": [
    {
     "data": {
      "text/plain": "     open       date\n0  188.95 2025-01-01\n1  193.82 2025-01-02",
      "text/html": "<div>\n<style scoped>\n    .dataframe tbody tr th:only-of-type {\n        vertical-align: middle;\n    }\n\n    .dataframe tbody tr th {\n        vertical-align: top;\n    }\n\n    .dataframe thead th {\n        text-align: right;\n    }\n</style>\n<table border=\"1\" class=\"dataframe\">\n  <thead>\n    <tr style=\"text-align: right;\">\n      <th></th>\n      <th>open</th>\n      <th>date</th>\n    </tr>\n  </thead>\n  <tbody>\n    <tr>\n      <th>0</th>\n      <td>188.95</td>\n      <td>2025-01-01</td>\n    </tr>\n    <tr>\n      <th>1</th>\n      <td>193.82</td>\n      <td>2025-01-02</td>\n    </tr>\n  </tbody>\n</table>\n</div>"
     },
     "execution_count": 48,
     "metadata": {},
     "output_type": "execute_result"
    }
   ],
   "source": [
    "sol_response_df['date'] = pd.to_datetime(sol_response_df['timestamp'], unit='s')\n",
    "sol_response_df['date'] = sol_response_df['date'].dt.normalize()\n",
    "sol_response_df.drop(columns=[\"timestamp\"], inplace=True)\n",
    "sol_response_df"
   ],
   "metadata": {
    "collapsed": false,
    "ExecuteTime": {
     "end_time": "2025-01-02T16:52:39.466256Z",
     "start_time": "2025-01-02T16:52:39.462281Z"
    }
   },
   "id": "c2c25fb91194a45b"
  },
  {
   "cell_type": "code",
   "execution_count": null,
   "outputs": [],
   "source": [],
   "metadata": {
    "collapsed": false
   },
   "id": "595d28fd2f39a231"
  }
 ],
 "metadata": {
  "kernelspec": {
   "display_name": "Python 3",
   "language": "python",
   "name": "python3"
  },
  "language_info": {
   "codemirror_mode": {
    "name": "ipython",
    "version": 2
   },
   "file_extension": ".py",
   "mimetype": "text/x-python",
   "name": "python",
   "nbconvert_exporter": "python",
   "pygments_lexer": "ipython2",
   "version": "2.7.6"
  }
 },
 "nbformat": 4,
 "nbformat_minor": 5
}
