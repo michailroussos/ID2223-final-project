{
 "cells": [
  {
   "cell_type": "markdown",
   "id": "f139ba67",
   "metadata": {},
   "source": [
    "<span style=\"font-width:bold; font-size: 3rem; color:#333;\">- Part 01: Feature Backfill for SOLANA bitcoin</span>\n",
    "\n",
    "\n",
    "## 🗒️ The tasks of this script\n",
    "1. Download historical prices for SOLANA and Bitcoin as CSV files\n",
    "2. Update the path of the CSV files in this notebook to point to the ones that you downloaded\n",
    "5. Create an account on www.hopsworks.ai and get your HOPSWORKS_API_KEY\n",
    "6. Run notebook to upload the feature on a hopsworks feature storage\n",
    "\n"
   ]
  },
  {
   "cell_type": "markdown",
   "id": "41d6a80c",
   "metadata": {},
   "source": [
    "### <span style='color:#ff5f27'> 📝 Imports"
   ]
  },
  {
   "cell_type": "code",
   "execution_count": 40,
   "id": "9df4d344",
   "metadata": {},
   "outputs": [],
   "source": [
    "test_mode = True"
   ]
  },
  {
   "cell_type": "code",
   "execution_count": 41,
   "id": "0f447120",
   "metadata": {},
   "outputs": [],
   "source": [
    "import pandas as pd\n",
    "import hopsworks\n",
    "from utils import *\n",
    "import json\n",
    "import os\n",
    "import warnings\n",
    "from dotenv import load_dotenv\n",
    "\n",
    "warnings.filterwarnings(\"ignore\")\n",
    "pd.set_option('display.float_format', '{:.0f}'.format)\n"
   ]
  },
  {
   "cell_type": "markdown",
   "id": "0bb50142-06be-4003-9fd0-6b19c095b010",
   "metadata": {},
   "source": [
    "### IF YOU WANT TO WIPE OUT ALL OF YOUR FEATURES AND MODELS, run the cell below"
   ]
  },
  {
   "cell_type": "code",
   "execution_count": 42,
   "id": "014f3362-87f5-4abd-bb57-bebd28638bdb",
   "metadata": {},
   "outputs": [],
   "source": [
    "# If you haven't set the env variable 'HOPSWORKS_API_KEY', then uncomment the next line and enter your API key\n",
    "# with open('../../data/hopsworks-api-key.txt', 'r') as file:\n",
    "#     os.environ[\"HOPSWORKS_API_KEY\"] = file.read().rstrip()\n",
    "# #proj = hopsworks.login()\n",
    "#util.purge_project(proj)"
   ]
  },
  {
   "cell_type": "markdown",
   "id": "dcdd79b8",
   "metadata": {},
   "source": [
    "### Connect to hopsworks and upload historical data"
   ]
  },
  {
   "cell_type": "markdown",
   "id": "50156f96",
   "metadata": {},
   "source": [
    "---"
   ]
  },
  {
   "cell_type": "code",
   "execution_count": 43,
   "id": "9f1a49d6-9cd2-4246-b0ca-1058672e4848",
   "metadata": {},
   "outputs": [
    {
     "name": "stdout",
     "output_type": "stream",
     "text": [
      "2024-12-28 12:18:53,035 INFO: Initializing external client\n",
      "2024-12-28 12:18:53,036 INFO: Base URL: https://c.app.hopsworks.ai:443\n",
      "2024-12-28 12:18:55,558 INFO: Python Engine initialized.\n",
      "\n",
      "Logged in to project, explore it here https://c.app.hopsworks.ai:443/p/1164448\n"
     ]
    }
   ],
   "source": [
    "load_dotenv()\n",
    "os.environ[\"HOPSWORKS_API_KEY\"] = os.getenv(\"HOPSWORKS_API_KEY\")\n",
    "project = hopsworks.login()"
   ]
  },
  {
   "cell_type": "markdown",
   "id": "26aa1e9a",
   "metadata": {},
   "source": [
    "### Add historical data to hopsworks feature storage"
   ]
  },
  {
   "cell_type": "markdown",
   "id": "1a730749",
   "metadata": {},
   "source": [
    "#### Add historical solana prices"
   ]
  },
  {
   "cell_type": "code",
   "execution_count": null,
   "id": "86b31d1c",
   "metadata": {},
   "outputs": [
    {
     "data": {
      "text/html": [
       "<div>\n",
       "<style scoped>\n",
       "    .dataframe tbody tr th:only-of-type {\n",
       "        vertical-align: middle;\n",
       "    }\n",
       "\n",
       "    .dataframe tbody tr th {\n",
       "        vertical-align: top;\n",
       "    }\n",
       "\n",
       "    .dataframe thead th {\n",
       "        text-align: right;\n",
       "    }\n",
       "</style>\n",
       "<table border=\"1\" class=\"dataframe\">\n",
       "  <thead>\n",
       "    <tr style=\"text-align: right;\">\n",
       "      <th></th>\n",
       "      <th>timestamp</th>\n",
       "      <th>open</th>\n",
       "      <th>high</th>\n",
       "      <th>low</th>\n",
       "      <th>close</th>\n",
       "      <th>volume</th>\n",
       "      <th>volume_buy</th>\n",
       "      <th>volume_sell</th>\n",
       "    </tr>\n",
       "  </thead>\n",
       "  <tbody>\n",
       "    <tr>\n",
       "      <th>0</th>\n",
       "      <td>1623888000</td>\n",
       "      <td>40</td>\n",
       "      <td>41</td>\n",
       "      <td>38</td>\n",
       "      <td>39</td>\n",
       "      <td>6008</td>\n",
       "      <td>2886</td>\n",
       "      <td>3122</td>\n",
       "    </tr>\n",
       "    <tr>\n",
       "      <th>1</th>\n",
       "      <td>1623974400</td>\n",
       "      <td>39</td>\n",
       "      <td>39</td>\n",
       "      <td>35</td>\n",
       "      <td>37</td>\n",
       "      <td>13557</td>\n",
       "      <td>7925</td>\n",
       "      <td>5632</td>\n",
       "    </tr>\n",
       "    <tr>\n",
       "      <th>2</th>\n",
       "      <td>1624060800</td>\n",
       "      <td>37</td>\n",
       "      <td>37</td>\n",
       "      <td>35</td>\n",
       "      <td>35</td>\n",
       "      <td>16986</td>\n",
       "      <td>9258</td>\n",
       "      <td>7728</td>\n",
       "    </tr>\n",
       "    <tr>\n",
       "      <th>3</th>\n",
       "      <td>1624147200</td>\n",
       "      <td>35</td>\n",
       "      <td>36</td>\n",
       "      <td>31</td>\n",
       "      <td>35</td>\n",
       "      <td>38681</td>\n",
       "      <td>21053</td>\n",
       "      <td>17629</td>\n",
       "    </tr>\n",
       "    <tr>\n",
       "      <th>4</th>\n",
       "      <td>1624233600</td>\n",
       "      <td>35</td>\n",
       "      <td>35</td>\n",
       "      <td>26</td>\n",
       "      <td>27</td>\n",
       "      <td>41904</td>\n",
       "      <td>15381</td>\n",
       "      <td>26523</td>\n",
       "    </tr>\n",
       "  </tbody>\n",
       "</table>\n",
       "</div>"
      ],
      "text/plain": [
       "    timestamp  open  high  low  close  volume  volume_buy  volume_sell\n",
       "0  1623888000    40    41   38     39    6008        2886         3122\n",
       "1  1623974400    39    39   35     37   13557        7925         5632\n",
       "2  1624060800    37    37   35     35   16986        9258         7728\n",
       "3  1624147200    35    36   31     35   38681       21053        17629\n",
       "4  1624233600    35    35   26     27   41904       15381        26523"
      ]
     },
     "execution_count": 44,
     "metadata": {},
     "output_type": "execute_result"
    }
   ],
   "source": [
    "hist_data_sol = pd.read_csv(\"data/historical_solana.csv\")\n",
    "hist_data_sol = hist_data_sol[[\"TIMESTAMP\", 'OPEN', 'HIGH', 'LOW', 'CLOSE', \"VOLUME\", 'VOLUME_BUY', 'VOLUME_SELL']]\n",
    "hist_data_sol.columns = hist_data_sol.columns.str.lower()\n",
    "hist_data_sol.head()"
   ]
  },
  {
   "cell_type": "code",
   "execution_count": 46,
   "id": "5c6a996c",
   "metadata": {},
   "outputs": [],
   "source": [
    "fs = project.get_feature_store() \n",
    "solana_fg = fs.get_or_create_feature_group(\n",
    "    name='solana',\n",
    "    description='Solana price',\n",
    "    version=1,\n",
    "    primary_key=[\"timestamp\"])\n",
    "\n",
    "if not test_mode:\n",
    "    solana_fg.insert(hist_data_sol)  \n",
    "\n",
    "# solana_fg.update_feature_description(\"date\", \"Date\")\n",
    "#solana_fg.update_feature_description(\"price\", \"The price of Solana\")\n",
    "# solana_fg.update_feature_description(\"open\", \"The opening price of Solana\")\n",
    "#solana_fg.update_feature_description(\"high\", \"The highest price of Solana\")\n",
    "#solana_fg.update_feature_description(\"low\", \"The lowest price of Solana\")\n",
    "#solana_fg.update_feature_description(\"vol\", \"Volume\")\n",
    "#solana_fg.update_feature_description(\"change\", \"Change in price\")"
   ]
  },
  {
   "cell_type": "markdown",
   "id": "e43307c3",
   "metadata": {},
   "source": [
    "#### Add historical data for bitcoin"
   ]
  },
  {
   "cell_type": "code",
   "execution_count": null,
   "id": "b316eb31",
   "metadata": {},
   "outputs": [
    {
     "data": {
      "text/html": [
       "<div>\n",
       "<style scoped>\n",
       "    .dataframe tbody tr th:only-of-type {\n",
       "        vertical-align: middle;\n",
       "    }\n",
       "\n",
       "    .dataframe tbody tr th {\n",
       "        vertical-align: top;\n",
       "    }\n",
       "\n",
       "    .dataframe thead th {\n",
       "        text-align: right;\n",
       "    }\n",
       "</style>\n",
       "<table border=\"1\" class=\"dataframe\">\n",
       "  <thead>\n",
       "    <tr style=\"text-align: right;\">\n",
       "      <th></th>\n",
       "      <th>timestamp</th>\n",
       "      <th>open</th>\n",
       "      <th>high</th>\n",
       "      <th>low</th>\n",
       "      <th>close</th>\n",
       "      <th>volume</th>\n",
       "      <th>volume_buy</th>\n",
       "      <th>volume_sell</th>\n",
       "    </tr>\n",
       "  </thead>\n",
       "  <tbody>\n",
       "    <tr>\n",
       "      <th>0</th>\n",
       "      <td>1622678400</td>\n",
       "      <td>37565</td>\n",
       "      <td>39471</td>\n",
       "      <td>37159</td>\n",
       "      <td>39197</td>\n",
       "      <td>5230</td>\n",
       "      <td>2452</td>\n",
       "      <td>2778</td>\n",
       "    </tr>\n",
       "    <tr>\n",
       "      <th>1</th>\n",
       "      <td>1622764800</td>\n",
       "      <td>39197</td>\n",
       "      <td>39250</td>\n",
       "      <td>35577</td>\n",
       "      <td>36848</td>\n",
       "      <td>4992</td>\n",
       "      <td>2199</td>\n",
       "      <td>2793</td>\n",
       "    </tr>\n",
       "    <tr>\n",
       "      <th>2</th>\n",
       "      <td>1622851200</td>\n",
       "      <td>36848</td>\n",
       "      <td>37936</td>\n",
       "      <td>34826</td>\n",
       "      <td>35535</td>\n",
       "      <td>5533</td>\n",
       "      <td>2475</td>\n",
       "      <td>3057</td>\n",
       "    </tr>\n",
       "    <tr>\n",
       "      <th>3</th>\n",
       "      <td>1622937600</td>\n",
       "      <td>35535</td>\n",
       "      <td>36480</td>\n",
       "      <td>35251</td>\n",
       "      <td>35789</td>\n",
       "      <td>3188</td>\n",
       "      <td>1668</td>\n",
       "      <td>1519</td>\n",
       "    </tr>\n",
       "    <tr>\n",
       "      <th>4</th>\n",
       "      <td>1623024000</td>\n",
       "      <td>35789</td>\n",
       "      <td>36796</td>\n",
       "      <td>33334</td>\n",
       "      <td>33588</td>\n",
       "      <td>6166</td>\n",
       "      <td>2555</td>\n",
       "      <td>3611</td>\n",
       "    </tr>\n",
       "    <tr>\n",
       "      <th>...</th>\n",
       "      <td>...</td>\n",
       "      <td>...</td>\n",
       "      <td>...</td>\n",
       "      <td>...</td>\n",
       "      <td>...</td>\n",
       "      <td>...</td>\n",
       "      <td>...</td>\n",
       "      <td>...</td>\n",
       "    </tr>\n",
       "    <tr>\n",
       "      <th>1295</th>\n",
       "      <td>1734566400</td>\n",
       "      <td>100166</td>\n",
       "      <td>102750</td>\n",
       "      <td>95586</td>\n",
       "      <td>97431</td>\n",
       "      <td>3583</td>\n",
       "      <td>1635</td>\n",
       "      <td>1948</td>\n",
       "    </tr>\n",
       "    <tr>\n",
       "      <th>1296</th>\n",
       "      <td>1734652800</td>\n",
       "      <td>97431</td>\n",
       "      <td>98065</td>\n",
       "      <td>92159</td>\n",
       "      <td>97782</td>\n",
       "      <td>3146</td>\n",
       "      <td>1246</td>\n",
       "      <td>1899</td>\n",
       "    </tr>\n",
       "    <tr>\n",
       "      <th>1297</th>\n",
       "      <td>1734739200</td>\n",
       "      <td>97782</td>\n",
       "      <td>99575</td>\n",
       "      <td>96360</td>\n",
       "      <td>97233</td>\n",
       "      <td>1158</td>\n",
       "      <td>551</td>\n",
       "      <td>607</td>\n",
       "    </tr>\n",
       "    <tr>\n",
       "      <th>1298</th>\n",
       "      <td>1734825600</td>\n",
       "      <td>97233</td>\n",
       "      <td>97321</td>\n",
       "      <td>94201</td>\n",
       "      <td>95102</td>\n",
       "      <td>844</td>\n",
       "      <td>278</td>\n",
       "      <td>566</td>\n",
       "    </tr>\n",
       "    <tr>\n",
       "      <th>1299</th>\n",
       "      <td>1734912000</td>\n",
       "      <td>95102</td>\n",
       "      <td>96403</td>\n",
       "      <td>93666</td>\n",
       "      <td>96010</td>\n",
       "      <td>531</td>\n",
       "      <td>211</td>\n",
       "      <td>320</td>\n",
       "    </tr>\n",
       "  </tbody>\n",
       "</table>\n",
       "<p>1300 rows × 8 columns</p>\n",
       "</div>"
      ],
      "text/plain": [
       "       timestamp   open   high   low  close  volume  volume_buy  volume_sell\n",
       "0     1622678400  37565  39471 37159  39197    5230        2452         2778\n",
       "1     1622764800  39197  39250 35577  36848    4992        2199         2793\n",
       "2     1622851200  36848  37936 34826  35535    5533        2475         3057\n",
       "3     1622937600  35535  36480 35251  35789    3188        1668         1519\n",
       "4     1623024000  35789  36796 33334  33588    6166        2555         3611\n",
       "...          ...    ...    ...   ...    ...     ...         ...          ...\n",
       "1295  1734566400 100166 102750 95586  97431    3583        1635         1948\n",
       "1296  1734652800  97431  98065 92159  97782    3146        1246         1899\n",
       "1297  1734739200  97782  99575 96360  97233    1158         551          607\n",
       "1298  1734825600  97233  97321 94201  95102     844         278          566\n",
       "1299  1734912000  95102  96403 93666  96010     531         211          320\n",
       "\n",
       "[1300 rows x 8 columns]"
      ]
     },
     "execution_count": 47,
     "metadata": {},
     "output_type": "execute_result"
    }
   ],
   "source": [
    "hist_data_btc = pd.read_csv(\"data/historical_bitcoin.csv\")\n",
    "hist_data_btc = hist_data_btc[[\"TIMESTAMP\", 'OPEN', 'HIGH', 'LOW', 'CLOSE', \"VOLUME\", 'VOLUME_BUY', 'VOLUME_SELL']]\n",
    "hist_data_btc.columns = hist_data_btc.columns.str.lower()\n",
    "hist_data_btc.head()"
   ]
  },
  {
   "cell_type": "code",
   "execution_count": 48,
   "id": "24305bd0",
   "metadata": {},
   "outputs": [],
   "source": [
    "fs = project.get_feature_store() \n",
    "bitcoin_fg = fs.get_or_create_feature_group(\n",
    "    name='bitcoin',\n",
    "    description='Bitcoin price',\n",
    "    version=1,\n",
    "    primary_key=[\"timestamp\"])\n",
    "\n",
    "if not test_mode:\n",
    "    bitcoin_fg.insert(hist_data_btc)"
   ]
  },
  {
   "cell_type": "markdown",
   "id": "652f0c8d",
   "metadata": {},
   "source": [
    "#### Add historical data for fear and greed index"
   ]
  },
  {
   "cell_type": "code",
   "execution_count": 49,
   "id": "d0dc0b56",
   "metadata": {},
   "outputs": [],
   "source": [
    "import requests\n",
    "import pandas as pd\n",
    "import io\n",
    "\n",
    "\n",
    "url = \"https://api.alternative.me/fng/?\"\n",
    "\n",
    "# Set the parameters for the API request\n",
    "params = {\n",
    "    \"limit\": 0 # Number of days of data to retrieve\n",
    "}\n",
    "\n",
    "fng_response = trigger_request(url, params)\n",
    "data = fng_response['data']"
   ]
  },
  {
   "cell_type": "code",
   "execution_count": 50,
   "id": "e2069896",
   "metadata": {},
   "outputs": [
    {
     "data": {
      "text/html": [
       "<div>\n",
       "<style scoped>\n",
       "    .dataframe tbody tr th:only-of-type {\n",
       "        vertical-align: middle;\n",
       "    }\n",
       "\n",
       "    .dataframe tbody tr th {\n",
       "        vertical-align: top;\n",
       "    }\n",
       "\n",
       "    .dataframe thead th {\n",
       "        text-align: right;\n",
       "    }\n",
       "</style>\n",
       "<table border=\"1\" class=\"dataframe\">\n",
       "  <thead>\n",
       "    <tr style=\"text-align: right;\">\n",
       "      <th></th>\n",
       "      <th>value</th>\n",
       "      <th>value_classification</th>\n",
       "      <th>timestamp</th>\n",
       "    </tr>\n",
       "  </thead>\n",
       "  <tbody>\n",
       "    <tr>\n",
       "      <th>0</th>\n",
       "      <td>72</td>\n",
       "      <td>Greed</td>\n",
       "      <td>1735344000</td>\n",
       "    </tr>\n",
       "    <tr>\n",
       "      <th>1</th>\n",
       "      <td>74</td>\n",
       "      <td>Greed</td>\n",
       "      <td>1735257600</td>\n",
       "    </tr>\n",
       "    <tr>\n",
       "      <th>2</th>\n",
       "      <td>79</td>\n",
       "      <td>Extreme Greed</td>\n",
       "      <td>1735171200</td>\n",
       "    </tr>\n",
       "    <tr>\n",
       "      <th>3</th>\n",
       "      <td>73</td>\n",
       "      <td>Greed</td>\n",
       "      <td>1735084800</td>\n",
       "    </tr>\n",
       "    <tr>\n",
       "      <th>4</th>\n",
       "      <td>73</td>\n",
       "      <td>Greed</td>\n",
       "      <td>1734998400</td>\n",
       "    </tr>\n",
       "    <tr>\n",
       "      <th>...</th>\n",
       "      <td>...</td>\n",
       "      <td>...</td>\n",
       "      <td>...</td>\n",
       "    </tr>\n",
       "    <tr>\n",
       "      <th>2514</th>\n",
       "      <td>11</td>\n",
       "      <td>Extreme Fear</td>\n",
       "      <td>1517788800</td>\n",
       "    </tr>\n",
       "    <tr>\n",
       "      <th>2515</th>\n",
       "      <td>24</td>\n",
       "      <td>Extreme Fear</td>\n",
       "      <td>1517702400</td>\n",
       "    </tr>\n",
       "    <tr>\n",
       "      <th>2516</th>\n",
       "      <td>40</td>\n",
       "      <td>Fear</td>\n",
       "      <td>1517616000</td>\n",
       "    </tr>\n",
       "    <tr>\n",
       "      <th>2517</th>\n",
       "      <td>15</td>\n",
       "      <td>Extreme Fear</td>\n",
       "      <td>1517529600</td>\n",
       "    </tr>\n",
       "    <tr>\n",
       "      <th>2518</th>\n",
       "      <td>30</td>\n",
       "      <td>Fear</td>\n",
       "      <td>1517443200</td>\n",
       "    </tr>\n",
       "  </tbody>\n",
       "</table>\n",
       "<p>2519 rows × 3 columns</p>\n",
       "</div>"
      ],
      "text/plain": [
       "     value value_classification   timestamp\n",
       "0       72                Greed  1735344000\n",
       "1       74                Greed  1735257600\n",
       "2       79        Extreme Greed  1735171200\n",
       "3       73                Greed  1735084800\n",
       "4       73                Greed  1734998400\n",
       "...    ...                  ...         ...\n",
       "2514    11         Extreme Fear  1517788800\n",
       "2515    24         Extreme Fear  1517702400\n",
       "2516    40                 Fear  1517616000\n",
       "2517    15         Extreme Fear  1517529600\n",
       "2518    30                 Fear  1517443200\n",
       "\n",
       "[2519 rows x 3 columns]"
      ]
     },
     "execution_count": 50,
     "metadata": {},
     "output_type": "execute_result"
    }
   ],
   "source": [
    "fng_df = pd.DataFrame(data)\n",
    "fng_df.drop(columns=[\"time_until_update\"], inplace=True)\n",
    "fng_df"
   ]
  },
  {
   "cell_type": "code",
   "execution_count": 51,
   "id": "776a74af",
   "metadata": {},
   "outputs": [],
   "source": [
    "fs = project.get_feature_store() \n",
    "fng_fg = fs.get_or_create_feature_group(\n",
    "    name='f_n_g_index',\n",
    "    description='fear_and_greed_index',\n",
    "    version=8,\n",
    "    primary_key=[\"timestamp\"])\n",
    "\n",
    "if not test_mode:\n",
    "    fng_fg.insert(fng_df)"
   ]
  },
  {
   "cell_type": "markdown",
   "id": "663a1606",
   "metadata": {},
   "source": [
    "#### Enter a description for each feature in the Feature Group"
   ]
  },
  {
   "cell_type": "code",
   "execution_count": 52,
   "id": "577effca",
   "metadata": {},
   "outputs": [
    {
     "data": {
      "text/plain": [
       "<hsfs.feature_group.FeatureGroup at 0x14db4e050>"
      ]
     },
     "execution_count": 52,
     "metadata": {},
     "output_type": "execute_result"
    }
   ],
   "source": [
    "fng_fg.update_feature_description(\"timestamp\", \"Timestamp of the Fear and Greed Index\")\n",
    "fng_fg.update_feature_description(\"fng_value\", \"Fear and Greed Index value\")\n",
    "fng_fg.update_feature_description(\"fng_classification\", \"Fear and Greed Index classification\")\n"
   ]
  },
  {
   "cell_type": "code",
   "execution_count": null,
   "id": "267776da",
   "metadata": {},
   "outputs": [],
   "source": []
  }
 ],
 "metadata": {
  "kernelspec": {
   "display_name": "crypto-env",
   "language": "python",
   "name": "python3"
  },
  "language_info": {
   "codemirror_mode": {
    "name": "ipython",
    "version": 3
   },
   "file_extension": ".py",
   "mimetype": "text/x-python",
   "name": "python",
   "nbconvert_exporter": "python",
   "pygments_lexer": "ipython3",
   "version": "3.10.16"
  }
 },
 "nbformat": 4,
 "nbformat_minor": 5
}
