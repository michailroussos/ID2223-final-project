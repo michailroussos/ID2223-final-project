{
 "cells": [
  {
   "cell_type": "markdown",
   "id": "f139ba67",
   "metadata": {},
   "source": [
    "<span style=\"font-width:bold; font-size: 3rem; color:#333;\">- Part 01: Feature Backfill for SOLANA bitcoin</span>\n",
    "\n",
    "\n",
    "## 🗒️ The tasks of this script\n",
    "1. Download historical prices for SOLANA and Bitcoin as CSV files\n",
    "2. Update the path of the CSV files in this notebook to point to the ones that you downloaded\n",
    "5. Create an account on www.hopsworks.ai and get your HOPSWORKS_API_KEY\n",
    "6. Run notebook to upload the feature on a hopsworks feature storage\n",
    "\n"
   ]
  },
  {
   "cell_type": "markdown",
   "id": "41d6a80c",
   "metadata": {},
   "source": [
    "### <span style='color:#ff5f27'> 📝 Imports"
   ]
  },
  {
   "cell_type": "code",
   "execution_count": 22,
   "id": "0f447120",
   "metadata": {},
   "outputs": [],
   "source": [
    "import pandas as pd\n",
    "import hopsworks\n",
    "from utils import *\n",
    "import json\n",
    "import os\n",
    "import warnings\n",
    "from dotenv import load_dotenv\n",
    "\n",
    "warnings.filterwarnings(\"ignore\")"
   ]
  },
  {
   "cell_type": "markdown",
   "id": "0bb50142-06be-4003-9fd0-6b19c095b010",
   "metadata": {},
   "source": [
    "### IF YOU WANT TO WIPE OUT ALL OF YOUR FEATURES AND MODELS, run the cell below"
   ]
  },
  {
   "cell_type": "code",
   "execution_count": 23,
   "id": "014f3362-87f5-4abd-bb57-bebd28638bdb",
   "metadata": {},
   "outputs": [],
   "source": [
    "# If you haven't set the env variable 'HOPSWORKS_API_KEY', then uncomment the next line and enter your API key\n",
    "# with open('../../data/hopsworks-api-key.txt', 'r') as file:\n",
    "#     os.environ[\"HOPSWORKS_API_KEY\"] = file.read().rstrip()\n",
    "# #proj = hopsworks.login()\n",
    "#util.purge_project(proj)"
   ]
  },
  {
   "cell_type": "markdown",
   "id": "dcdd79b8",
   "metadata": {},
   "source": [
    "### Connect to hopsworks and upload historical data"
   ]
  },
  {
   "cell_type": "markdown",
   "id": "50156f96",
   "metadata": {},
   "source": [
    "---"
   ]
  },
  {
   "cell_type": "code",
   "execution_count": 24,
   "id": "9f1a49d6-9cd2-4246-b0ca-1058672e4848",
   "metadata": {},
   "outputs": [
    {
     "name": "stdout",
     "output_type": "stream",
     "text": [
      "2024-12-22 13:58:03,339 INFO: Closing external client and cleaning up certificates.\n",
      "Connection closed.\n",
      "2024-12-22 13:58:03,342 INFO: Initializing external client\n",
      "2024-12-22 13:58:03,343 INFO: Base URL: https://c.app.hopsworks.ai:443\n",
      "2024-12-22 13:58:04,741 INFO: Python Engine initialized.\n",
      "\n",
      "Logged in to project, explore it here https://c.app.hopsworks.ai:443/p/1160346\n"
     ]
    }
   ],
   "source": [
    "load_dotenv()\n",
    "os.environ[\"HOPSWORKS_API_KEY\"] = os.getenv(\"HOPSWORKS_API_KEY\")\n",
    "project = hopsworks.login()"
   ]
  },
  {
   "cell_type": "markdown",
   "id": "26aa1e9a",
   "metadata": {},
   "source": [
    "### Add historical data to hopsworks feature storage"
   ]
  },
  {
   "cell_type": "markdown",
   "id": "1a730749",
   "metadata": {},
   "source": [
    "#### Add historical solana prices"
   ]
  },
  {
   "cell_type": "code",
   "execution_count": 25,
   "id": "5c6a996c",
   "metadata": {},
   "outputs": [
    {
     "data": {
      "text/html": [
       "<div>\n",
       "<style scoped>\n",
       "    .dataframe tbody tr th:only-of-type {\n",
       "        vertical-align: middle;\n",
       "    }\n",
       "\n",
       "    .dataframe tbody tr th {\n",
       "        vertical-align: top;\n",
       "    }\n",
       "\n",
       "    .dataframe thead th {\n",
       "        text-align: right;\n",
       "    }\n",
       "</style>\n",
       "<table border=\"1\" class=\"dataframe\">\n",
       "  <thead>\n",
       "    <tr style=\"text-align: right;\">\n",
       "      <th></th>\n",
       "      <th>date</th>\n",
       "      <th>open</th>\n",
       "    </tr>\n",
       "  </thead>\n",
       "  <tbody>\n",
       "    <tr>\n",
       "      <th>0</th>\n",
       "      <td>2024-12-21</td>\n",
       "      <td>194.280</td>\n",
       "    </tr>\n",
       "    <tr>\n",
       "      <th>1</th>\n",
       "      <td>2024-12-20</td>\n",
       "      <td>194.310</td>\n",
       "    </tr>\n",
       "    <tr>\n",
       "      <th>2</th>\n",
       "      <td>2024-12-19</td>\n",
       "      <td>207.050</td>\n",
       "    </tr>\n",
       "    <tr>\n",
       "      <th>3</th>\n",
       "      <td>2024-12-18</td>\n",
       "      <td>223.550</td>\n",
       "    </tr>\n",
       "    <tr>\n",
       "      <th>4</th>\n",
       "      <td>2024-12-17</td>\n",
       "      <td>216.390</td>\n",
       "    </tr>\n",
       "    <tr>\n",
       "      <th>...</th>\n",
       "      <td>...</td>\n",
       "      <td>...</td>\n",
       "    </tr>\n",
       "    <tr>\n",
       "      <th>1588</th>\n",
       "      <td>2020-08-16</td>\n",
       "      <td>3.173</td>\n",
       "    </tr>\n",
       "    <tr>\n",
       "      <th>1589</th>\n",
       "      <td>2020-08-15</td>\n",
       "      <td>3.410</td>\n",
       "    </tr>\n",
       "    <tr>\n",
       "      <th>1590</th>\n",
       "      <td>2020-08-14</td>\n",
       "      <td>3.730</td>\n",
       "    </tr>\n",
       "    <tr>\n",
       "      <th>1591</th>\n",
       "      <td>2020-08-13</td>\n",
       "      <td>3.756</td>\n",
       "    </tr>\n",
       "    <tr>\n",
       "      <th>1592</th>\n",
       "      <td>2020-08-12</td>\n",
       "      <td>3.299</td>\n",
       "    </tr>\n",
       "  </tbody>\n",
       "</table>\n",
       "<p>1593 rows × 2 columns</p>\n",
       "</div>"
      ],
      "text/plain": [
       "           date     open\n",
       "0    2024-12-21  194.280\n",
       "1    2024-12-20  194.310\n",
       "2    2024-12-19  207.050\n",
       "3    2024-12-18  223.550\n",
       "4    2024-12-17  216.390\n",
       "...         ...      ...\n",
       "1588 2020-08-16    3.173\n",
       "1589 2020-08-15    3.410\n",
       "1590 2020-08-14    3.730\n",
       "1591 2020-08-13    3.756\n",
       "1592 2020-08-12    3.299\n",
       "\n",
       "[1593 rows x 2 columns]"
      ]
     },
     "execution_count": 25,
     "metadata": {},
     "output_type": "execute_result"
    }
   ],
   "source": [
    "hist_data_sol = pd.read_csv(\"data/SOL_USD Binance Historical Data.csv\")\n",
    "hist_data_sol.columns = ['date', 'price', 'open', 'high', 'low', 'vol', 'change']\n",
    "hist_data_sol = hist_data_sol.drop(columns=['vol', 'change', 'price', 'high', 'low'])\n",
    "hist_data_sol['date']=pd.to_datetime(hist_data_sol['date'], format='%m/%d/%Y')\n",
    "hist_data_sol\n"
   ]
  },
  {
   "cell_type": "code",
   "execution_count": 26,
   "id": "bd25016b",
   "metadata": {},
   "outputs": [
    {
     "name": "stderr",
     "output_type": "stream",
     "text": [
      "Uploading Dataframe: 100.00% |██████████| Rows 1593/1593 | Elapsed Time: 00:04 | Remaining Time: 00:00\n"
     ]
    },
    {
     "data": {
      "text/plain": [
       "(Job('solana_7_offline_fg_materialization', 'SPARK'), None)"
      ]
     },
     "execution_count": 26,
     "metadata": {},
     "output_type": "execute_result"
    }
   ],
   "source": [
    "fs = project.get_feature_store() \n",
    "solana_fg = fs.get_or_create_feature_group(\n",
    "    name='solana',\n",
    "    description='Solana price',\n",
    "    version=7,\n",
    "    primary_key=[\"date\"])\n",
    "\n",
    "solana_fg.insert(hist_data_sol)\n"
   ]
  },
  {
   "cell_type": "code",
   "execution_count": 27,
   "id": "16741ff6",
   "metadata": {},
   "outputs": [
    {
     "data": {
      "text/plain": [
       "<hsfs.feature_group.FeatureGroup at 0x164766650>"
      ]
     },
     "execution_count": 27,
     "metadata": {},
     "output_type": "execute_result"
    }
   ],
   "source": [
    "solana_fg.update_feature_description(\"date\", \"Date\")\n",
    "#solana_fg.update_feature_description(\"price\", \"The price of Solana\")\n",
    "solana_fg.update_feature_description(\"open\", \"The opening price of Solana\")\n",
    "#solana_fg.update_feature_description(\"high\", \"The highest price of Solana\")\n",
    "#solana_fg.update_feature_description(\"low\", \"The lowest price of Solana\")\n",
    "#solana_fg.update_feature_description(\"vol\", \"Volume\")\n",
    "#solana_fg.update_feature_description(\"change\", \"Change in price\")\n"
   ]
  },
  {
   "cell_type": "markdown",
   "id": "e43307c3",
   "metadata": {},
   "source": [
    "#### Add historical data for bitcoin"
   ]
  },
  {
   "cell_type": "code",
   "execution_count": 28,
   "id": "b316eb31",
   "metadata": {},
   "outputs": [
    {
     "data": {
      "text/html": [
       "<div>\n",
       "<style scoped>\n",
       "    .dataframe tbody tr th:only-of-type {\n",
       "        vertical-align: middle;\n",
       "    }\n",
       "\n",
       "    .dataframe tbody tr th {\n",
       "        vertical-align: top;\n",
       "    }\n",
       "\n",
       "    .dataframe thead th {\n",
       "        text-align: right;\n",
       "    }\n",
       "</style>\n",
       "<table border=\"1\" class=\"dataframe\">\n",
       "  <thead>\n",
       "    <tr style=\"text-align: right;\">\n",
       "      <th></th>\n",
       "      <th>date</th>\n",
       "      <th>open</th>\n",
       "    </tr>\n",
       "  </thead>\n",
       "  <tbody>\n",
       "    <tr>\n",
       "      <th>0</th>\n",
       "      <td>2024-12-21</td>\n",
       "      <td>97,786.5</td>\n",
       "    </tr>\n",
       "    <tr>\n",
       "      <th>1</th>\n",
       "      <td>2024-12-20</td>\n",
       "      <td>97,517.6</td>\n",
       "    </tr>\n",
       "    <tr>\n",
       "      <th>2</th>\n",
       "      <td>2024-12-19</td>\n",
       "      <td>100,220.0</td>\n",
       "    </tr>\n",
       "    <tr>\n",
       "      <th>3</th>\n",
       "      <td>2024-12-18</td>\n",
       "      <td>106,138.2</td>\n",
       "    </tr>\n",
       "    <tr>\n",
       "      <th>4</th>\n",
       "      <td>2024-12-17</td>\n",
       "      <td>106,083.4</td>\n",
       "    </tr>\n",
       "    <tr>\n",
       "      <th>...</th>\n",
       "      <td>...</td>\n",
       "      <td>...</td>\n",
       "    </tr>\n",
       "    <tr>\n",
       "      <th>1812</th>\n",
       "      <td>2020-01-05</td>\n",
       "      <td>7,355.1</td>\n",
       "    </tr>\n",
       "    <tr>\n",
       "      <th>1813</th>\n",
       "      <td>2020-01-04</td>\n",
       "      <td>7,340.5</td>\n",
       "    </tr>\n",
       "    <tr>\n",
       "      <th>1814</th>\n",
       "      <td>2020-01-03</td>\n",
       "      <td>6,964.4</td>\n",
       "    </tr>\n",
       "    <tr>\n",
       "      <th>1815</th>\n",
       "      <td>2020-01-02</td>\n",
       "      <td>7,193.4</td>\n",
       "    </tr>\n",
       "    <tr>\n",
       "      <th>1816</th>\n",
       "      <td>2020-01-01</td>\n",
       "      <td>7,190.6</td>\n",
       "    </tr>\n",
       "  </tbody>\n",
       "</table>\n",
       "<p>1817 rows × 2 columns</p>\n",
       "</div>"
      ],
      "text/plain": [
       "           date       open\n",
       "0    2024-12-21   97,786.5\n",
       "1    2024-12-20   97,517.6\n",
       "2    2024-12-19  100,220.0\n",
       "3    2024-12-18  106,138.2\n",
       "4    2024-12-17  106,083.4\n",
       "...         ...        ...\n",
       "1812 2020-01-05    7,355.1\n",
       "1813 2020-01-04    7,340.5\n",
       "1814 2020-01-03    6,964.4\n",
       "1815 2020-01-02    7,193.4\n",
       "1816 2020-01-01    7,190.6\n",
       "\n",
       "[1817 rows x 2 columns]"
      ]
     },
     "execution_count": 28,
     "metadata": {},
     "output_type": "execute_result"
    }
   ],
   "source": [
    "hist_data_btc = pd.read_csv(\"data/BTC_USD Binance Historical Data.csv\")\n",
    "hist_data_btc.columns = ['date', 'price', 'open', 'high', 'low', 'vol', 'change']\n",
    "hist_data_btc = hist_data_btc.drop(columns=['vol', 'change', 'price', 'high', 'low'])\n",
    "hist_data_btc['date']=pd.to_datetime(hist_data_btc['date'], format='%m/%d/%Y')\n",
    "\n",
    "hist_data_btc"
   ]
  },
  {
   "cell_type": "code",
   "execution_count": 29,
   "id": "24305bd0",
   "metadata": {},
   "outputs": [
    {
     "name": "stdout",
     "output_type": "stream",
     "text": [
      "Feature Group created successfully, explore it at \n",
      "https://c.app.hopsworks.ai:443/p/1160346/fs/1151049/fg/1393092\n"
     ]
    },
    {
     "name": "stderr",
     "output_type": "stream",
     "text": [
      "Uploading Dataframe: 100.00% |██████████| Rows 1817/1817 | Elapsed Time: 00:03 | Remaining Time: 00:00\n"
     ]
    },
    {
     "name": "stdout",
     "output_type": "stream",
     "text": [
      "Launching job: bitcoin_7_offline_fg_materialization\n",
      "Job started successfully, you can follow the progress at \n",
      "https://c.app.hopsworks.ai:443/p/1160346/jobs/named/bitcoin_7_offline_fg_materialization/executions\n"
     ]
    },
    {
     "data": {
      "text/plain": [
       "(Job('bitcoin_7_offline_fg_materialization', 'SPARK'), None)"
      ]
     },
     "execution_count": 29,
     "metadata": {},
     "output_type": "execute_result"
    }
   ],
   "source": [
    "fs = project.get_feature_store() \n",
    "bitcoin_fg = fs.get_or_create_feature_group(\n",
    "    name='bitcoin',\n",
    "    description='Bitcoin price',\n",
    "    version=7,\n",
    "    primary_key=[\"date\"])\n",
    "\n",
    "bitcoin_fg.insert(hist_data_btc)"
   ]
  },
  {
   "cell_type": "code",
   "execution_count": 30,
   "id": "8391ef52",
   "metadata": {},
   "outputs": [
    {
     "data": {
      "text/plain": [
       "<hsfs.feature_group.FeatureGroup at 0x16b0cfa90>"
      ]
     },
     "execution_count": 30,
     "metadata": {},
     "output_type": "execute_result"
    }
   ],
   "source": [
    "bitcoin_fg.update_feature_description(\"date\", \"Date\")\n",
    "#bitcoin_fg.update_feature_description(\"price\", \"The price of Bitcoin\")\n",
    "bitcoin_fg.update_feature_description(\"open\", \"The opening price of Bitcoin\")\n",
    "#bitcoin_fg.update_feature_description(\"high\", \"The highest price of Bitcoin\")\n",
    "#bitcoin_fg.update_feature_description(\"low\", \"The lowest price of Bitcoin\")\n",
    "#bitcoin_fg.update_feature_description(\"vol\", \"Volume\")\n",
    "#bitcoin_fg.update_feature_description(\"change\", \"Change in price\")\n"
   ]
  },
  {
   "cell_type": "markdown",
   "id": "652f0c8d",
   "metadata": {},
   "source": [
    "#### Add historical data for fear and greed index"
   ]
  },
  {
   "cell_type": "code",
   "execution_count": 31,
   "id": "d0dc0b56",
   "metadata": {},
   "outputs": [
    {
     "name": "stdout",
     "output_type": "stream",
     "text": [
      "         date fng_value fng_classification\n",
      "0  22-12-2024        73              Greed\n",
      "1  21-12-2024        73              Greed\n",
      "2  20-12-2024        74              Greed\n",
      "3  19-12-2024        75              Greed\n",
      "4  18-12-2024        81      Extreme Greed\n"
     ]
    }
   ],
   "source": [
    "import requests\n",
    "import pandas as pd\n",
    "import io\n",
    "\n",
    "# URL of the API\n",
    "url = \"https://api.alternative.me/fng/?limit=0&format=csv\"\n",
    "\n",
    "# Fetch data from the API\n",
    "response = requests.get(url)\n",
    "\n",
    "if response.status_code == 200:\n",
    "    content = response.text\n",
    "    if \"data\" in content:\n",
    "        # Locate and clean the pseudo-CSV section\n",
    "        start_idx = content.find(\"[\") + 1\n",
    "        end_idx = content.find(\"]\", start_idx)\n",
    "        raw_data = content[start_idx:end_idx].strip()\n",
    "        \n",
    "        # Replace single quotes and braces for easier parsing\n",
    "        raw_data = raw_data.replace(\"'\", \"\").replace(\"{\", \"\").replace(\"}\", \"\")\n",
    "        \n",
    "        # Debug: Print raw_data to check its format\n",
    "        #print(\"Raw data:\", raw_data)\n",
    "        \n",
    "        # Split into rows\n",
    "        rows = raw_data.split(\"\\n\")\n",
    "        data = []\n",
    "        \n",
    "        for row in rows:\n",
    "            # Debug: Print each row to check format\n",
    "            #print(\"Processing row:\", row)\n",
    "            if row == \"fng_value,fng_classification,date\":\n",
    "                # Skip header row\n",
    "                continue\n",
    "            \n",
    "            # Extract key-value pairs\n",
    "            key_values = row.split(\",\")\n",
    "            # Ensure each field has a key and value\n",
    "            if len(key_values) == 3:\n",
    "                data.append(key_values[0].strip())\n",
    "                data.append(key_values[1].strip())\n",
    "                data.append(key_values[2].strip())\n",
    "\n",
    "            else:\n",
    "                print(\"Skipping malformed row:\", row)\n",
    "\n",
    "        \n",
    "        # Assuming rows are in order of [date, fng_value, fng_classification] repeat\n",
    "        # Split data into chunks of 3 for each record\n",
    "        structured_data = [data[i:i + 3] for i in range(0, len(data), 3)]\n",
    "        \n",
    "        # Create DataFrame\n",
    "        fng_df = pd.DataFrame(structured_data, columns=[\"date\", \"fng_value\", \"fng_classification\"])\n",
    "        print(fng_df.head())\n",
    "    else:\n",
    "        print(\"Data field not found in response.\")\n",
    "else:\n",
    "    print(f\"Failed to fetch data: {response.status_code}\")\n"
   ]
  },
  {
   "cell_type": "code",
   "execution_count": 32,
   "id": "f87fe293",
   "metadata": {},
   "outputs": [
    {
     "data": {
      "text/html": [
       "<div>\n",
       "<style scoped>\n",
       "    .dataframe tbody tr th:only-of-type {\n",
       "        vertical-align: middle;\n",
       "    }\n",
       "\n",
       "    .dataframe tbody tr th {\n",
       "        vertical-align: top;\n",
       "    }\n",
       "\n",
       "    .dataframe thead th {\n",
       "        text-align: right;\n",
       "    }\n",
       "</style>\n",
       "<table border=\"1\" class=\"dataframe\">\n",
       "  <thead>\n",
       "    <tr style=\"text-align: right;\">\n",
       "      <th></th>\n",
       "      <th>date</th>\n",
       "      <th>fng_value</th>\n",
       "      <th>fng_classification</th>\n",
       "    </tr>\n",
       "  </thead>\n",
       "  <tbody>\n",
       "    <tr>\n",
       "      <th>0</th>\n",
       "      <td>2024-12-22</td>\n",
       "      <td>73</td>\n",
       "      <td>Greed</td>\n",
       "    </tr>\n",
       "    <tr>\n",
       "      <th>1</th>\n",
       "      <td>2024-12-21</td>\n",
       "      <td>73</td>\n",
       "      <td>Greed</td>\n",
       "    </tr>\n",
       "    <tr>\n",
       "      <th>2</th>\n",
       "      <td>2024-12-20</td>\n",
       "      <td>74</td>\n",
       "      <td>Greed</td>\n",
       "    </tr>\n",
       "    <tr>\n",
       "      <th>3</th>\n",
       "      <td>2024-12-19</td>\n",
       "      <td>75</td>\n",
       "      <td>Greed</td>\n",
       "    </tr>\n",
       "    <tr>\n",
       "      <th>4</th>\n",
       "      <td>2024-12-18</td>\n",
       "      <td>81</td>\n",
       "      <td>Extreme Greed</td>\n",
       "    </tr>\n",
       "    <tr>\n",
       "      <th>...</th>\n",
       "      <td>...</td>\n",
       "      <td>...</td>\n",
       "      <td>...</td>\n",
       "    </tr>\n",
       "    <tr>\n",
       "      <th>2508</th>\n",
       "      <td>2018-02-05</td>\n",
       "      <td>11</td>\n",
       "      <td>Extreme Fear</td>\n",
       "    </tr>\n",
       "    <tr>\n",
       "      <th>2509</th>\n",
       "      <td>2018-02-04</td>\n",
       "      <td>24</td>\n",
       "      <td>Extreme Fear</td>\n",
       "    </tr>\n",
       "    <tr>\n",
       "      <th>2510</th>\n",
       "      <td>2018-02-03</td>\n",
       "      <td>40</td>\n",
       "      <td>Fear</td>\n",
       "    </tr>\n",
       "    <tr>\n",
       "      <th>2511</th>\n",
       "      <td>2018-02-02</td>\n",
       "      <td>15</td>\n",
       "      <td>Extreme Fear</td>\n",
       "    </tr>\n",
       "    <tr>\n",
       "      <th>2512</th>\n",
       "      <td>2018-02-01</td>\n",
       "      <td>30</td>\n",
       "      <td>Fear</td>\n",
       "    </tr>\n",
       "  </tbody>\n",
       "</table>\n",
       "<p>2513 rows × 3 columns</p>\n",
       "</div>"
      ],
      "text/plain": [
       "           date fng_value fng_classification\n",
       "0    2024-12-22        73              Greed\n",
       "1    2024-12-21        73              Greed\n",
       "2    2024-12-20        74              Greed\n",
       "3    2024-12-19        75              Greed\n",
       "4    2024-12-18        81      Extreme Greed\n",
       "...         ...       ...                ...\n",
       "2508 2018-02-05        11       Extreme Fear\n",
       "2509 2018-02-04        24       Extreme Fear\n",
       "2510 2018-02-03        40               Fear\n",
       "2511 2018-02-02        15       Extreme Fear\n",
       "2512 2018-02-01        30               Fear\n",
       "\n",
       "[2513 rows x 3 columns]"
      ]
     },
     "execution_count": 32,
     "metadata": {},
     "output_type": "execute_result"
    }
   ],
   "source": [
    "#fixing the date format\n",
    "fng_df['date'] = pd.to_datetime(fng_df['date'], format='%d-%m-%Y').dt.strftime('%m/%d/%Y')\n",
    "fng_df['date']=pd.to_datetime(fng_df['date'], format='%m/%d/%Y')\n",
    "fng_df"
   ]
  },
  {
   "cell_type": "code",
   "execution_count": 33,
   "id": "776a74af",
   "metadata": {},
   "outputs": [
    {
     "name": "stderr",
     "output_type": "stream",
     "text": [
      "Uploading Dataframe: 100.00% |██████████| Rows 2513/2513 | Elapsed Time: 00:03 | Remaining Time: 00:00\n"
     ]
    },
    {
     "name": "stdout",
     "output_type": "stream",
     "text": [
      "Launching job: f_n_g_index_6_offline_fg_materialization\n",
      "Job started successfully, you can follow the progress at \n",
      "https://c.app.hopsworks.ai:443/p/1160346/jobs/named/f_n_g_index_6_offline_fg_materialization/executions\n"
     ]
    },
    {
     "data": {
      "text/plain": [
       "(Job('f_n_g_index_6_offline_fg_materialization', 'SPARK'), None)"
      ]
     },
     "execution_count": 33,
     "metadata": {},
     "output_type": "execute_result"
    }
   ],
   "source": [
    "fs = project.get_feature_store() \n",
    "fng_fg = fs.get_or_create_feature_group(\n",
    "    name='f_n_g_index',\n",
    "    description='fear_and_greed_index',\n",
    "    version=6,\n",
    "    primary_key=[\"date\"])\n",
    "\n",
    "fng_fg.insert(fng_df)"
   ]
  },
  {
   "cell_type": "markdown",
   "id": "663a1606",
   "metadata": {},
   "source": [
    "#### Enter a description for each feature in the Feature Group"
   ]
  },
  {
   "cell_type": "code",
   "execution_count": 34,
   "id": "577effca",
   "metadata": {},
   "outputs": [
    {
     "data": {
      "text/plain": [
       "<hsfs.feature_group.FeatureGroup at 0x16c2e3bb0>"
      ]
     },
     "execution_count": 34,
     "metadata": {},
     "output_type": "execute_result"
    }
   ],
   "source": [
    "fng_fg.update_feature_description(\"date\", \"Date of the Fear and Greed Index\")\n",
    "fng_fg.update_feature_description(\"fng_value\", \"Fear and Greed Index value\")\n",
    "fng_fg.update_feature_description(\"fng_classification\", \"Fear and Greed Index classification\")\n"
   ]
  },
  {
   "cell_type": "code",
   "execution_count": null,
   "id": "267776da",
   "metadata": {},
   "outputs": [],
   "source": []
  }
 ],
 "metadata": {
  "kernelspec": {
   "display_name": "final_project_env",
   "language": "python",
   "name": "python3"
  },
  "language_info": {
   "codemirror_mode": {
    "name": "ipython",
    "version": 3
   },
   "file_extension": ".py",
   "mimetype": "text/x-python",
   "name": "python",
   "nbconvert_exporter": "python",
   "pygments_lexer": "ipython3",
   "version": "3.10.16"
  }
 },
 "nbformat": 4,
 "nbformat_minor": 5
}
