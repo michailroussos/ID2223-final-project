{
 "cells": [
  {
   "cell_type": "markdown",
   "id": "f139ba67",
   "metadata": {},
   "source": [
    "<span style=\"font-width:bold; font-size: 3rem; color:#333;\">- Part 01: Feature Backfill for SOLANA bitcoin</span>\n",
    "\n",
    "\n",
    "## 🗒️ The tasks of this script\n",
    "1. Download historical prices for SOLANA and Bitcoin as CSV files\n",
    "2. Update the path of the CSV files in this notebook to point to the ones that you downloaded\n",
    "5. Create an account on www.hopsworks.ai and get your HOPSWORKS_API_KEY\n",
    "6. Run notebook to upload the feature on a hopsworks feature storage\n",
    "\n"
   ]
  },
  {
   "cell_type": "markdown",
   "id": "41d6a80c",
   "metadata": {},
   "source": [
    "### <span style='color:#ff5f27'> 📝 Imports"
   ]
  },
  {
   "cell_type": "code",
   "execution_count": 1,
   "id": "0f447120",
   "metadata": {},
   "outputs": [
    {
     "name": "stderr",
     "output_type": "stream",
     "text": [
      "/opt/anaconda3/envs/crypto-env/lib/python3.10/site-packages/tqdm/auto.py:21: TqdmWarning: IProgress not found. Please update jupyter and ipywidgets. See https://ipywidgets.readthedocs.io/en/stable/user_install.html\n",
      "  from .autonotebook import tqdm as notebook_tqdm\n"
     ]
    }
   ],
   "source": [
    "import pandas as pd\n",
    "import hopsworks\n",
    "from utils import *\n",
    "import json\n",
    "import os\n",
    "import warnings\n",
    "from dotenv import load_dotenv\n",
    "\n",
    "warnings.filterwarnings(\"ignore\")"
   ]
  },
  {
   "cell_type": "markdown",
   "id": "0bb50142-06be-4003-9fd0-6b19c095b010",
   "metadata": {},
   "source": [
    "### IF YOU WANT TO WIPE OUT ALL OF YOUR FEATURES AND MODELS, run the cell below"
   ]
  },
  {
   "cell_type": "code",
   "execution_count": 35,
   "id": "014f3362-87f5-4abd-bb57-bebd28638bdb",
   "metadata": {},
   "outputs": [],
   "source": [
    "# If you haven't set the env variable 'HOPSWORKS_API_KEY', then uncomment the next line and enter your API key\n",
    "# with open('../../data/hopsworks-api-key.txt', 'r') as file:\n",
    "#     os.environ[\"HOPSWORKS_API_KEY\"] = file.read().rstrip()\n",
    "# #proj = hopsworks.login()\n",
    "#util.purge_project(proj)"
   ]
  },
  {
   "cell_type": "markdown",
   "id": "dcdd79b8",
   "metadata": {},
   "source": [
    "### Connect to hopsworks and upload historical data"
   ]
  },
  {
   "cell_type": "markdown",
   "id": "50156f96",
   "metadata": {},
   "source": [
    "---"
   ]
  },
  {
   "cell_type": "code",
   "execution_count": 2,
   "id": "9f1a49d6-9cd2-4246-b0ca-1058672e4848",
   "metadata": {},
   "outputs": [
    {
     "name": "stdout",
     "output_type": "stream",
     "text": [
      "2024-12-23 14:39:03,019 INFO: Initializing external client\n",
      "2024-12-23 14:39:03,036 INFO: Base URL: https://c.app.hopsworks.ai:443\n",
      "2024-12-23 14:39:04,493 INFO: Python Engine initialized.\n",
      "\n",
      "Logged in to project, explore it here https://c.app.hopsworks.ai:443/p/1164448\n"
     ]
    }
   ],
   "source": [
    "load_dotenv()\n",
    "os.environ[\"HOPSWORKS_API_KEY\"] = os.getenv(\"HOPSWORKS_API_KEY\")\n",
    "project = hopsworks.login()"
   ]
  },
  {
   "cell_type": "markdown",
   "id": "26aa1e9a",
   "metadata": {},
   "source": [
    "### Add historical data to hopsworks feature storage"
   ]
  },
  {
   "cell_type": "markdown",
   "id": "1a730749",
   "metadata": {},
   "source": [
    "#### Add historical solana prices"
   ]
  },
  {
   "cell_type": "code",
   "execution_count": 3,
   "id": "86b31d1c",
   "metadata": {},
   "outputs": [
    {
     "data": {
      "text/html": [
       "<div>\n",
       "<style scoped>\n",
       "    .dataframe tbody tr th:only-of-type {\n",
       "        vertical-align: middle;\n",
       "    }\n",
       "\n",
       "    .dataframe tbody tr th {\n",
       "        vertical-align: top;\n",
       "    }\n",
       "\n",
       "    .dataframe thead th {\n",
       "        text-align: right;\n",
       "    }\n",
       "</style>\n",
       "<table border=\"1\" class=\"dataframe\">\n",
       "  <thead>\n",
       "    <tr style=\"text-align: right;\">\n",
       "      <th></th>\n",
       "      <th>timestamp</th>\n",
       "      <th>open</th>\n",
       "      <th>high</th>\n",
       "      <th>low</th>\n",
       "      <th>close</th>\n",
       "      <th>volume</th>\n",
       "      <th>volume_buy</th>\n",
       "      <th>volume_sell</th>\n",
       "    </tr>\n",
       "  </thead>\n",
       "  <tbody>\n",
       "    <tr>\n",
       "      <th>0</th>\n",
       "      <td>1623888000</td>\n",
       "      <td>40.23</td>\n",
       "      <td>40.57</td>\n",
       "      <td>38.30</td>\n",
       "      <td>39.13</td>\n",
       "      <td>6007.618490</td>\n",
       "      <td>2885.660324</td>\n",
       "      <td>3121.958166</td>\n",
       "    </tr>\n",
       "    <tr>\n",
       "      <th>1</th>\n",
       "      <td>1623974400</td>\n",
       "      <td>39.13</td>\n",
       "      <td>39.36</td>\n",
       "      <td>35.00</td>\n",
       "      <td>36.62</td>\n",
       "      <td>13557.357196</td>\n",
       "      <td>7925.472309</td>\n",
       "      <td>5631.884887</td>\n",
       "    </tr>\n",
       "    <tr>\n",
       "      <th>2</th>\n",
       "      <td>1624060800</td>\n",
       "      <td>36.62</td>\n",
       "      <td>37.35</td>\n",
       "      <td>35.00</td>\n",
       "      <td>35.45</td>\n",
       "      <td>16986.163716</td>\n",
       "      <td>9258.361133</td>\n",
       "      <td>7727.802583</td>\n",
       "    </tr>\n",
       "    <tr>\n",
       "      <th>3</th>\n",
       "      <td>1624147200</td>\n",
       "      <td>35.45</td>\n",
       "      <td>35.89</td>\n",
       "      <td>31.48</td>\n",
       "      <td>35.28</td>\n",
       "      <td>38681.265775</td>\n",
       "      <td>21052.579774</td>\n",
       "      <td>17628.686001</td>\n",
       "    </tr>\n",
       "    <tr>\n",
       "      <th>4</th>\n",
       "      <td>1624233600</td>\n",
       "      <td>35.28</td>\n",
       "      <td>35.28</td>\n",
       "      <td>26.00</td>\n",
       "      <td>26.55</td>\n",
       "      <td>41903.613224</td>\n",
       "      <td>15380.745579</td>\n",
       "      <td>26522.867646</td>\n",
       "    </tr>\n",
       "  </tbody>\n",
       "</table>\n",
       "</div>"
      ],
      "text/plain": [
       "    timestamp   open   high    low  close        volume    volume_buy  \\\n",
       "0  1623888000  40.23  40.57  38.30  39.13   6007.618490   2885.660324   \n",
       "1  1623974400  39.13  39.36  35.00  36.62  13557.357196   7925.472309   \n",
       "2  1624060800  36.62  37.35  35.00  35.45  16986.163716   9258.361133   \n",
       "3  1624147200  35.45  35.89  31.48  35.28  38681.265775  21052.579774   \n",
       "4  1624233600  35.28  35.28  26.00  26.55  41903.613224  15380.745579   \n",
       "\n",
       "    volume_sell  \n",
       "0   3121.958166  \n",
       "1   5631.884887  \n",
       "2   7727.802583  \n",
       "3  17628.686001  \n",
       "4  26522.867646  "
      ]
     },
     "execution_count": 3,
     "metadata": {},
     "output_type": "execute_result"
    }
   ],
   "source": [
    "hist_data_sol = pd.read_csv(\"data/historical_solana.csv\")\n",
    "hist_data_sol = hist_data_sol[[\"TIMESTAMP\", 'OPEN', 'HIGH', 'LOW', 'CLOSE', \"VOLUME\", 'VOLUME_BUY', 'VOLUME_SELL']]\n",
    "hist_data_sol.columns = hist_data_sol.columns.str.lower()\n",
    "hist_data_sol.head()"
   ]
  },
  {
   "cell_type": "code",
   "execution_count": 44,
   "id": "9bebf8fb",
   "metadata": {},
   "outputs": [
    {
     "data": {
      "text/html": [
       "<div>\n",
       "<style scoped>\n",
       "    .dataframe tbody tr th:only-of-type {\n",
       "        vertical-align: middle;\n",
       "    }\n",
       "\n",
       "    .dataframe tbody tr th {\n",
       "        vertical-align: top;\n",
       "    }\n",
       "\n",
       "    .dataframe thead th {\n",
       "        text-align: right;\n",
       "    }\n",
       "</style>\n",
       "<table border=\"1\" class=\"dataframe\">\n",
       "  <thead>\n",
       "    <tr style=\"text-align: right;\">\n",
       "      <th></th>\n",
       "      <th>timestamp</th>\n",
       "      <th>open</th>\n",
       "      <th>high</th>\n",
       "      <th>low</th>\n",
       "      <th>close</th>\n",
       "      <th>volume</th>\n",
       "      <th>volume_buy</th>\n",
       "      <th>volume_sell</th>\n",
       "    </tr>\n",
       "  </thead>\n",
       "  <tbody>\n",
       "    <tr>\n",
       "      <th>0</th>\n",
       "      <td>1623888000</td>\n",
       "      <td>40.23</td>\n",
       "      <td>40.57</td>\n",
       "      <td>38.30</td>\n",
       "      <td>39.13</td>\n",
       "      <td>6007.618490</td>\n",
       "      <td>2885.660324</td>\n",
       "      <td>3121.958166</td>\n",
       "    </tr>\n",
       "    <tr>\n",
       "      <th>1</th>\n",
       "      <td>1623974400</td>\n",
       "      <td>39.13</td>\n",
       "      <td>39.36</td>\n",
       "      <td>35.00</td>\n",
       "      <td>36.62</td>\n",
       "      <td>13557.357196</td>\n",
       "      <td>7925.472309</td>\n",
       "      <td>5631.884887</td>\n",
       "    </tr>\n",
       "    <tr>\n",
       "      <th>2</th>\n",
       "      <td>1624060800</td>\n",
       "      <td>36.62</td>\n",
       "      <td>37.35</td>\n",
       "      <td>35.00</td>\n",
       "      <td>35.45</td>\n",
       "      <td>16986.163716</td>\n",
       "      <td>9258.361133</td>\n",
       "      <td>7727.802583</td>\n",
       "    </tr>\n",
       "    <tr>\n",
       "      <th>3</th>\n",
       "      <td>1624147200</td>\n",
       "      <td>35.45</td>\n",
       "      <td>35.89</td>\n",
       "      <td>31.48</td>\n",
       "      <td>35.28</td>\n",
       "      <td>38681.265775</td>\n",
       "      <td>21052.579774</td>\n",
       "      <td>17628.686001</td>\n",
       "    </tr>\n",
       "    <tr>\n",
       "      <th>4</th>\n",
       "      <td>1624233600</td>\n",
       "      <td>35.28</td>\n",
       "      <td>35.28</td>\n",
       "      <td>26.00</td>\n",
       "      <td>26.55</td>\n",
       "      <td>41903.613224</td>\n",
       "      <td>15380.745579</td>\n",
       "      <td>26522.867646</td>\n",
       "    </tr>\n",
       "    <tr>\n",
       "      <th>...</th>\n",
       "      <td>...</td>\n",
       "      <td>...</td>\n",
       "      <td>...</td>\n",
       "      <td>...</td>\n",
       "      <td>...</td>\n",
       "      <td>...</td>\n",
       "      <td>...</td>\n",
       "      <td>...</td>\n",
       "    </tr>\n",
       "    <tr>\n",
       "      <th>1281</th>\n",
       "      <td>1734566400</td>\n",
       "      <td>206.49</td>\n",
       "      <td>215.00</td>\n",
       "      <td>186.80</td>\n",
       "      <td>193.65</td>\n",
       "      <td>452547.729871</td>\n",
       "      <td>185623.785796</td>\n",
       "      <td>266923.944075</td>\n",
       "    </tr>\n",
       "    <tr>\n",
       "      <th>1282</th>\n",
       "      <td>1734652800</td>\n",
       "      <td>193.65</td>\n",
       "      <td>199.44</td>\n",
       "      <td>175.01</td>\n",
       "      <td>194.40</td>\n",
       "      <td>463451.482080</td>\n",
       "      <td>210245.812667</td>\n",
       "      <td>253205.669413</td>\n",
       "    </tr>\n",
       "    <tr>\n",
       "      <th>1283</th>\n",
       "      <td>1734739200</td>\n",
       "      <td>194.40</td>\n",
       "      <td>201.91</td>\n",
       "      <td>178.50</td>\n",
       "      <td>181.06</td>\n",
       "      <td>308103.063575</td>\n",
       "      <td>122417.224892</td>\n",
       "      <td>185685.838684</td>\n",
       "    </tr>\n",
       "    <tr>\n",
       "      <th>1284</th>\n",
       "      <td>1734825600</td>\n",
       "      <td>181.06</td>\n",
       "      <td>187.86</td>\n",
       "      <td>176.87</td>\n",
       "      <td>180.34</td>\n",
       "      <td>218352.282441</td>\n",
       "      <td>108511.764430</td>\n",
       "      <td>109840.518011</td>\n",
       "    </tr>\n",
       "    <tr>\n",
       "      <th>1285</th>\n",
       "      <td>1734912000</td>\n",
       "      <td>180.34</td>\n",
       "      <td>187.58</td>\n",
       "      <td>176.48</td>\n",
       "      <td>183.61</td>\n",
       "      <td>83071.983154</td>\n",
       "      <td>42510.166606</td>\n",
       "      <td>40561.816548</td>\n",
       "    </tr>\n",
       "  </tbody>\n",
       "</table>\n",
       "<p>1286 rows × 8 columns</p>\n",
       "</div>"
      ],
      "text/plain": [
       "       timestamp    open    high     low   close         volume  \\\n",
       "0     1623888000   40.23   40.57   38.30   39.13    6007.618490   \n",
       "1     1623974400   39.13   39.36   35.00   36.62   13557.357196   \n",
       "2     1624060800   36.62   37.35   35.00   35.45   16986.163716   \n",
       "3     1624147200   35.45   35.89   31.48   35.28   38681.265775   \n",
       "4     1624233600   35.28   35.28   26.00   26.55   41903.613224   \n",
       "...          ...     ...     ...     ...     ...            ...   \n",
       "1281  1734566400  206.49  215.00  186.80  193.65  452547.729871   \n",
       "1282  1734652800  193.65  199.44  175.01  194.40  463451.482080   \n",
       "1283  1734739200  194.40  201.91  178.50  181.06  308103.063575   \n",
       "1284  1734825600  181.06  187.86  176.87  180.34  218352.282441   \n",
       "1285  1734912000  180.34  187.58  176.48  183.61   83071.983154   \n",
       "\n",
       "         volume_buy    volume_sell  \n",
       "0       2885.660324    3121.958166  \n",
       "1       7925.472309    5631.884887  \n",
       "2       9258.361133    7727.802583  \n",
       "3      21052.579774   17628.686001  \n",
       "4      15380.745579   26522.867646  \n",
       "...             ...            ...  \n",
       "1281  185623.785796  266923.944075  \n",
       "1282  210245.812667  253205.669413  \n",
       "1283  122417.224892  185685.838684  \n",
       "1284  108511.764430  109840.518011  \n",
       "1285   42510.166606   40561.816548  \n",
       "\n",
       "[1286 rows x 8 columns]"
      ]
     },
     "execution_count": 44,
     "metadata": {},
     "output_type": "execute_result"
    }
   ],
   "source": [
    "hist_data_sol"
   ]
  },
  {
   "cell_type": "code",
   "execution_count": 5,
   "id": "5c6a996c",
   "metadata": {},
   "outputs": [
    {
     "name": "stdout",
     "output_type": "stream",
     "text": [
      "Feature Group created successfully, explore it at \n",
      "https://c.app.hopsworks.ai:443/p/1164448/fs/1155151/fg/1393151\n"
     ]
    },
    {
     "name": "stderr",
     "output_type": "stream",
     "text": [
      "Uploading Dataframe: 100.00% |██████████| Rows 1286/1286 | Elapsed Time: 00:02 | Remaining Time: 00:00\n"
     ]
    },
    {
     "name": "stdout",
     "output_type": "stream",
     "text": [
      "Launching job: solana_1_offline_fg_materialization\n",
      "Job started successfully, you can follow the progress at \n",
      "https://c.app.hopsworks.ai:443/p/1164448/jobs/named/solana_1_offline_fg_materialization/executions\n"
     ]
    },
    {
     "data": {
      "text/plain": [
       "(Job('solana_1_offline_fg_materialization', 'SPARK'), None)"
      ]
     },
     "execution_count": 5,
     "metadata": {},
     "output_type": "execute_result"
    }
   ],
   "source": [
    "fs = project.get_feature_store() \n",
    "solana_fg = fs.get_or_create_feature_group(\n",
    "    name='solana',\n",
    "    description='Solana price',\n",
    "    version=1,\n",
    "    primary_key=[\"timestamp\"])\n",
    "\n",
    "solana_fg.insert(hist_data_sol)  \n",
    "\n",
    "# solana_fg.update_feature_description(\"date\", \"Date\")\n",
    "#solana_fg.update_feature_description(\"price\", \"The price of Solana\")\n",
    "# solana_fg.update_feature_description(\"open\", \"The opening price of Solana\")\n",
    "#solana_fg.update_feature_description(\"high\", \"The highest price of Solana\")\n",
    "#solana_fg.update_feature_description(\"low\", \"The lowest price of Solana\")\n",
    "#solana_fg.update_feature_description(\"vol\", \"Volume\")\n",
    "#solana_fg.update_feature_description(\"change\", \"Change in price\")"
   ]
  },
  {
   "cell_type": "markdown",
   "id": "e43307c3",
   "metadata": {},
   "source": [
    "#### Add historical data for bitcoin"
   ]
  },
  {
   "cell_type": "code",
   "execution_count": 8,
   "id": "b316eb31",
   "metadata": {},
   "outputs": [
    {
     "data": {
      "text/html": [
       "<div>\n",
       "<style scoped>\n",
       "    .dataframe tbody tr th:only-of-type {\n",
       "        vertical-align: middle;\n",
       "    }\n",
       "\n",
       "    .dataframe tbody tr th {\n",
       "        vertical-align: top;\n",
       "    }\n",
       "\n",
       "    .dataframe thead th {\n",
       "        text-align: right;\n",
       "    }\n",
       "</style>\n",
       "<table border=\"1\" class=\"dataframe\">\n",
       "  <thead>\n",
       "    <tr style=\"text-align: right;\">\n",
       "      <th></th>\n",
       "      <th>timestamp</th>\n",
       "      <th>open</th>\n",
       "      <th>high</th>\n",
       "      <th>low</th>\n",
       "      <th>close</th>\n",
       "      <th>volume</th>\n",
       "      <th>volume_buy</th>\n",
       "      <th>volume_sell</th>\n",
       "    </tr>\n",
       "  </thead>\n",
       "  <tbody>\n",
       "    <tr>\n",
       "      <th>0</th>\n",
       "      <td>1622678400</td>\n",
       "      <td>37565.3</td>\n",
       "      <td>39471.0</td>\n",
       "      <td>37159.1</td>\n",
       "      <td>39196.6</td>\n",
       "      <td>5230.076287</td>\n",
       "      <td>2452.239397</td>\n",
       "      <td>2777.836889</td>\n",
       "    </tr>\n",
       "    <tr>\n",
       "      <th>1</th>\n",
       "      <td>1622764800</td>\n",
       "      <td>39196.6</td>\n",
       "      <td>39249.8</td>\n",
       "      <td>35576.7</td>\n",
       "      <td>36847.7</td>\n",
       "      <td>4991.517443</td>\n",
       "      <td>2199.007148</td>\n",
       "      <td>2792.510295</td>\n",
       "    </tr>\n",
       "    <tr>\n",
       "      <th>2</th>\n",
       "      <td>1622851200</td>\n",
       "      <td>36847.7</td>\n",
       "      <td>37935.8</td>\n",
       "      <td>34825.9</td>\n",
       "      <td>35534.6</td>\n",
       "      <td>5532.753260</td>\n",
       "      <td>2475.469496</td>\n",
       "      <td>3057.283764</td>\n",
       "    </tr>\n",
       "    <tr>\n",
       "      <th>3</th>\n",
       "      <td>1622937600</td>\n",
       "      <td>35534.6</td>\n",
       "      <td>36479.5</td>\n",
       "      <td>35251.1</td>\n",
       "      <td>35789.0</td>\n",
       "      <td>3187.546401</td>\n",
       "      <td>1668.324634</td>\n",
       "      <td>1519.221767</td>\n",
       "    </tr>\n",
       "    <tr>\n",
       "      <th>4</th>\n",
       "      <td>1623024000</td>\n",
       "      <td>35789.0</td>\n",
       "      <td>36796.3</td>\n",
       "      <td>33334.3</td>\n",
       "      <td>33587.6</td>\n",
       "      <td>6165.920455</td>\n",
       "      <td>2555.082410</td>\n",
       "      <td>3610.838045</td>\n",
       "    </tr>\n",
       "    <tr>\n",
       "      <th>...</th>\n",
       "      <td>...</td>\n",
       "      <td>...</td>\n",
       "      <td>...</td>\n",
       "      <td>...</td>\n",
       "      <td>...</td>\n",
       "      <td>...</td>\n",
       "      <td>...</td>\n",
       "      <td>...</td>\n",
       "    </tr>\n",
       "    <tr>\n",
       "      <th>1295</th>\n",
       "      <td>1734566400</td>\n",
       "      <td>100166.1</td>\n",
       "      <td>102750.0</td>\n",
       "      <td>95586.4</td>\n",
       "      <td>97431.4</td>\n",
       "      <td>3582.993384</td>\n",
       "      <td>1634.942176</td>\n",
       "      <td>1948.051208</td>\n",
       "    </tr>\n",
       "    <tr>\n",
       "      <th>1296</th>\n",
       "      <td>1734652800</td>\n",
       "      <td>97431.4</td>\n",
       "      <td>98064.7</td>\n",
       "      <td>92159.0</td>\n",
       "      <td>97781.8</td>\n",
       "      <td>3145.577624</td>\n",
       "      <td>1246.352081</td>\n",
       "      <td>1899.225543</td>\n",
       "    </tr>\n",
       "    <tr>\n",
       "      <th>1297</th>\n",
       "      <td>1734739200</td>\n",
       "      <td>97781.8</td>\n",
       "      <td>99575.4</td>\n",
       "      <td>96359.8</td>\n",
       "      <td>97232.6</td>\n",
       "      <td>1158.063596</td>\n",
       "      <td>550.601852</td>\n",
       "      <td>607.461744</td>\n",
       "    </tr>\n",
       "    <tr>\n",
       "      <th>1298</th>\n",
       "      <td>1734825600</td>\n",
       "      <td>97232.6</td>\n",
       "      <td>97321.3</td>\n",
       "      <td>94201.1</td>\n",
       "      <td>95101.9</td>\n",
       "      <td>843.506407</td>\n",
       "      <td>277.687032</td>\n",
       "      <td>565.819376</td>\n",
       "    </tr>\n",
       "    <tr>\n",
       "      <th>1299</th>\n",
       "      <td>1734912000</td>\n",
       "      <td>95101.9</td>\n",
       "      <td>96403.0</td>\n",
       "      <td>93666.0</td>\n",
       "      <td>96009.8</td>\n",
       "      <td>530.536661</td>\n",
       "      <td>210.779864</td>\n",
       "      <td>319.756798</td>\n",
       "    </tr>\n",
       "  </tbody>\n",
       "</table>\n",
       "<p>1300 rows × 8 columns</p>\n",
       "</div>"
      ],
      "text/plain": [
       "       timestamp      open      high      low    close       volume  \\\n",
       "0     1622678400   37565.3   39471.0  37159.1  39196.6  5230.076287   \n",
       "1     1622764800   39196.6   39249.8  35576.7  36847.7  4991.517443   \n",
       "2     1622851200   36847.7   37935.8  34825.9  35534.6  5532.753260   \n",
       "3     1622937600   35534.6   36479.5  35251.1  35789.0  3187.546401   \n",
       "4     1623024000   35789.0   36796.3  33334.3  33587.6  6165.920455   \n",
       "...          ...       ...       ...      ...      ...          ...   \n",
       "1295  1734566400  100166.1  102750.0  95586.4  97431.4  3582.993384   \n",
       "1296  1734652800   97431.4   98064.7  92159.0  97781.8  3145.577624   \n",
       "1297  1734739200   97781.8   99575.4  96359.8  97232.6  1158.063596   \n",
       "1298  1734825600   97232.6   97321.3  94201.1  95101.9   843.506407   \n",
       "1299  1734912000   95101.9   96403.0  93666.0  96009.8   530.536661   \n",
       "\n",
       "       volume_buy  volume_sell  \n",
       "0     2452.239397  2777.836889  \n",
       "1     2199.007148  2792.510295  \n",
       "2     2475.469496  3057.283764  \n",
       "3     1668.324634  1519.221767  \n",
       "4     2555.082410  3610.838045  \n",
       "...           ...          ...  \n",
       "1295  1634.942176  1948.051208  \n",
       "1296  1246.352081  1899.225543  \n",
       "1297   550.601852   607.461744  \n",
       "1298   277.687032   565.819376  \n",
       "1299   210.779864   319.756798  \n",
       "\n",
       "[1300 rows x 8 columns]"
      ]
     },
     "execution_count": 8,
     "metadata": {},
     "output_type": "execute_result"
    }
   ],
   "source": [
    "hist_data_btc = pd.read_csv(\"data/historical_bitcoin.csv\")\n",
    "hist_data_btc = hist_data_btc[[\"TIMESTAMP\", 'OPEN', 'HIGH', 'LOW', 'CLOSE', \"VOLUME\", 'VOLUME_BUY', 'VOLUME_SELL']]\n",
    "hist_data_btc.columns = hist_data_btc.columns.str.lower()\n",
    "hist_data_btc"
   ]
  },
  {
   "cell_type": "code",
   "execution_count": 9,
   "id": "24305bd0",
   "metadata": {},
   "outputs": [
    {
     "name": "stdout",
     "output_type": "stream",
     "text": [
      "Feature Group created successfully, explore it at \n",
      "https://c.app.hopsworks.ai:443/p/1164448/fs/1155151/fg/1394141\n"
     ]
    },
    {
     "name": "stderr",
     "output_type": "stream",
     "text": [
      "Uploading Dataframe: 100.00% |██████████| Rows 1300/1300 | Elapsed Time: 00:01 | Remaining Time: 00:00\n"
     ]
    },
    {
     "name": "stdout",
     "output_type": "stream",
     "text": [
      "Launching job: bitcoin_7_offline_fg_materialization\n",
      "Job started successfully, you can follow the progress at \n",
      "https://c.app.hopsworks.ai:443/p/1164448/jobs/named/bitcoin_7_offline_fg_materialization/executions\n"
     ]
    },
    {
     "data": {
      "text/plain": [
       "(Job('bitcoin_7_offline_fg_materialization', 'SPARK'), None)"
      ]
     },
     "execution_count": 9,
     "metadata": {},
     "output_type": "execute_result"
    }
   ],
   "source": [
    "fs = project.get_feature_store() \n",
    "bitcoin_fg = fs.get_or_create_feature_group(\n",
    "    name='bitcoin',\n",
    "    description='Bitcoin price',\n",
    "    version=7,\n",
    "    primary_key=[\"timestamp\"])\n",
    "\n",
    "bitcoin_fg.insert(hist_data_btc)"
   ]
  },
  {
   "cell_type": "code",
   "execution_count": null,
   "id": "8391ef52",
   "metadata": {},
   "outputs": [
    {
     "data": {
      "text/plain": [
       "<hsfs.feature_group.FeatureGroup at 0x16b0cfa90>"
      ]
     },
     "execution_count": 30,
     "metadata": {},
     "output_type": "execute_result"
    }
   ],
   "source": [
    "# bitcoin_fg.update_feature_description(\"date\", \"Date\")\n",
    "#bitcoin_fg.update_feature_description(\"price\", \"The price of Bitcoin\")\n",
    "# bitcoin_fg.update_feature_description(\"open\", \"The opening price of Bitcoin\")\n",
    "#bitcoin_fg.update_feature_description(\"high\", \"The highest price of Bitcoin\")\n",
    "#bitcoin_fg.update_feature_description(\"low\", \"The lowest price of Bitcoin\")\n",
    "#bitcoin_fg.update_feature_description(\"vol\", \"Volume\")\n",
    "#bitcoin_fg.update_feature_description(\"change\", \"Change in price\")\n"
   ]
  },
  {
   "cell_type": "markdown",
   "id": "652f0c8d",
   "metadata": {},
   "source": [
    "#### Add historical data for fear and greed index"
   ]
  },
  {
   "cell_type": "code",
   "execution_count": 30,
   "id": "d0dc0b56",
   "metadata": {},
   "outputs": [
    {
     "name": "stdout",
     "output_type": "stream",
     "text": [
      "         date fng_value fng_classification\n",
      "0  23-12-2024        70              Greed\n",
      "1  22-12-2024        73              Greed\n",
      "2  21-12-2024        73              Greed\n",
      "3  20-12-2024        74              Greed\n",
      "4  19-12-2024        75              Greed\n"
     ]
    }
   ],
   "source": [
    "import requests\n",
    "import pandas as pd\n",
    "import io\n",
    "\n",
    "# URL of the API\n",
    "url = \"https://api.alternative.me/fng/?limit=0&format=csv\"\n",
    "\n",
    "# Fetch data from the API\n",
    "response = requests.get(url)\n",
    "\n",
    "if response.status_code == 200:\n",
    "    content = response.text\n",
    "    if \"data\" in content:\n",
    "        # Locate and clean the pseudo-CSV section\n",
    "        start_idx = content.find(\"[\") + 1\n",
    "        end_idx = content.find(\"]\", start_idx)\n",
    "        raw_data = content[start_idx:end_idx].strip()\n",
    "        \n",
    "        # Replace single quotes and braces for easier parsing\n",
    "        raw_data = raw_data.replace(\"'\", \"\").replace(\"{\", \"\").replace(\"}\", \"\")\n",
    "        \n",
    "        # Debug: Print raw_data to check its format\n",
    "        #print(\"Raw data:\", raw_data)\n",
    "        \n",
    "        # Split into rows\n",
    "        rows = raw_data.split(\"\\n\")\n",
    "        data = []\n",
    "        \n",
    "        for row in rows:\n",
    "            # Debug: Print each row to check format\n",
    "            #print(\"Processing row:\", row)\n",
    "            if row == \"fng_value,fng_classification,date\":\n",
    "                # Skip header row\n",
    "                continue\n",
    "            \n",
    "            # Extract key-value pairs\n",
    "            key_values = row.split(\",\")\n",
    "            # Ensure each field has a key and value\n",
    "            if len(key_values) == 3:\n",
    "                data.append(key_values[0].strip())\n",
    "                data.append(key_values[1].strip())\n",
    "                data.append(key_values[2].strip())\n",
    "\n",
    "            else:\n",
    "                print(\"Skipping malformed row:\", row)\n",
    "\n",
    "        \n",
    "        # Assuming rows are in order of [date, fng_value, fng_classification] repeat\n",
    "        # Split data into chunks of 3 for each record\n",
    "        structured_data = [data[i:i + 3] for i in range(0, len(data), 3)]\n",
    "        \n",
    "        # Create DataFrame\n",
    "        fng_df = pd.DataFrame(structured_data, columns=[\"date\", \"fng_value\", \"fng_classification\"])\n",
    "        print(fng_df.head())\n",
    "    else:\n",
    "        print(\"Data field not found in response.\")\n",
    "else:\n",
    "    print(f\"Failed to fetch data: {response.status_code}\")\n"
   ]
  },
  {
   "cell_type": "code",
   "execution_count": 31,
   "id": "f87fe293",
   "metadata": {},
   "outputs": [
    {
     "data": {
      "text/html": [
       "<div>\n",
       "<style scoped>\n",
       "    .dataframe tbody tr th:only-of-type {\n",
       "        vertical-align: middle;\n",
       "    }\n",
       "\n",
       "    .dataframe tbody tr th {\n",
       "        vertical-align: top;\n",
       "    }\n",
       "\n",
       "    .dataframe thead th {\n",
       "        text-align: right;\n",
       "    }\n",
       "</style>\n",
       "<table border=\"1\" class=\"dataframe\">\n",
       "  <thead>\n",
       "    <tr style=\"text-align: right;\">\n",
       "      <th></th>\n",
       "      <th>date</th>\n",
       "      <th>fng_value</th>\n",
       "      <th>fng_classification</th>\n",
       "    </tr>\n",
       "  </thead>\n",
       "  <tbody>\n",
       "    <tr>\n",
       "      <th>0</th>\n",
       "      <td>2024-12-23</td>\n",
       "      <td>70</td>\n",
       "      <td>Greed</td>\n",
       "    </tr>\n",
       "    <tr>\n",
       "      <th>1</th>\n",
       "      <td>2024-12-22</td>\n",
       "      <td>73</td>\n",
       "      <td>Greed</td>\n",
       "    </tr>\n",
       "    <tr>\n",
       "      <th>2</th>\n",
       "      <td>2024-12-21</td>\n",
       "      <td>73</td>\n",
       "      <td>Greed</td>\n",
       "    </tr>\n",
       "    <tr>\n",
       "      <th>3</th>\n",
       "      <td>2024-12-20</td>\n",
       "      <td>74</td>\n",
       "      <td>Greed</td>\n",
       "    </tr>\n",
       "    <tr>\n",
       "      <th>4</th>\n",
       "      <td>2024-12-19</td>\n",
       "      <td>75</td>\n",
       "      <td>Greed</td>\n",
       "    </tr>\n",
       "    <tr>\n",
       "      <th>...</th>\n",
       "      <td>...</td>\n",
       "      <td>...</td>\n",
       "      <td>...</td>\n",
       "    </tr>\n",
       "    <tr>\n",
       "      <th>2509</th>\n",
       "      <td>2018-02-05</td>\n",
       "      <td>11</td>\n",
       "      <td>Extreme Fear</td>\n",
       "    </tr>\n",
       "    <tr>\n",
       "      <th>2510</th>\n",
       "      <td>2018-02-04</td>\n",
       "      <td>24</td>\n",
       "      <td>Extreme Fear</td>\n",
       "    </tr>\n",
       "    <tr>\n",
       "      <th>2511</th>\n",
       "      <td>2018-02-03</td>\n",
       "      <td>40</td>\n",
       "      <td>Fear</td>\n",
       "    </tr>\n",
       "    <tr>\n",
       "      <th>2512</th>\n",
       "      <td>2018-02-02</td>\n",
       "      <td>15</td>\n",
       "      <td>Extreme Fear</td>\n",
       "    </tr>\n",
       "    <tr>\n",
       "      <th>2513</th>\n",
       "      <td>2018-02-01</td>\n",
       "      <td>30</td>\n",
       "      <td>Fear</td>\n",
       "    </tr>\n",
       "  </tbody>\n",
       "</table>\n",
       "<p>2514 rows × 3 columns</p>\n",
       "</div>"
      ],
      "text/plain": [
       "           date fng_value fng_classification\n",
       "0    2024-12-23        70              Greed\n",
       "1    2024-12-22        73              Greed\n",
       "2    2024-12-21        73              Greed\n",
       "3    2024-12-20        74              Greed\n",
       "4    2024-12-19        75              Greed\n",
       "...         ...       ...                ...\n",
       "2509 2018-02-05        11       Extreme Fear\n",
       "2510 2018-02-04        24       Extreme Fear\n",
       "2511 2018-02-03        40               Fear\n",
       "2512 2018-02-02        15       Extreme Fear\n",
       "2513 2018-02-01        30               Fear\n",
       "\n",
       "[2514 rows x 3 columns]"
      ]
     },
     "execution_count": 31,
     "metadata": {},
     "output_type": "execute_result"
    }
   ],
   "source": [
    "#fixing the date format\n",
    "fng_df['date'] = pd.to_datetime(fng_df['date'], format='%d-%m-%Y').dt.strftime('%m/%d/%Y')\n",
    "fng_df['date']=pd.to_datetime(fng_df['date'], format='%m/%d/%Y')\n",
    "fng_df"
   ]
  },
  {
   "cell_type": "code",
   "execution_count": 5,
   "id": "776a74af",
   "metadata": {},
   "outputs": [
    {
     "name": "stderr",
     "output_type": "stream",
     "text": [
      "Uploading Dataframe: 100.00% |██████████| Rows 2514/2514 | Elapsed Time: 00:01 | Remaining Time: 00:00\n"
     ]
    },
    {
     "name": "stdout",
     "output_type": "stream",
     "text": [
      "Launching job: f_n_g_index_6_offline_fg_materialization\n",
      "Job started successfully, you can follow the progress at \n",
      "https://c.app.hopsworks.ai:443/p/1164448/jobs/named/f_n_g_index_6_offline_fg_materialization/executions\n"
     ]
    },
    {
     "data": {
      "text/plain": [
       "(Job('f_n_g_index_6_offline_fg_materialization', 'SPARK'), None)"
      ]
     },
     "execution_count": 5,
     "metadata": {},
     "output_type": "execute_result"
    }
   ],
   "source": [
    "fs = project.get_feature_store() \n",
    "fng_fg = fs.get_or_create_feature_group(\n",
    "    name='f_n_g_index',\n",
    "    description='fear_and_greed_index',\n",
    "    version=6,\n",
    "    primary_key=[\"date\"])\n",
    "\n",
    "fng_fg.insert(fng_df)"
   ]
  },
  {
   "cell_type": "markdown",
   "id": "663a1606",
   "metadata": {},
   "source": [
    "#### Enter a description for each feature in the Feature Group"
   ]
  },
  {
   "cell_type": "code",
   "execution_count": 34,
   "id": "577effca",
   "metadata": {},
   "outputs": [
    {
     "data": {
      "text/plain": [
       "<hsfs.feature_group.FeatureGroup at 0x16c2e3bb0>"
      ]
     },
     "execution_count": 34,
     "metadata": {},
     "output_type": "execute_result"
    }
   ],
   "source": [
    "fng_fg.update_feature_description(\"date\", \"Date of the Fear and Greed Index\")\n",
    "fng_fg.update_feature_description(\"fng_value\", \"Fear and Greed Index value\")\n",
    "fng_fg.update_feature_description(\"fng_classification\", \"Fear and Greed Index classification\")\n"
   ]
  },
  {
   "cell_type": "code",
   "execution_count": null,
   "id": "267776da",
   "metadata": {},
   "outputs": [],
   "source": []
  }
 ],
 "metadata": {
  "kernelspec": {
   "display_name": "crypto-env",
   "language": "python",
   "name": "python3"
  },
  "language_info": {
   "codemirror_mode": {
    "name": "ipython",
    "version": 3
   },
   "file_extension": ".py",
   "mimetype": "text/x-python",
   "name": "python",
   "nbconvert_exporter": "python",
   "pygments_lexer": "ipython3",
   "version": "3.10.16"
  }
 },
 "nbformat": 4,
 "nbformat_minor": 5
}
