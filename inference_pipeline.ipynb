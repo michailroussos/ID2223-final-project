{
 "cells": [
  {
   "cell_type": "code",
   "execution_count": null,
   "metadata": {},
   "outputs": [
    {
     "name": "stderr",
     "output_type": "stream",
     "text": [
      "/opt/anaconda3/envs/crypto-env/lib/python3.10/site-packages/tqdm/auto.py:21: TqdmWarning: IProgress not found. Please update jupyter and ipywidgets. See https://ipywidgets.readthedocs.io/en/stable/user_install.html\n",
      "  from .autonotebook import tqdm as notebook_tqdm\n"
     ]
    }
   ],
   "source": [
    "import time\n",
    "import hopsworks\n",
    "import os\n",
    "from dotenv import load_dotenv\n",
    "import joblib\n",
    "\n",
    "# from datetime import datetime, timedelta\n",
    "import pandas as pd\n",
    "\n",
    "import hopsworks\n",
    "import matplotlib.pyplot as plt\n",
    "\n",
    "from utils import *\n",
    "import utils\n"
   ]
  },
  {
   "cell_type": "code",
   "execution_count": 26,
   "metadata": {},
   "outputs": [
    {
     "data": {
      "text/plain": [
       "1735766992"
      ]
     },
     "execution_count": 26,
     "metadata": {},
     "output_type": "execute_result"
    }
   ],
   "source": [
    "today = int(time.time())\n",
    "seconds_in_one_day = 24 * 60 * 60\n",
    "today"
   ]
  },
  {
   "cell_type": "code",
   "execution_count": 3,
   "metadata": {},
   "outputs": [
    {
     "name": "stdout",
     "output_type": "stream",
     "text": [
      "2025-01-01 23:16:49,764 INFO: Initializing external client\n",
      "2025-01-01 23:16:49,765 INFO: Base URL: https://c.app.hopsworks.ai:443\n",
      "2025-01-01 23:16:51,213 INFO: Python Engine initialized.\n",
      "\n",
      "Logged in to project, explore it here https://c.app.hopsworks.ai:443/p/1164448\n"
     ]
    }
   ],
   "source": [
    "load_dotenv()\n",
    "#os.environ[\"HOPSWORKS_API_KEY\"] = os.getenv(\"HOPSWORKS_API_KEY\")\n",
    "project = hopsworks.login()\n",
    "#secrets = secrets_api(project.name)\n",
    "# This line will fail if you have not registered the CRYPTO_API_KEY as a secret in Hopsworks\n",
    "#CRYPTO_API_KEY = secrets.get_secret(\"CRYPTO_API_KEY\").value\n",
    "\n",
    "#CRYPTO_API_KEY = os.getenv(\"CRYPTO_API_KEY\")"
   ]
  },
  {
   "cell_type": "code",
   "execution_count": 4,
   "metadata": {},
   "outputs": [
    {
     "data": {
      "text/plain": [
       "1732310209.0"
      ]
     },
     "execution_count": 4,
     "metadata": {},
     "output_type": "execute_result"
    }
   ],
   "source": [
    "fs = project.get_feature_store() \n",
    "starting_timestamp = float(today - 40 * seconds_in_one_day)\n",
    "starting_timestamp\n"
   ]
  },
  {
   "cell_type": "code",
   "execution_count": 5,
   "metadata": {},
   "outputs": [
    {
     "data": {
      "text/plain": [
       "(1735766209, 1732310209.0)"
      ]
     },
     "execution_count": 5,
     "metadata": {},
     "output_type": "execute_result"
    }
   ],
   "source": [
    "today, starting_timestamp"
   ]
  },
  {
   "cell_type": "code",
   "execution_count": 6,
   "metadata": {},
   "outputs": [
    {
     "name": "stdout",
     "output_type": "stream",
     "text": [
      "Finished: Reading data from Hopsworks, using Hopsworks Feature Query Service (0.81s) \n"
     ]
    },
    {
     "data": {
      "text/html": [
       "<div>\n",
       "<style scoped>\n",
       "    .dataframe tbody tr th:only-of-type {\n",
       "        vertical-align: middle;\n",
       "    }\n",
       "\n",
       "    .dataframe tbody tr th {\n",
       "        vertical-align: top;\n",
       "    }\n",
       "\n",
       "    .dataframe thead th {\n",
       "        text-align: right;\n",
       "    }\n",
       "</style>\n",
       "<table border=\"1\" class=\"dataframe\">\n",
       "  <thead>\n",
       "    <tr style=\"text-align: right;\">\n",
       "      <th></th>\n",
       "      <th>timestamp</th>\n",
       "      <th>open</th>\n",
       "      <th>high</th>\n",
       "      <th>low</th>\n",
       "      <th>close</th>\n",
       "      <th>volume</th>\n",
       "      <th>volume_buy</th>\n",
       "      <th>volume_sell</th>\n",
       "    </tr>\n",
       "  </thead>\n",
       "  <tbody>\n",
       "    <tr>\n",
       "      <th>0</th>\n",
       "      <td>1732320000</td>\n",
       "      <td>257.25</td>\n",
       "      <td>264.02</td>\n",
       "      <td>253.20</td>\n",
       "      <td>255.26</td>\n",
       "      <td>367378.262582</td>\n",
       "      <td>157863.310285</td>\n",
       "      <td>209514.952298</td>\n",
       "    </tr>\n",
       "    <tr>\n",
       "      <th>1</th>\n",
       "      <td>1732406400</td>\n",
       "      <td>255.26</td>\n",
       "      <td>259.96</td>\n",
       "      <td>241.21</td>\n",
       "      <td>252.93</td>\n",
       "      <td>333221.510079</td>\n",
       "      <td>173161.319468</td>\n",
       "      <td>160060.190611</td>\n",
       "    </tr>\n",
       "    <tr>\n",
       "      <th>2</th>\n",
       "      <td>1732492800</td>\n",
       "      <td>252.93</td>\n",
       "      <td>256.65</td>\n",
       "      <td>231.32</td>\n",
       "      <td>233.96</td>\n",
       "      <td>430081.090503</td>\n",
       "      <td>191964.534235</td>\n",
       "      <td>238116.556267</td>\n",
       "    </tr>\n",
       "    <tr>\n",
       "      <th>3</th>\n",
       "      <td>1732579200</td>\n",
       "      <td>233.96</td>\n",
       "      <td>239.68</td>\n",
       "      <td>221.82</td>\n",
       "      <td>230.68</td>\n",
       "      <td>445887.775346</td>\n",
       "      <td>201503.607457</td>\n",
       "      <td>244384.167889</td>\n",
       "    </tr>\n",
       "    <tr>\n",
       "      <th>4</th>\n",
       "      <td>1732665600</td>\n",
       "      <td>230.68</td>\n",
       "      <td>245.00</td>\n",
       "      <td>227.66</td>\n",
       "      <td>242.26</td>\n",
       "      <td>265621.873707</td>\n",
       "      <td>161330.187523</td>\n",
       "      <td>104291.686184</td>\n",
       "    </tr>\n",
       "  </tbody>\n",
       "</table>\n",
       "</div>"
      ],
      "text/plain": [
       "    timestamp    open    high     low   close         volume     volume_buy  \\\n",
       "0  1732320000  257.25  264.02  253.20  255.26  367378.262582  157863.310285   \n",
       "1  1732406400  255.26  259.96  241.21  252.93  333221.510079  173161.319468   \n",
       "2  1732492800  252.93  256.65  231.32  233.96  430081.090503  191964.534235   \n",
       "3  1732579200  233.96  239.68  221.82  230.68  445887.775346  201503.607457   \n",
       "4  1732665600  230.68  245.00  227.66  242.26  265621.873707  161330.187523   \n",
       "\n",
       "     volume_sell  \n",
       "0  209514.952298  \n",
       "1  160060.190611  \n",
       "2  238116.556267  \n",
       "3  244384.167889  \n",
       "4  104291.686184  "
      ]
     },
     "execution_count": 6,
     "metadata": {},
     "output_type": "execute_result"
    }
   ],
   "source": [
    "solana_feature_group = fs.get_feature_group(\n",
    "    name=\"solana\",  \n",
    "    version=1\n",
    ")\n",
    "\n",
    "solana_batch_data = solana_feature_group.filter(solana_feature_group.timestamp >= starting_timestamp).read().sort_values(by='timestamp', inplace=False).reset_index(drop=True)\n",
    "solana_batch_data.head()"
   ]
  },
  {
   "cell_type": "code",
   "execution_count": 7,
   "metadata": {},
   "outputs": [
    {
     "name": "stdout",
     "output_type": "stream",
     "text": [
      "Finished: Reading data from Hopsworks, using Hopsworks Feature Query Service (1.02s) \n"
     ]
    },
    {
     "data": {
      "text/html": [
       "<div>\n",
       "<style scoped>\n",
       "    .dataframe tbody tr th:only-of-type {\n",
       "        vertical-align: middle;\n",
       "    }\n",
       "\n",
       "    .dataframe tbody tr th {\n",
       "        vertical-align: top;\n",
       "    }\n",
       "\n",
       "    .dataframe thead th {\n",
       "        text-align: right;\n",
       "    }\n",
       "</style>\n",
       "<table border=\"1\" class=\"dataframe\">\n",
       "  <thead>\n",
       "    <tr style=\"text-align: right;\">\n",
       "      <th></th>\n",
       "      <th>timestamp</th>\n",
       "      <th>open</th>\n",
       "    </tr>\n",
       "  </thead>\n",
       "  <tbody>\n",
       "    <tr>\n",
       "      <th>0</th>\n",
       "      <td>1732320000</td>\n",
       "      <td>99000.0</td>\n",
       "    </tr>\n",
       "    <tr>\n",
       "      <th>1</th>\n",
       "      <td>1732406400</td>\n",
       "      <td>97759.1</td>\n",
       "    </tr>\n",
       "    <tr>\n",
       "      <th>2</th>\n",
       "      <td>1732492800</td>\n",
       "      <td>97994.1</td>\n",
       "    </tr>\n",
       "    <tr>\n",
       "      <th>3</th>\n",
       "      <td>1732579200</td>\n",
       "      <td>93000.0</td>\n",
       "    </tr>\n",
       "    <tr>\n",
       "      <th>4</th>\n",
       "      <td>1732665600</td>\n",
       "      <td>91914.5</td>\n",
       "    </tr>\n",
       "  </tbody>\n",
       "</table>\n",
       "</div>"
      ],
      "text/plain": [
       "    timestamp     open\n",
       "0  1732320000  99000.0\n",
       "1  1732406400  97759.1\n",
       "2  1732492800  97994.1\n",
       "3  1732579200  93000.0\n",
       "4  1732665600  91914.5"
      ]
     },
     "execution_count": 7,
     "metadata": {},
     "output_type": "execute_result"
    }
   ],
   "source": [
    "bitcoin_feature_group = fs.get_feature_group(\n",
    "    name=\"bitcoin\",  \n",
    "    version=1\n",
    ")\n",
    "bitcoin_batch_data = bitcoin_feature_group.filter(bitcoin_feature_group.timestamp >= starting_timestamp).read().sort_values(by='timestamp', inplace=False).reset_index(drop=True)\n",
    "bitcoin_batch_data = bitcoin_batch_data[[\"timestamp\",\"open\"]]\n",
    "bitcoin_batch_data.head()"
   ]
  },
  {
   "cell_type": "code",
   "execution_count": 8,
   "metadata": {},
   "outputs": [
    {
     "name": "stdout",
     "output_type": "stream",
     "text": [
      "Finished: Reading data from Hopsworks, using Hopsworks Feature Query Service (0.59s) \n"
     ]
    },
    {
     "data": {
      "text/html": [
       "<div>\n",
       "<style scoped>\n",
       "    .dataframe tbody tr th:only-of-type {\n",
       "        vertical-align: middle;\n",
       "    }\n",
       "\n",
       "    .dataframe tbody tr th {\n",
       "        vertical-align: top;\n",
       "    }\n",
       "\n",
       "    .dataframe thead th {\n",
       "        text-align: right;\n",
       "    }\n",
       "</style>\n",
       "<table border=\"1\" class=\"dataframe\">\n",
       "  <thead>\n",
       "    <tr style=\"text-align: right;\">\n",
       "      <th></th>\n",
       "      <th>fng_value</th>\n",
       "      <th>fng_classification</th>\n",
       "      <th>timestamp</th>\n",
       "    </tr>\n",
       "  </thead>\n",
       "  <tbody>\n",
       "    <tr>\n",
       "      <th>0</th>\n",
       "      <td>93</td>\n",
       "      <td>4</td>\n",
       "      <td>1.732320e+09</td>\n",
       "    </tr>\n",
       "    <tr>\n",
       "      <th>1</th>\n",
       "      <td>80</td>\n",
       "      <td>4</td>\n",
       "      <td>1.732406e+09</td>\n",
       "    </tr>\n",
       "    <tr>\n",
       "      <th>2</th>\n",
       "      <td>82</td>\n",
       "      <td>4</td>\n",
       "      <td>1.732493e+09</td>\n",
       "    </tr>\n",
       "    <tr>\n",
       "      <th>3</th>\n",
       "      <td>79</td>\n",
       "      <td>4</td>\n",
       "      <td>1.732579e+09</td>\n",
       "    </tr>\n",
       "    <tr>\n",
       "      <th>4</th>\n",
       "      <td>75</td>\n",
       "      <td>3</td>\n",
       "      <td>1.732666e+09</td>\n",
       "    </tr>\n",
       "  </tbody>\n",
       "</table>\n",
       "</div>"
      ],
      "text/plain": [
       "  fng_value  fng_classification     timestamp\n",
       "0        93                   4  1.732320e+09\n",
       "1        80                   4  1.732406e+09\n",
       "2        82                   4  1.732493e+09\n",
       "3        79                   4  1.732579e+09\n",
       "4        75                   3  1.732666e+09"
      ]
     },
     "execution_count": 8,
     "metadata": {},
     "output_type": "execute_result"
    }
   ],
   "source": [
    "fng_feature_group = fs.get_feature_group('f_n_g_index', version=8)\n",
    "fng_batch_data = fng_feature_group.filter(fng_feature_group.timestamp >= starting_timestamp).read().sort_values(by='timestamp', inplace=False).reset_index(drop=True)\n",
    "fng_batch_data['fng_classification'] = fng_batch_data['fng_classification'].map(fng_labels_to_numbers_map)\n",
    "fng_batch_data.head()"
   ]
  },
  {
   "cell_type": "code",
   "execution_count": 9,
   "metadata": {},
   "outputs": [
    {
     "name": "stdout",
     "output_type": "stream",
     "text": [
      "/var/folders/vc/103l9n915p1_fcsd6kw28dsm0000gn/T/84e4414c-a29a-4e75-b7ae-aaf9a8639123/solana_price_daily_model_10d/3\n"
     ]
    },
    {
     "data": {
      "text/plain": [
       "<Sequential name=sequential, built=True>"
      ]
     },
     "execution_count": 9,
     "metadata": {},
     "output_type": "execute_result"
    }
   ],
   "source": [
    "from tensorflow.keras.models import load_model\n",
    "\n",
    "mr = project.get_model_registry()\n",
    "\n",
    "retrieved_model = mr.get_model(\n",
    "    name=\"solana_price_daily_model_10d\",\n",
    "    version=3,\n",
    ")\n",
    "saved_model_dir = retrieved_model.download()\n",
    "print(saved_model_dir)\n",
    "model = load_model(saved_model_dir+'/best_model.keras')\n",
    "model\n"
   ]
  },
  {
   "cell_type": "code",
   "execution_count": 10,
   "metadata": {},
   "outputs": [
    {
     "data": {
      "text/html": [
       "<div>\n",
       "<style scoped>\n",
       "    .dataframe tbody tr th:only-of-type {\n",
       "        vertical-align: middle;\n",
       "    }\n",
       "\n",
       "    .dataframe tbody tr th {\n",
       "        vertical-align: top;\n",
       "    }\n",
       "\n",
       "    .dataframe thead th {\n",
       "        text-align: right;\n",
       "    }\n",
       "</style>\n",
       "<table border=\"1\" class=\"dataframe\">\n",
       "  <thead>\n",
       "    <tr style=\"text-align: right;\">\n",
       "      <th></th>\n",
       "      <th>high</th>\n",
       "      <th>low</th>\n",
       "      <th>close</th>\n",
       "      <th>volume</th>\n",
       "      <th>volume_buy</th>\n",
       "      <th>volume_sell</th>\n",
       "      <th>open_bitcoin</th>\n",
       "      <th>fng_value</th>\n",
       "      <th>fng_classification</th>\n",
       "      <th>open_solana</th>\n",
       "    </tr>\n",
       "  </thead>\n",
       "  <tbody>\n",
       "    <tr>\n",
       "      <th>0</th>\n",
       "      <td>264.02</td>\n",
       "      <td>253.20</td>\n",
       "      <td>255.26</td>\n",
       "      <td>367378.262582</td>\n",
       "      <td>157863.310285</td>\n",
       "      <td>209514.952298</td>\n",
       "      <td>99000.0</td>\n",
       "      <td>93</td>\n",
       "      <td>4</td>\n",
       "      <td>257.25</td>\n",
       "    </tr>\n",
       "    <tr>\n",
       "      <th>1</th>\n",
       "      <td>259.96</td>\n",
       "      <td>241.21</td>\n",
       "      <td>252.93</td>\n",
       "      <td>333221.510079</td>\n",
       "      <td>173161.319468</td>\n",
       "      <td>160060.190611</td>\n",
       "      <td>97759.1</td>\n",
       "      <td>80</td>\n",
       "      <td>4</td>\n",
       "      <td>255.26</td>\n",
       "    </tr>\n",
       "    <tr>\n",
       "      <th>2</th>\n",
       "      <td>256.65</td>\n",
       "      <td>231.32</td>\n",
       "      <td>233.96</td>\n",
       "      <td>430081.090503</td>\n",
       "      <td>191964.534235</td>\n",
       "      <td>238116.556267</td>\n",
       "      <td>97994.1</td>\n",
       "      <td>82</td>\n",
       "      <td>4</td>\n",
       "      <td>252.93</td>\n",
       "    </tr>\n",
       "    <tr>\n",
       "      <th>3</th>\n",
       "      <td>239.68</td>\n",
       "      <td>221.82</td>\n",
       "      <td>230.68</td>\n",
       "      <td>445887.775346</td>\n",
       "      <td>201503.607457</td>\n",
       "      <td>244384.167889</td>\n",
       "      <td>93000.0</td>\n",
       "      <td>79</td>\n",
       "      <td>4</td>\n",
       "      <td>233.96</td>\n",
       "    </tr>\n",
       "    <tr>\n",
       "      <th>4</th>\n",
       "      <td>245.00</td>\n",
       "      <td>227.66</td>\n",
       "      <td>242.26</td>\n",
       "      <td>265621.873707</td>\n",
       "      <td>161330.187523</td>\n",
       "      <td>104291.686184</td>\n",
       "      <td>91914.5</td>\n",
       "      <td>75</td>\n",
       "      <td>3</td>\n",
       "      <td>230.68</td>\n",
       "    </tr>\n",
       "  </tbody>\n",
       "</table>\n",
       "</div>"
      ],
      "text/plain": [
       "     high     low   close         volume     volume_buy    volume_sell  \\\n",
       "0  264.02  253.20  255.26  367378.262582  157863.310285  209514.952298   \n",
       "1  259.96  241.21  252.93  333221.510079  173161.319468  160060.190611   \n",
       "2  256.65  231.32  233.96  430081.090503  191964.534235  238116.556267   \n",
       "3  239.68  221.82  230.68  445887.775346  201503.607457  244384.167889   \n",
       "4  245.00  227.66  242.26  265621.873707  161330.187523  104291.686184   \n",
       "\n",
       "   open_bitcoin fng_value  fng_classification  open_solana  \n",
       "0       99000.0        93                   4       257.25  \n",
       "1       97759.1        80                   4       255.26  \n",
       "2       97994.1        82                   4       252.93  \n",
       "3       93000.0        79                   4       233.96  \n",
       "4       91914.5        75                   3       230.68  "
      ]
     },
     "execution_count": 10,
     "metadata": {},
     "output_type": "execute_result"
    }
   ],
   "source": [
    "all_data = pd.merge(solana_batch_data, bitcoin_batch_data, how='inner', on=\"timestamp\",suffixes=('_solana', '_bitcoin'))  \n",
    "all_data = pd.merge(all_data, fng_batch_data, how='inner', on=\"timestamp\")\n",
    "\n",
    "if \"timestamp\" in all_data.columns:\n",
    "    all_data = all_data.drop(columns=['timestamp'])\n",
    "\n",
    "target_column = 'open_solana'\n",
    "all_data = utils.move_target_at_the_end(all_data, target_column)\n",
    "all_data_values = all_data.values[-30:]\n",
    "\n",
    "all_data.head()"
   ]
  },
  {
   "cell_type": "code",
   "execution_count": null,
   "metadata": {},
   "outputs": [],
   "source": [
    "scaler_labels = joblib.load('scaler_labels.pkl')\n",
    "scaler_features = joblib.load('scaler_features.pkl')\n",
    "\n",
    "all_data_values = scaler_features.transform(all_data_values)\n",
    "X = all_data_values.reshape(1, 30, 10)\n"
   ]
  },
  {
   "cell_type": "code",
   "execution_count": 17,
   "metadata": {},
   "outputs": [
    {
     "data": {
      "text/plain": [
       "Index(['high', 'low', 'close', 'volume', 'volume_buy', 'volume_sell',\n",
       "       'open_bitcoin', 'fng_value', 'fng_classification', 'open_solana'],\n",
       "      dtype='object')"
      ]
     },
     "execution_count": 17,
     "metadata": {},
     "output_type": "execute_result"
    }
   ],
   "source": [
    "all_data.columns"
   ]
  },
  {
   "cell_type": "code",
   "execution_count": 21,
   "metadata": {},
   "outputs": [
    {
     "name": "stdout",
     "output_type": "stream",
     "text": [
      "\u001b[1m1/1\u001b[0m \u001b[32m━━━━━━━━━━━━━━━━━━━━\u001b[0m\u001b[37m\u001b[0m \u001b[1m0s\u001b[0m 23ms/step\n"
     ]
    }
   ],
   "source": [
    "predictions = model.predict(X)[0]"
   ]
  },
  {
   "cell_type": "code",
   "execution_count": 22,
   "metadata": {},
   "outputs": [
    {
     "data": {
      "text/plain": [
       "array([0.44728172, 0.5388375 , 0.44224438, 0.38249242, 0.43675682,\n",
       "       0.5306252 , 0.48221654, 0.70167875, 0.40769655, 0.507215  ],\n",
       "      dtype=float32)"
      ]
     },
     "execution_count": 22,
     "metadata": {},
     "output_type": "execute_result"
    }
   ],
   "source": [
    "predictions"
   ]
  },
  {
   "cell_type": "code",
   "execution_count": 23,
   "metadata": {},
   "outputs": [
    {
     "data": {
      "text/plain": [
       "range(0, 10)"
      ]
     },
     "execution_count": 23,
     "metadata": {},
     "output_type": "execute_result"
    }
   ],
   "source": [
    "range(len(predictions))"
   ]
  },
  {
   "cell_type": "code",
   "execution_count": 25,
   "metadata": {},
   "outputs": [
    {
     "data": {
      "text/plain": [
       "[1735852609,\n",
       " 1735939009,\n",
       " 1736025409,\n",
       " 1736111809,\n",
       " 1736198209,\n",
       " 1736284609,\n",
       " 1736371009,\n",
       " 1736457409,\n",
       " 1736543809,\n",
       " 1736630209]"
      ]
     },
     "execution_count": 25,
     "metadata": {},
     "output_type": "execute_result"
    }
   ],
   "source": [
    "timestamps = [today + (i+1) * seconds_in_one_day for i in range(len(predictions))]\n",
    "timestamps"
   ]
  },
  {
   "cell_type": "code",
   "execution_count": 31,
   "metadata": {},
   "outputs": [],
   "source": [
    "monitor_fg = fs.get_or_create_feature_group(\n",
    "    name='solana_predictions',\n",
    "    description='Solana_predictions',\n",
    "    version=1,\n",
    "    primary_key=['timestamp']\n",
    ")"
   ]
  },
  {
   "cell_type": "code",
   "execution_count": 32,
   "metadata": {},
   "outputs": [
    {
     "data": {
      "text/html": [
       "<div>\n",
       "<style scoped>\n",
       "    .dataframe tbody tr th:only-of-type {\n",
       "        vertical-align: middle;\n",
       "    }\n",
       "\n",
       "    .dataframe tbody tr th {\n",
       "        vertical-align: top;\n",
       "    }\n",
       "\n",
       "    .dataframe thead th {\n",
       "        text-align: right;\n",
       "    }\n",
       "</style>\n",
       "<table border=\"1\" class=\"dataframe\">\n",
       "  <thead>\n",
       "    <tr style=\"text-align: right;\">\n",
       "      <th></th>\n",
       "      <th>timestamp</th>\n",
       "      <th>open_solana</th>\n",
       "    </tr>\n",
       "  </thead>\n",
       "  <tbody>\n",
       "    <tr>\n",
       "      <th>0</th>\n",
       "      <td>1735852609</td>\n",
       "      <td>0.447282</td>\n",
       "    </tr>\n",
       "    <tr>\n",
       "      <th>1</th>\n",
       "      <td>1735939009</td>\n",
       "      <td>0.538837</td>\n",
       "    </tr>\n",
       "    <tr>\n",
       "      <th>2</th>\n",
       "      <td>1736025409</td>\n",
       "      <td>0.442244</td>\n",
       "    </tr>\n",
       "    <tr>\n",
       "      <th>3</th>\n",
       "      <td>1736111809</td>\n",
       "      <td>0.382492</td>\n",
       "    </tr>\n",
       "    <tr>\n",
       "      <th>4</th>\n",
       "      <td>1736198209</td>\n",
       "      <td>0.436757</td>\n",
       "    </tr>\n",
       "    <tr>\n",
       "      <th>5</th>\n",
       "      <td>1736284609</td>\n",
       "      <td>0.530625</td>\n",
       "    </tr>\n",
       "    <tr>\n",
       "      <th>6</th>\n",
       "      <td>1736371009</td>\n",
       "      <td>0.482217</td>\n",
       "    </tr>\n",
       "    <tr>\n",
       "      <th>7</th>\n",
       "      <td>1736457409</td>\n",
       "      <td>0.701679</td>\n",
       "    </tr>\n",
       "    <tr>\n",
       "      <th>8</th>\n",
       "      <td>1736543809</td>\n",
       "      <td>0.407697</td>\n",
       "    </tr>\n",
       "    <tr>\n",
       "      <th>9</th>\n",
       "      <td>1736630209</td>\n",
       "      <td>0.507215</td>\n",
       "    </tr>\n",
       "  </tbody>\n",
       "</table>\n",
       "</div>"
      ],
      "text/plain": [
       "    timestamp  open_solana\n",
       "0  1735852609     0.447282\n",
       "1  1735939009     0.538837\n",
       "2  1736025409     0.442244\n",
       "3  1736111809     0.382492\n",
       "4  1736198209     0.436757\n",
       "5  1736284609     0.530625\n",
       "6  1736371009     0.482217\n",
       "7  1736457409     0.701679\n",
       "8  1736543809     0.407697\n",
       "9  1736630209     0.507215"
      ]
     },
     "execution_count": 32,
     "metadata": {},
     "output_type": "execute_result"
    }
   ],
   "source": [
    "result = pd.DataFrame(columns=['timestamp', \"open_solana\"])\n",
    "result[\"timestamp\"]=timestamps\n",
    "result[\"open_solana\"]=predictions\n",
    "result"
   ]
  },
  {
   "cell_type": "code",
   "execution_count": 33,
   "metadata": {},
   "outputs": [
    {
     "name": "stdout",
     "output_type": "stream",
     "text": [
      "Feature Group created successfully, explore it at \n",
      "https://c.app.hopsworks.ai:443/p/1164448/fs/1155151/fg/1394446\n"
     ]
    },
    {
     "name": "stderr",
     "output_type": "stream",
     "text": [
      "Uploading Dataframe: 100.00% |██████████| Rows 10/10 | Elapsed Time: 00:01 | Remaining Time: 00:00\n"
     ]
    },
    {
     "name": "stdout",
     "output_type": "stream",
     "text": [
      "Launching job: solana_predictions_1_offline_fg_materialization\n",
      "Job started successfully, you can follow the progress at \n",
      "https://c.app.hopsworks.ai:443/p/1164448/jobs/named/solana_predictions_1_offline_fg_materialization/executions\n"
     ]
    },
    {
     "data": {
      "text/plain": [
       "(Job('solana_predictions_1_offline_fg_materialization', 'SPARK'), None)"
      ]
     },
     "execution_count": 33,
     "metadata": {},
     "output_type": "execute_result"
    }
   ],
   "source": [
    "monitor_fg.insert(result)"
   ]
  },
  {
   "cell_type": "code",
   "execution_count": null,
   "metadata": {},
   "outputs": [],
   "source": []
  }
 ],
 "metadata": {
  "kernelspec": {
   "display_name": "crypto-env",
   "language": "python",
   "name": "python3"
  },
  "language_info": {
   "codemirror_mode": {
    "name": "ipython",
    "version": 3
   },
   "file_extension": ".py",
   "mimetype": "text/x-python",
   "name": "python",
   "nbconvert_exporter": "python",
   "pygments_lexer": "ipython3",
   "version": "3.10.16"
  }
 },
 "nbformat": 4,
 "nbformat_minor": 2
}
