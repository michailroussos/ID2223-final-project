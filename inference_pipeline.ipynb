{
 "cells": [
  {
   "cell_type": "code",
   "execution_count": 1,
   "metadata": {
    "ExecuteTime": {
     "end_time": "2025-01-02T16:30:35.044176Z",
     "start_time": "2025-01-02T16:30:34.109987Z"
    }
   },
   "outputs": [],
   "source": [
    "import time\n",
    "import hopsworks\n",
    "import os\n",
    "from dotenv import load_dotenv\n",
    "import joblib\n",
    "\n",
    "# from datetime import datetime, timedelta\n",
    "import pandas as pd\n",
    "\n",
    "import hopsworks\n",
    "import matplotlib.pyplot as plt\n",
    "\n",
    "from utils import *\n",
    "import utils\n"
   ]
  },
  {
   "cell_type": "code",
   "execution_count": 2,
   "metadata": {
    "ExecuteTime": {
     "end_time": "2025-01-02T16:30:35.048753Z",
     "start_time": "2025-01-02T16:30:35.046464Z"
    }
   },
   "outputs": [
    {
     "data": {
      "text/plain": "1735835435"
     },
     "execution_count": 2,
     "metadata": {},
     "output_type": "execute_result"
    }
   ],
   "source": [
    "today = int(time.time())\n",
    "seconds_in_one_day = 24 * 60 * 60\n",
    "today"
   ]
  },
  {
   "cell_type": "code",
   "execution_count": 3,
   "metadata": {
    "ExecuteTime": {
     "end_time": "2025-01-02T16:30:42.982288Z",
     "start_time": "2025-01-02T16:30:35.049052Z"
    }
   },
   "outputs": [
    {
     "name": "stdout",
     "output_type": "stream",
     "text": [
      "2025-01-02 18:30:35,049 INFO: Initializing external client\n",
      "2025-01-02 18:30:35,050 INFO: Base URL: https://c.app.hopsworks.ai:443\n",
      "2025-01-02 18:30:38,277 INFO: Python Engine initialized.\n",
      "\n",
      "Logged in to project, explore it here https://c.app.hopsworks.ai:443/p/1160346\n"
     ]
    }
   ],
   "source": [
    "load_dotenv()\n",
    "#os.environ[\"HOPSWORKS_API_KEY\"] = os.getenv(\"HOPSWORKS_API_KEY\")\n",
    "project = hopsworks.login()\n",
    "#secrets = secrets_api(project.name)\n",
    "# This line will fail if you have not registered the CRYPTO_API_KEY as a secret in Hopsworks\n",
    "#CRYPTO_API_KEY = secrets.get_secret(\"CRYPTO_API_KEY\").value\n",
    "\n",
    "#CRYPTO_API_KEY = os.getenv(\"CRYPTO_API_KEY\")"
   ]
  },
  {
   "cell_type": "code",
   "execution_count": 4,
   "metadata": {
    "ExecuteTime": {
     "end_time": "2025-01-02T16:30:43.165964Z",
     "start_time": "2025-01-02T16:30:42.984681Z"
    }
   },
   "outputs": [
    {
     "data": {
      "text/plain": "1732379435.0"
     },
     "execution_count": 4,
     "metadata": {},
     "output_type": "execute_result"
    }
   ],
   "source": [
    "fs = project.get_feature_store() \n",
    "starting_timestamp = float(today - 40 * seconds_in_one_day)\n",
    "starting_timestamp\n"
   ]
  },
  {
   "cell_type": "code",
   "execution_count": 5,
   "metadata": {
    "ExecuteTime": {
     "end_time": "2025-01-02T16:30:43.174183Z",
     "start_time": "2025-01-02T16:30:43.170252Z"
    }
   },
   "outputs": [
    {
     "data": {
      "text/plain": "(1735835435, 1732379435.0)"
     },
     "execution_count": 5,
     "metadata": {},
     "output_type": "execute_result"
    }
   ],
   "source": [
    "today, starting_timestamp"
   ]
  },
  {
   "cell_type": "code",
   "execution_count": 6,
   "metadata": {
    "ExecuteTime": {
     "end_time": "2025-01-02T16:30:46.526357Z",
     "start_time": "2025-01-02T16:30:43.176762Z"
    }
   },
   "outputs": [
    {
     "name": "stdout",
     "output_type": "stream",
     "text": [
      "Finished: Reading data from Hopsworks, using Hopsworks Feature Query Service (1.21s) \n"
     ]
    },
    {
     "data": {
      "text/plain": "    timestamp    open    high     low   close         volume     volume_buy  \\\n0  1732406400  255.26  259.96  241.21  252.93  333221.510079  173161.319468   \n1  1732492800  252.93  256.65  231.32  233.96  430081.090503  191964.534235   \n2  1732579200  233.96  239.68  221.82  230.68  445887.775346  201503.607457   \n3  1732665600  230.68  245.00  227.66  242.26  265621.873707  161330.187523   \n4  1732752000  242.26  245.46  233.00  237.59  142466.637324   73142.398338   \n\n     volume_sell  \n0  160060.190611  \n1  238116.556267  \n2  244384.167889  \n3  104291.686184  \n4   69324.238987  ",
      "text/html": "<div>\n<style scoped>\n    .dataframe tbody tr th:only-of-type {\n        vertical-align: middle;\n    }\n\n    .dataframe tbody tr th {\n        vertical-align: top;\n    }\n\n    .dataframe thead th {\n        text-align: right;\n    }\n</style>\n<table border=\"1\" class=\"dataframe\">\n  <thead>\n    <tr style=\"text-align: right;\">\n      <th></th>\n      <th>timestamp</th>\n      <th>open</th>\n      <th>high</th>\n      <th>low</th>\n      <th>close</th>\n      <th>volume</th>\n      <th>volume_buy</th>\n      <th>volume_sell</th>\n    </tr>\n  </thead>\n  <tbody>\n    <tr>\n      <th>0</th>\n      <td>1732406400</td>\n      <td>255.26</td>\n      <td>259.96</td>\n      <td>241.21</td>\n      <td>252.93</td>\n      <td>333221.510079</td>\n      <td>173161.319468</td>\n      <td>160060.190611</td>\n    </tr>\n    <tr>\n      <th>1</th>\n      <td>1732492800</td>\n      <td>252.93</td>\n      <td>256.65</td>\n      <td>231.32</td>\n      <td>233.96</td>\n      <td>430081.090503</td>\n      <td>191964.534235</td>\n      <td>238116.556267</td>\n    </tr>\n    <tr>\n      <th>2</th>\n      <td>1732579200</td>\n      <td>233.96</td>\n      <td>239.68</td>\n      <td>221.82</td>\n      <td>230.68</td>\n      <td>445887.775346</td>\n      <td>201503.607457</td>\n      <td>244384.167889</td>\n    </tr>\n    <tr>\n      <th>3</th>\n      <td>1732665600</td>\n      <td>230.68</td>\n      <td>245.00</td>\n      <td>227.66</td>\n      <td>242.26</td>\n      <td>265621.873707</td>\n      <td>161330.187523</td>\n      <td>104291.686184</td>\n    </tr>\n    <tr>\n      <th>4</th>\n      <td>1732752000</td>\n      <td>242.26</td>\n      <td>245.46</td>\n      <td>233.00</td>\n      <td>237.59</td>\n      <td>142466.637324</td>\n      <td>73142.398338</td>\n      <td>69324.238987</td>\n    </tr>\n  </tbody>\n</table>\n</div>"
     },
     "execution_count": 6,
     "metadata": {},
     "output_type": "execute_result"
    }
   ],
   "source": [
    "solana_feature_group = fs.get_feature_group(\n",
    "    name=\"solana\",  \n",
    "    version=1\n",
    ")\n",
    "\n",
    "solana_batch_data = solana_feature_group.filter(solana_feature_group.timestamp >= starting_timestamp).read().sort_values(by='timestamp', inplace=False).reset_index(drop=True)\n",
    "solana_batch_data.head()"
   ]
  },
  {
   "cell_type": "code",
   "execution_count": 7,
   "metadata": {
    "ExecuteTime": {
     "end_time": "2025-01-02T16:30:48.172202Z",
     "start_time": "2025-01-02T16:30:46.525562Z"
    }
   },
   "outputs": [
    {
     "name": "stdout",
     "output_type": "stream",
     "text": [
      "Finished: Reading data from Hopsworks, using Hopsworks Feature Query Service (0.83s) \n"
     ]
    },
    {
     "data": {
      "text/plain": "    timestamp     open\n0  1732406400  97759.1\n1  1732492800  97994.1\n2  1732579200  93000.0\n3  1732665600  91914.5\n4  1732752000  95952.9",
      "text/html": "<div>\n<style scoped>\n    .dataframe tbody tr th:only-of-type {\n        vertical-align: middle;\n    }\n\n    .dataframe tbody tr th {\n        vertical-align: top;\n    }\n\n    .dataframe thead th {\n        text-align: right;\n    }\n</style>\n<table border=\"1\" class=\"dataframe\">\n  <thead>\n    <tr style=\"text-align: right;\">\n      <th></th>\n      <th>timestamp</th>\n      <th>open</th>\n    </tr>\n  </thead>\n  <tbody>\n    <tr>\n      <th>0</th>\n      <td>1732406400</td>\n      <td>97759.1</td>\n    </tr>\n    <tr>\n      <th>1</th>\n      <td>1732492800</td>\n      <td>97994.1</td>\n    </tr>\n    <tr>\n      <th>2</th>\n      <td>1732579200</td>\n      <td>93000.0</td>\n    </tr>\n    <tr>\n      <th>3</th>\n      <td>1732665600</td>\n      <td>91914.5</td>\n    </tr>\n    <tr>\n      <th>4</th>\n      <td>1732752000</td>\n      <td>95952.9</td>\n    </tr>\n  </tbody>\n</table>\n</div>"
     },
     "execution_count": 7,
     "metadata": {},
     "output_type": "execute_result"
    }
   ],
   "source": [
    "bitcoin_feature_group = fs.get_feature_group(\n",
    "    name=\"bitcoin\",  \n",
    "    version=1\n",
    ")\n",
    "bitcoin_batch_data = bitcoin_feature_group.filter(bitcoin_feature_group.timestamp >= starting_timestamp).read().sort_values(by='timestamp', inplace=False).reset_index(drop=True)\n",
    "bitcoin_batch_data = bitcoin_batch_data[[\"timestamp\",\"open\"]]\n",
    "bitcoin_batch_data.head()"
   ]
  },
  {
   "cell_type": "code",
   "execution_count": 8,
   "metadata": {
    "ExecuteTime": {
     "end_time": "2025-01-02T16:30:49.770879Z",
     "start_time": "2025-01-02T16:30:48.174540Z"
    }
   },
   "outputs": [
    {
     "name": "stdout",
     "output_type": "stream",
     "text": [
      "Finished: Reading data from Hopsworks, using Hopsworks Feature Query Service (0.66s) \n"
     ]
    },
    {
     "data": {
      "text/plain": "  value  value_classification     timestamp\n0    80                     4  1.732406e+09\n1    82                     4  1.732493e+09\n2    79                     4  1.732579e+09\n3    75                     3  1.732666e+09\n4    77                     4  1.732752e+09",
      "text/html": "<div>\n<style scoped>\n    .dataframe tbody tr th:only-of-type {\n        vertical-align: middle;\n    }\n\n    .dataframe tbody tr th {\n        vertical-align: top;\n    }\n\n    .dataframe thead th {\n        text-align: right;\n    }\n</style>\n<table border=\"1\" class=\"dataframe\">\n  <thead>\n    <tr style=\"text-align: right;\">\n      <th></th>\n      <th>value</th>\n      <th>value_classification</th>\n      <th>timestamp</th>\n    </tr>\n  </thead>\n  <tbody>\n    <tr>\n      <th>0</th>\n      <td>80</td>\n      <td>4</td>\n      <td>1.732406e+09</td>\n    </tr>\n    <tr>\n      <th>1</th>\n      <td>82</td>\n      <td>4</td>\n      <td>1.732493e+09</td>\n    </tr>\n    <tr>\n      <th>2</th>\n      <td>79</td>\n      <td>4</td>\n      <td>1.732579e+09</td>\n    </tr>\n    <tr>\n      <th>3</th>\n      <td>75</td>\n      <td>3</td>\n      <td>1.732666e+09</td>\n    </tr>\n    <tr>\n      <th>4</th>\n      <td>77</td>\n      <td>4</td>\n      <td>1.732752e+09</td>\n    </tr>\n  </tbody>\n</table>\n</div>"
     },
     "execution_count": 8,
     "metadata": {},
     "output_type": "execute_result"
    }
   ],
   "source": [
    "fng_feature_group = fs.get_feature_group(\n",
    "    'f_n_g_index',\n",
    "    version=1\n",
    ")\n",
    "fng_batch_data = fng_feature_group.filter(fng_feature_group.timestamp >= starting_timestamp).read().sort_values(by='timestamp', inplace=False).reset_index(drop=True)\n",
    "fng_batch_data['value_classification'] = fng_batch_data['value_classification'].map(fng_labels_to_numbers_map)\n",
    "fng_batch_data.head()"
   ]
  },
  {
   "cell_type": "code",
   "execution_count": 9,
   "metadata": {
    "ExecuteTime": {
     "end_time": "2025-01-02T16:30:55.066630Z",
     "start_time": "2025-01-02T16:30:49.771707Z"
    }
   },
   "outputs": [
    {
     "name": "stdout",
     "output_type": "stream",
     "text": [
      "/var/folders/rh/xp6gtwpn19s_8lqdxq8sdl0r0000gn/T/5cd04689-7372-4fa3-840f-4fa63e677685/solana_price_daily_model_10d/3\n"
     ]
    },
    {
     "data": {
      "text/plain": "<Sequential name=sequential, built=True>"
     },
     "execution_count": 9,
     "metadata": {},
     "output_type": "execute_result"
    }
   ],
   "source": [
    "from tensorflow.keras.models import load_model\n",
    "\n",
    "mr = project.get_model_registry()\n",
    "\n",
    "retrieved_model = mr.get_model(\n",
    "    name=\"solana_price_daily_model_10d\",\n",
    "    version=3,\n",
    ")\n",
    "saved_model_dir = retrieved_model.download()\n",
    "print(saved_model_dir)\n",
    "model = load_model(saved_model_dir+'/best_model.keras')\n",
    "model\n"
   ]
  },
  {
   "cell_type": "code",
   "execution_count": 10,
   "outputs": [
    {
     "name": "stdout",
     "output_type": "stream",
     "text": [
      "int64\n",
      "int64\n",
      "float64\n",
      "0    1732406400\n",
      "1    1732492800\n",
      "2    1732579200\n",
      "3    1732665600\n",
      "4    1732752000\n",
      "Name: timestamp, dtype: int64\n",
      "0    1732406400\n",
      "1    1732492800\n",
      "2    1732579200\n",
      "3    1732665600\n",
      "4    1732752000\n",
      "Name: timestamp, dtype: int64\n",
      "0    1.732406e+09\n",
      "1    1.732493e+09\n",
      "2    1.732579e+09\n",
      "3    1.732666e+09\n",
      "4    1.732752e+09\n",
      "Name: timestamp, dtype: float64\n"
     ]
    }
   ],
   "source": [
    "print(solana_batch_data['timestamp'].dtype)\n",
    "print(bitcoin_batch_data['timestamp'].dtype)\n",
    "print(fng_batch_data['timestamp'].dtype)\n",
    "\n",
    "print(solana_batch_data['timestamp'].head())\n",
    "print(bitcoin_batch_data['timestamp'].head())\n",
    "print(fng_batch_data['timestamp'].head())\n"
   ],
   "metadata": {
    "collapsed": false,
    "ExecuteTime": {
     "end_time": "2025-01-02T16:30:55.070685Z",
     "start_time": "2025-01-02T16:30:55.068054Z"
    }
   }
  },
  {
   "cell_type": "code",
   "execution_count": 11,
   "metadata": {
    "ExecuteTime": {
     "end_time": "2025-01-02T16:30:55.082564Z",
     "start_time": "2025-01-02T16:30:55.071456Z"
    }
   },
   "outputs": [
    {
     "data": {
      "text/plain": "     high     low   close         volume     volume_buy    volume_sell  \\\n0  259.96  241.21  252.93  333221.510079  173161.319468  160060.190611   \n1  256.65  231.32  233.96  430081.090503  191964.534235  238116.556267   \n2  239.68  221.82  230.68  445887.775346  201503.607457  244384.167889   \n3  245.00  227.66  242.26  265621.873707  161330.187523  104291.686184   \n4  245.46  233.00  237.59  142466.637324   73142.398338   69324.238987   \n\n   open_bitcoin value  value_classification  open_solana  \n0       97759.1    80                     4       255.26  \n1       97994.1    82                     4       252.93  \n2       93000.0    79                     4       233.96  \n3       91914.5    75                     3       230.68  \n4       95952.9    77                     4       242.26  ",
      "text/html": "<div>\n<style scoped>\n    .dataframe tbody tr th:only-of-type {\n        vertical-align: middle;\n    }\n\n    .dataframe tbody tr th {\n        vertical-align: top;\n    }\n\n    .dataframe thead th {\n        text-align: right;\n    }\n</style>\n<table border=\"1\" class=\"dataframe\">\n  <thead>\n    <tr style=\"text-align: right;\">\n      <th></th>\n      <th>high</th>\n      <th>low</th>\n      <th>close</th>\n      <th>volume</th>\n      <th>volume_buy</th>\n      <th>volume_sell</th>\n      <th>open_bitcoin</th>\n      <th>value</th>\n      <th>value_classification</th>\n      <th>open_solana</th>\n    </tr>\n  </thead>\n  <tbody>\n    <tr>\n      <th>0</th>\n      <td>259.96</td>\n      <td>241.21</td>\n      <td>252.93</td>\n      <td>333221.510079</td>\n      <td>173161.319468</td>\n      <td>160060.190611</td>\n      <td>97759.1</td>\n      <td>80</td>\n      <td>4</td>\n      <td>255.26</td>\n    </tr>\n    <tr>\n      <th>1</th>\n      <td>256.65</td>\n      <td>231.32</td>\n      <td>233.96</td>\n      <td>430081.090503</td>\n      <td>191964.534235</td>\n      <td>238116.556267</td>\n      <td>97994.1</td>\n      <td>82</td>\n      <td>4</td>\n      <td>252.93</td>\n    </tr>\n    <tr>\n      <th>2</th>\n      <td>239.68</td>\n      <td>221.82</td>\n      <td>230.68</td>\n      <td>445887.775346</td>\n      <td>201503.607457</td>\n      <td>244384.167889</td>\n      <td>93000.0</td>\n      <td>79</td>\n      <td>4</td>\n      <td>233.96</td>\n    </tr>\n    <tr>\n      <th>3</th>\n      <td>245.00</td>\n      <td>227.66</td>\n      <td>242.26</td>\n      <td>265621.873707</td>\n      <td>161330.187523</td>\n      <td>104291.686184</td>\n      <td>91914.5</td>\n      <td>75</td>\n      <td>3</td>\n      <td>230.68</td>\n    </tr>\n    <tr>\n      <th>4</th>\n      <td>245.46</td>\n      <td>233.00</td>\n      <td>237.59</td>\n      <td>142466.637324</td>\n      <td>73142.398338</td>\n      <td>69324.238987</td>\n      <td>95952.9</td>\n      <td>77</td>\n      <td>4</td>\n      <td>242.26</td>\n    </tr>\n  </tbody>\n</table>\n</div>"
     },
     "execution_count": 11,
     "metadata": {},
     "output_type": "execute_result"
    }
   ],
   "source": [
    "all_data = pd.merge(solana_batch_data, bitcoin_batch_data, how='inner', on=\"timestamp\",suffixes=('_solana', '_bitcoin'))  \n",
    "all_data = pd.merge(all_data, fng_batch_data, how='inner', on=\"timestamp\")\n",
    "\n",
    "if \"timestamp\" in all_data.columns:\n",
    "    all_data = all_data.drop(columns=['timestamp'])\n",
    "\n",
    "target_column = 'open_solana'\n",
    "all_data = utils.move_target_at_the_end(all_data, target_column)\n",
    "all_data_values = all_data.values[-30:]\n",
    "\n",
    "all_data.head()"
   ]
  },
  {
   "cell_type": "code",
   "execution_count": 12,
   "metadata": {
    "ExecuteTime": {
     "end_time": "2025-01-02T16:30:55.572137Z",
     "start_time": "2025-01-02T16:30:55.081244Z"
    }
   },
   "outputs": [],
   "source": [
    "scaler_labels = joblib.load('scaler_labels.pkl')\n",
    "scaler_features = joblib.load('scaler_features.pkl')\n",
    "\n",
    "all_data_values = scaler_features.transform(all_data_values)\n",
    "X = all_data_values.reshape(1, 30, 10)\n"
   ]
  },
  {
   "cell_type": "code",
   "execution_count": 13,
   "metadata": {
    "ExecuteTime": {
     "end_time": "2025-01-02T16:30:55.573519Z",
     "start_time": "2025-01-02T16:30:55.556480Z"
    }
   },
   "outputs": [
    {
     "data": {
      "text/plain": "Index(['high', 'low', 'close', 'volume', 'volume_buy', 'volume_sell',\n       'open_bitcoin', 'value', 'value_classification', 'open_solana'],\n      dtype='object')"
     },
     "execution_count": 13,
     "metadata": {},
     "output_type": "execute_result"
    }
   ],
   "source": [
    "all_data.columns"
   ]
  },
  {
   "cell_type": "code",
   "execution_count": 14,
   "metadata": {
    "ExecuteTime": {
     "end_time": "2025-01-02T16:30:55.654900Z",
     "start_time": "2025-01-02T16:30:55.564378Z"
    }
   },
   "outputs": [
    {
     "name": "stdout",
     "output_type": "stream",
     "text": [
      "\u001B[1m1/1\u001B[0m \u001B[32m━━━━━━━━━━━━━━━━━━━━\u001B[0m\u001B[37m\u001B[0m \u001B[1m0s\u001B[0m 64ms/step\n"
     ]
    }
   ],
   "source": [
    "predictions = model.predict(X)[0]"
   ]
  },
  {
   "cell_type": "code",
   "execution_count": 15,
   "metadata": {
    "ExecuteTime": {
     "end_time": "2025-01-02T16:30:55.659639Z",
     "start_time": "2025-01-02T16:30:55.654196Z"
    }
   },
   "outputs": [
    {
     "data": {
      "text/plain": "array([0.4602867 , 0.5461706 , 0.4309681 , 0.38671726, 0.4226027 ,\n       0.55054015, 0.5240623 , 0.7281094 , 0.44401348, 0.5068848 ],\n      dtype=float32)"
     },
     "execution_count": 15,
     "metadata": {},
     "output_type": "execute_result"
    }
   ],
   "source": [
    "predictions"
   ]
  },
  {
   "cell_type": "code",
   "execution_count": 16,
   "metadata": {
    "ExecuteTime": {
     "end_time": "2025-01-02T16:30:55.661237Z",
     "start_time": "2025-01-02T16:30:55.658768Z"
    }
   },
   "outputs": [
    {
     "data": {
      "text/plain": "range(0, 10)"
     },
     "execution_count": 16,
     "metadata": {},
     "output_type": "execute_result"
    }
   ],
   "source": [
    "range(len(predictions))"
   ]
  },
  {
   "cell_type": "code",
   "execution_count": 17,
   "metadata": {
    "ExecuteTime": {
     "end_time": "2025-01-02T16:30:55.664346Z",
     "start_time": "2025-01-02T16:30:55.661532Z"
    }
   },
   "outputs": [],
   "source": [
    "\n",
    "timestamps = [today + (i+1) * seconds_in_one_day for i in range(len(predictions))]"
   ]
  },
  {
   "cell_type": "code",
   "execution_count": 18,
   "metadata": {
    "ExecuteTime": {
     "end_time": "2025-01-02T16:30:56.007232Z",
     "start_time": "2025-01-02T16:30:55.665046Z"
    }
   },
   "outputs": [],
   "source": [
    "monitor_fg = fs.get_or_create_feature_group(\n",
    "    name='solana_predictions',\n",
    "    description='Solana_predictions',\n",
    "    version=1,\n",
    "    primary_key=['date']\n",
    ")"
   ]
  },
  {
   "cell_type": "code",
   "execution_count": 19,
   "metadata": {
    "ExecuteTime": {
     "end_time": "2025-01-02T16:30:56.007406Z",
     "start_time": "2025-01-02T16:30:55.996845Z"
    }
   },
   "outputs": [],
   "source": [
    "result = pd.DataFrame(columns=['timestamp', \"open_solana\"])\n",
    "result[\"timestamp\"]=timestamps\n",
    "result[\"open_solana\"]=predictions\n",
    "#result= result.sort_values(by=['timestamp'])"
   ]
  },
  {
   "cell_type": "code",
   "execution_count": 20,
   "outputs": [
    {
     "data": {
      "text/plain": "    timestamp  open_solana\n0  1735921835     0.460287\n1  1736008235     0.546171\n2  1736094635     0.430968\n3  1736181035     0.386717\n4  1736267435     0.422603\n5  1736353835     0.550540\n6  1736440235     0.524062\n7  1736526635     0.728109\n8  1736613035     0.444013\n9  1736699435     0.506885",
      "text/html": "<div>\n<style scoped>\n    .dataframe tbody tr th:only-of-type {\n        vertical-align: middle;\n    }\n\n    .dataframe tbody tr th {\n        vertical-align: top;\n    }\n\n    .dataframe thead th {\n        text-align: right;\n    }\n</style>\n<table border=\"1\" class=\"dataframe\">\n  <thead>\n    <tr style=\"text-align: right;\">\n      <th></th>\n      <th>timestamp</th>\n      <th>open_solana</th>\n    </tr>\n  </thead>\n  <tbody>\n    <tr>\n      <th>0</th>\n      <td>1735921835</td>\n      <td>0.460287</td>\n    </tr>\n    <tr>\n      <th>1</th>\n      <td>1736008235</td>\n      <td>0.546171</td>\n    </tr>\n    <tr>\n      <th>2</th>\n      <td>1736094635</td>\n      <td>0.430968</td>\n    </tr>\n    <tr>\n      <th>3</th>\n      <td>1736181035</td>\n      <td>0.386717</td>\n    </tr>\n    <tr>\n      <th>4</th>\n      <td>1736267435</td>\n      <td>0.422603</td>\n    </tr>\n    <tr>\n      <th>5</th>\n      <td>1736353835</td>\n      <td>0.550540</td>\n    </tr>\n    <tr>\n      <th>6</th>\n      <td>1736440235</td>\n      <td>0.524062</td>\n    </tr>\n    <tr>\n      <th>7</th>\n      <td>1736526635</td>\n      <td>0.728109</td>\n    </tr>\n    <tr>\n      <th>8</th>\n      <td>1736613035</td>\n      <td>0.444013</td>\n    </tr>\n    <tr>\n      <th>9</th>\n      <td>1736699435</td>\n      <td>0.506885</td>\n    </tr>\n  </tbody>\n</table>\n</div>"
     },
     "execution_count": 20,
     "metadata": {},
     "output_type": "execute_result"
    }
   ],
   "source": [
    "result"
   ],
   "metadata": {
    "collapsed": false,
    "ExecuteTime": {
     "end_time": "2025-01-02T16:30:56.007655Z",
     "start_time": "2025-01-02T16:30:56.000546Z"
    }
   }
  },
  {
   "cell_type": "code",
   "execution_count": 21,
   "outputs": [
    {
     "data": {
      "text/plain": "   open_solana       date\n0     0.460287 2025-01-03\n1     0.546171 2025-01-04\n2     0.430968 2025-01-05\n3     0.386717 2025-01-06\n4     0.422603 2025-01-07\n5     0.550540 2025-01-08\n6     0.524062 2025-01-09\n7     0.728109 2025-01-10\n8     0.444013 2025-01-11\n9     0.506885 2025-01-12",
      "text/html": "<div>\n<style scoped>\n    .dataframe tbody tr th:only-of-type {\n        vertical-align: middle;\n    }\n\n    .dataframe tbody tr th {\n        vertical-align: top;\n    }\n\n    .dataframe thead th {\n        text-align: right;\n    }\n</style>\n<table border=\"1\" class=\"dataframe\">\n  <thead>\n    <tr style=\"text-align: right;\">\n      <th></th>\n      <th>open_solana</th>\n      <th>date</th>\n    </tr>\n  </thead>\n  <tbody>\n    <tr>\n      <th>0</th>\n      <td>0.460287</td>\n      <td>2025-01-03</td>\n    </tr>\n    <tr>\n      <th>1</th>\n      <td>0.546171</td>\n      <td>2025-01-04</td>\n    </tr>\n    <tr>\n      <th>2</th>\n      <td>0.430968</td>\n      <td>2025-01-05</td>\n    </tr>\n    <tr>\n      <th>3</th>\n      <td>0.386717</td>\n      <td>2025-01-06</td>\n    </tr>\n    <tr>\n      <th>4</th>\n      <td>0.422603</td>\n      <td>2025-01-07</td>\n    </tr>\n    <tr>\n      <th>5</th>\n      <td>0.550540</td>\n      <td>2025-01-08</td>\n    </tr>\n    <tr>\n      <th>6</th>\n      <td>0.524062</td>\n      <td>2025-01-09</td>\n    </tr>\n    <tr>\n      <th>7</th>\n      <td>0.728109</td>\n      <td>2025-01-10</td>\n    </tr>\n    <tr>\n      <th>8</th>\n      <td>0.444013</td>\n      <td>2025-01-11</td>\n    </tr>\n    <tr>\n      <th>9</th>\n      <td>0.506885</td>\n      <td>2025-01-12</td>\n    </tr>\n  </tbody>\n</table>\n</div>"
     },
     "execution_count": 21,
     "metadata": {},
     "output_type": "execute_result"
    }
   ],
   "source": [
    "result['date'] = pd.to_datetime(result['timestamp'], unit='s')\n",
    "result['date'] = result['date'].dt.normalize()\n",
    "result.drop(columns=[\"timestamp\"], inplace=True)\n",
    "\n",
    "result"
   ],
   "metadata": {
    "collapsed": false,
    "ExecuteTime": {
     "end_time": "2025-01-02T16:30:56.009003Z",
     "start_time": "2025-01-02T16:30:56.005726Z"
    }
   }
  },
  {
   "cell_type": "code",
   "execution_count": 22,
   "metadata": {
    "ExecuteTime": {
     "end_time": "2025-01-02T16:30:56.011229Z",
     "start_time": "2025-01-02T16:30:56.007981Z"
    }
   },
   "outputs": [],
   "source": [
    "#this is plane and we may have duplicates\n",
    "#monitor_fg.insert(result)"
   ]
  },
  {
   "cell_type": "code",
   "execution_count": 23,
   "metadata": {
    "ExecuteTime": {
     "end_time": "2025-01-02T16:31:08.656713Z",
     "start_time": "2025-01-02T16:30:56.010772Z"
    }
   },
   "outputs": [
    {
     "name": "stderr",
     "output_type": "stream",
     "text": [
      "Uploading Dataframe: 100.00% |██████████| Rows 10/10 | Elapsed Time: 00:01 | Remaining Time: 00:00\n"
     ]
    },
    {
     "name": "stdout",
     "output_type": "stream",
     "text": [
      "Launching job: solana_predictions_1_offline_fg_materialization\n",
      "Job started successfully, you can follow the progress at \n",
      "https://c.app.hopsworks.ai:443/p/1160346/jobs/named/solana_predictions_1_offline_fg_materialization/executions\n"
     ]
    },
    {
     "data": {
      "text/plain": "(Job('solana_predictions_1_offline_fg_materialization', 'SPARK'), None)"
     },
     "execution_count": 23,
     "metadata": {},
     "output_type": "execute_result"
    }
   ],
   "source": [
    "#this insert prevents duplicates\n",
    "monitor_fg.insert(\n",
    "    result,\n",
    "    #overwrite=False,  # Do not overwrite all data\n",
    "    operation=\"upsert\",  # Use upsert to handle duplicates based on the primary key\n",
    "    #storage=None  # Write to both online and offline storage\n",
    ")"
   ]
  },
  {
   "cell_type": "code",
   "execution_count": 23,
   "outputs": [],
   "source": [],
   "metadata": {
    "collapsed": false,
    "ExecuteTime": {
     "end_time": "2025-01-02T16:31:08.661649Z",
     "start_time": "2025-01-02T16:31:08.656831Z"
    }
   }
  }
 ],
 "metadata": {
  "kernelspec": {
   "display_name": "crypto-env",
   "language": "python",
   "name": "python3"
  },
  "language_info": {
   "codemirror_mode": {
    "name": "ipython",
    "version": 3
   },
   "file_extension": ".py",
   "mimetype": "text/x-python",
   "name": "python",
   "nbconvert_exporter": "python",
   "pygments_lexer": "ipython3",
   "version": "3.10.16"
  }
 },
 "nbformat": 4,
 "nbformat_minor": 2
}
