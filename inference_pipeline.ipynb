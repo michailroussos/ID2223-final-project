{
 "cells": [
  {
   "cell_type": "code",
   "execution_count": 24,
   "metadata": {
    "ExecuteTime": {
     "end_time": "2025-01-04T14:20:16.509626Z",
     "start_time": "2025-01-04T14:20:16.429111Z"
    }
   },
   "outputs": [],
   "source": [
    "import time\n",
    "import hopsworks\n",
    "import os\n",
    "from dotenv import load_dotenv\n",
    "import joblib\n",
    "\n",
    "# from datetime import datetime, timedelta\n",
    "import pandas as pd\n",
    "\n",
    "import hopsworks\n",
    "import matplotlib.pyplot as plt\n",
    "\n",
    "from utils import *\n",
    "import utils\n"
   ]
  },
  {
   "cell_type": "code",
   "execution_count": 25,
   "metadata": {
    "ExecuteTime": {
     "end_time": "2025-01-04T14:20:16.510241Z",
     "start_time": "2025-01-04T14:20:16.434302Z"
    }
   },
   "outputs": [
    {
     "data": {
      "text/plain": "1736000416"
     },
     "execution_count": 25,
     "metadata": {},
     "output_type": "execute_result"
    }
   ],
   "source": [
    "today = int(time.time())\n",
    "seconds_in_one_day = 24 * 60 * 60\n",
    "today"
   ]
  },
  {
   "cell_type": "code",
   "execution_count": 26,
   "metadata": {
    "ExecuteTime": {
     "end_time": "2025-01-04T14:21:05.660792Z",
     "start_time": "2025-01-04T14:20:16.437421Z"
    }
   },
   "outputs": [
    {
     "name": "stdout",
     "output_type": "stream",
     "text": [
      "2025-01-04 16:20:16,438 INFO: Closing external client and cleaning up certificates.\n",
      "Connection closed.\n",
      "2025-01-04 16:20:16,444 INFO: Initializing external client\n",
      "2025-01-04 16:20:16,445 INFO: Base URL: https://c.app.hopsworks.ai:443\n",
      "2025-01-04 16:21:04,277 INFO: Python Engine initialized.\n",
      "\n",
      "Logged in to project, explore it here https://c.app.hopsworks.ai:443/p/1160346\n"
     ]
    }
   ],
   "source": [
    "load_dotenv()\n",
    "#os.environ[\"HOPSWORKS_API_KEY\"] = os.getenv(\"HOPSWORKS_API_KEY\")\n",
    "project = hopsworks.login()\n",
    "#secrets = secrets_api(project.name)\n",
    "# This line will fail if you have not registered the CRYPTO_API_KEY as a secret in Hopsworks\n",
    "#CRYPTO_API_KEY = secrets.get_secret(\"CRYPTO_API_KEY\").value\n",
    "\n",
    "#CRYPTO_API_KEY = os.getenv(\"CRYPTO_API_KEY\")"
   ]
  },
  {
   "cell_type": "code",
   "execution_count": 27,
   "metadata": {
    "ExecuteTime": {
     "end_time": "2025-01-04T14:21:05.851565Z",
     "start_time": "2025-01-04T14:21:05.662520Z"
    }
   },
   "outputs": [
    {
     "data": {
      "text/plain": "1732544416.0"
     },
     "execution_count": 27,
     "metadata": {},
     "output_type": "execute_result"
    }
   ],
   "source": [
    "fs = project.get_feature_store() \n",
    "starting_timestamp = float(today - 40 * seconds_in_one_day)\n",
    "starting_timestamp\n"
   ]
  },
  {
   "cell_type": "code",
   "execution_count": 28,
   "metadata": {
    "ExecuteTime": {
     "end_time": "2025-01-04T14:21:05.857083Z",
     "start_time": "2025-01-04T14:21:05.853347Z"
    }
   },
   "outputs": [
    {
     "data": {
      "text/plain": "(1736000416, 1732544416.0)"
     },
     "execution_count": 28,
     "metadata": {},
     "output_type": "execute_result"
    }
   ],
   "source": [
    "today, starting_timestamp"
   ]
  },
  {
   "cell_type": "code",
   "execution_count": 29,
   "metadata": {
    "ExecuteTime": {
     "end_time": "2025-01-04T14:21:09.078301Z",
     "start_time": "2025-01-04T14:21:05.860117Z"
    }
   },
   "outputs": [
    {
     "name": "stdout",
     "output_type": "stream",
     "text": [
      "Finished: Reading data from Hopsworks, using Hopsworks Feature Query Service (1.05s) \n"
     ]
    },
    {
     "data": {
      "text/plain": "    timestamp    open    high     low   close         volume     volume_buy  \\\n0  1732579200  233.96  239.68  221.82  230.68  445887.775346  201503.607457   \n1  1732665600  230.68  245.00  227.66  242.26  265621.873707  161330.187523   \n2  1732752000  242.26  245.46  233.00  237.59  142466.637324   73142.398338   \n3  1732838400  237.59  247.04  236.58  243.47  301558.576846  121169.466633   \n4  1732924800  243.47  245.34  237.56  237.75  173213.101124   81975.271321   \n\n     volume_sell  \n0  244384.167889  \n1  104291.686184  \n2   69324.238987  \n3  180389.110213  \n4   91237.829804  ",
      "text/html": "<div>\n<style scoped>\n    .dataframe tbody tr th:only-of-type {\n        vertical-align: middle;\n    }\n\n    .dataframe tbody tr th {\n        vertical-align: top;\n    }\n\n    .dataframe thead th {\n        text-align: right;\n    }\n</style>\n<table border=\"1\" class=\"dataframe\">\n  <thead>\n    <tr style=\"text-align: right;\">\n      <th></th>\n      <th>timestamp</th>\n      <th>open</th>\n      <th>high</th>\n      <th>low</th>\n      <th>close</th>\n      <th>volume</th>\n      <th>volume_buy</th>\n      <th>volume_sell</th>\n    </tr>\n  </thead>\n  <tbody>\n    <tr>\n      <th>0</th>\n      <td>1732579200</td>\n      <td>233.96</td>\n      <td>239.68</td>\n      <td>221.82</td>\n      <td>230.68</td>\n      <td>445887.775346</td>\n      <td>201503.607457</td>\n      <td>244384.167889</td>\n    </tr>\n    <tr>\n      <th>1</th>\n      <td>1732665600</td>\n      <td>230.68</td>\n      <td>245.00</td>\n      <td>227.66</td>\n      <td>242.26</td>\n      <td>265621.873707</td>\n      <td>161330.187523</td>\n      <td>104291.686184</td>\n    </tr>\n    <tr>\n      <th>2</th>\n      <td>1732752000</td>\n      <td>242.26</td>\n      <td>245.46</td>\n      <td>233.00</td>\n      <td>237.59</td>\n      <td>142466.637324</td>\n      <td>73142.398338</td>\n      <td>69324.238987</td>\n    </tr>\n    <tr>\n      <th>3</th>\n      <td>1732838400</td>\n      <td>237.59</td>\n      <td>247.04</td>\n      <td>236.58</td>\n      <td>243.47</td>\n      <td>301558.576846</td>\n      <td>121169.466633</td>\n      <td>180389.110213</td>\n    </tr>\n    <tr>\n      <th>4</th>\n      <td>1732924800</td>\n      <td>243.47</td>\n      <td>245.34</td>\n      <td>237.56</td>\n      <td>237.75</td>\n      <td>173213.101124</td>\n      <td>81975.271321</td>\n      <td>91237.829804</td>\n    </tr>\n  </tbody>\n</table>\n</div>"
     },
     "execution_count": 29,
     "metadata": {},
     "output_type": "execute_result"
    }
   ],
   "source": [
    "solana_feature_group = fs.get_feature_group(\n",
    "    name=\"solana\",  \n",
    "    version=1\n",
    ")\n",
    "\n",
    "solana_batch_data = solana_feature_group.filter(solana_feature_group.timestamp >= starting_timestamp).read().sort_values(by='timestamp', inplace=False).reset_index(drop=True)\n",
    "solana_batch_data.head()"
   ]
  },
  {
   "cell_type": "code",
   "execution_count": 30,
   "metadata": {
    "ExecuteTime": {
     "end_time": "2025-01-04T14:21:10.730754Z",
     "start_time": "2025-01-04T14:21:09.079557Z"
    }
   },
   "outputs": [
    {
     "name": "stdout",
     "output_type": "stream",
     "text": [
      "Finished: Reading data from Hopsworks, using Hopsworks Feature Query Service (0.63s) \n"
     ]
    },
    {
     "data": {
      "text/plain": "    timestamp     open\n0  1732579200  93000.0\n1  1732665600  91914.5\n2  1732752000  95952.9\n3  1732838400  95637.8\n4  1732924800  97478.7",
      "text/html": "<div>\n<style scoped>\n    .dataframe tbody tr th:only-of-type {\n        vertical-align: middle;\n    }\n\n    .dataframe tbody tr th {\n        vertical-align: top;\n    }\n\n    .dataframe thead th {\n        text-align: right;\n    }\n</style>\n<table border=\"1\" class=\"dataframe\">\n  <thead>\n    <tr style=\"text-align: right;\">\n      <th></th>\n      <th>timestamp</th>\n      <th>open</th>\n    </tr>\n  </thead>\n  <tbody>\n    <tr>\n      <th>0</th>\n      <td>1732579200</td>\n      <td>93000.0</td>\n    </tr>\n    <tr>\n      <th>1</th>\n      <td>1732665600</td>\n      <td>91914.5</td>\n    </tr>\n    <tr>\n      <th>2</th>\n      <td>1732752000</td>\n      <td>95952.9</td>\n    </tr>\n    <tr>\n      <th>3</th>\n      <td>1732838400</td>\n      <td>95637.8</td>\n    </tr>\n    <tr>\n      <th>4</th>\n      <td>1732924800</td>\n      <td>97478.7</td>\n    </tr>\n  </tbody>\n</table>\n</div>"
     },
     "execution_count": 30,
     "metadata": {},
     "output_type": "execute_result"
    }
   ],
   "source": [
    "bitcoin_feature_group = fs.get_feature_group(\n",
    "    name=\"bitcoin\",  \n",
    "    version=1\n",
    ")\n",
    "bitcoin_batch_data = bitcoin_feature_group.filter(bitcoin_feature_group.timestamp >= starting_timestamp).read().sort_values(by='timestamp', inplace=False).reset_index(drop=True)\n",
    "bitcoin_batch_data = bitcoin_batch_data[[\"timestamp\",\"open\"]]\n",
    "bitcoin_batch_data.head()"
   ]
  },
  {
   "cell_type": "code",
   "execution_count": 31,
   "metadata": {
    "ExecuteTime": {
     "end_time": "2025-01-04T14:21:12.369765Z",
     "start_time": "2025-01-04T14:21:10.732468Z"
    }
   },
   "outputs": [
    {
     "name": "stdout",
     "output_type": "stream",
     "text": [
      "Finished: Reading data from Hopsworks, using Hopsworks Feature Query Service (0.59s) \n"
     ]
    },
    {
     "data": {
      "text/plain": "  value  value_classification     timestamp\n0    79                     4  1.732579e+09\n1    75                     3  1.732666e+09\n2    77                     4  1.732752e+09\n3    78                     4  1.732838e+09\n4    84                     4  1.732925e+09",
      "text/html": "<div>\n<style scoped>\n    .dataframe tbody tr th:only-of-type {\n        vertical-align: middle;\n    }\n\n    .dataframe tbody tr th {\n        vertical-align: top;\n    }\n\n    .dataframe thead th {\n        text-align: right;\n    }\n</style>\n<table border=\"1\" class=\"dataframe\">\n  <thead>\n    <tr style=\"text-align: right;\">\n      <th></th>\n      <th>value</th>\n      <th>value_classification</th>\n      <th>timestamp</th>\n    </tr>\n  </thead>\n  <tbody>\n    <tr>\n      <th>0</th>\n      <td>79</td>\n      <td>4</td>\n      <td>1.732579e+09</td>\n    </tr>\n    <tr>\n      <th>1</th>\n      <td>75</td>\n      <td>3</td>\n      <td>1.732666e+09</td>\n    </tr>\n    <tr>\n      <th>2</th>\n      <td>77</td>\n      <td>4</td>\n      <td>1.732752e+09</td>\n    </tr>\n    <tr>\n      <th>3</th>\n      <td>78</td>\n      <td>4</td>\n      <td>1.732838e+09</td>\n    </tr>\n    <tr>\n      <th>4</th>\n      <td>84</td>\n      <td>4</td>\n      <td>1.732925e+09</td>\n    </tr>\n  </tbody>\n</table>\n</div>"
     },
     "execution_count": 31,
     "metadata": {},
     "output_type": "execute_result"
    }
   ],
   "source": [
    "fng_feature_group = fs.get_feature_group(\n",
    "    'f_n_g_index',\n",
    "    version=1\n",
    ")\n",
    "fng_batch_data = fng_feature_group.filter(fng_feature_group.timestamp >= starting_timestamp).read().sort_values(by='timestamp', inplace=False).reset_index(drop=True)\n",
    "fng_batch_data['value_classification'] = fng_batch_data['value_classification'].map(fng_labels_to_numbers_map)\n",
    "fng_batch_data.head()"
   ]
  },
  {
   "cell_type": "code",
   "execution_count": 32,
   "metadata": {
    "ExecuteTime": {
     "end_time": "2025-01-04T14:21:15.124809Z",
     "start_time": "2025-01-04T14:21:12.371921Z"
    }
   },
   "outputs": [
    {
     "name": "stdout",
     "output_type": "stream",
     "text": [
      "/var/folders/rh/xp6gtwpn19s_8lqdxq8sdl0r0000gn/T/d7ee57ea-cf89-4ced-bd8f-fa28322721d6/solana_price_daily_model_10d/3\n"
     ]
    },
    {
     "data": {
      "text/plain": "<Sequential name=sequential, built=True>"
     },
     "execution_count": 32,
     "metadata": {},
     "output_type": "execute_result"
    }
   ],
   "source": [
    "from tensorflow.keras.models import load_model\n",
    "\n",
    "mr = project.get_model_registry()\n",
    "\n",
    "retrieved_model = mr.get_model(\n",
    "    name=\"solana_price_daily_model_10d\",\n",
    "    version=3,\n",
    ")\n",
    "saved_model_dir = retrieved_model.download()\n",
    "print(saved_model_dir)\n",
    "model = load_model(saved_model_dir+'/best_model.keras')\n",
    "model\n"
   ]
  },
  {
   "cell_type": "code",
   "execution_count": 33,
   "outputs": [
    {
     "name": "stdout",
     "output_type": "stream",
     "text": [
      "int64\n",
      "int64\n",
      "float64\n",
      "0    1732579200\n",
      "1    1732665600\n",
      "2    1732752000\n",
      "3    1732838400\n",
      "4    1732924800\n",
      "Name: timestamp, dtype: int64\n",
      "0    1732579200\n",
      "1    1732665600\n",
      "2    1732752000\n",
      "3    1732838400\n",
      "4    1732924800\n",
      "Name: timestamp, dtype: int64\n",
      "0    1.732579e+09\n",
      "1    1.732666e+09\n",
      "2    1.732752e+09\n",
      "3    1.732838e+09\n",
      "4    1.732925e+09\n",
      "Name: timestamp, dtype: float64\n"
     ]
    }
   ],
   "source": [
    "print(solana_batch_data['timestamp'].dtype)\n",
    "print(bitcoin_batch_data['timestamp'].dtype)\n",
    "print(fng_batch_data['timestamp'].dtype)\n",
    "\n",
    "print(solana_batch_data['timestamp'].head())\n",
    "print(bitcoin_batch_data['timestamp'].head())\n",
    "print(fng_batch_data['timestamp'].head())\n"
   ],
   "metadata": {
    "collapsed": false,
    "ExecuteTime": {
     "end_time": "2025-01-04T14:21:15.128480Z",
     "start_time": "2025-01-04T14:21:15.125952Z"
    }
   }
  },
  {
   "cell_type": "code",
   "execution_count": 34,
   "metadata": {
    "ExecuteTime": {
     "end_time": "2025-01-04T14:21:15.141035Z",
     "start_time": "2025-01-04T14:21:15.134151Z"
    }
   },
   "outputs": [
    {
     "data": {
      "text/plain": "     high     low   close         volume     volume_buy    volume_sell  \\\n0  239.68  221.82  230.68  445887.775346  201503.607457  244384.167889   \n1  245.00  227.66  242.26  265621.873707  161330.187523  104291.686184   \n2  245.46  233.00  237.59  142466.637324   73142.398338   69324.238987   \n3  247.04  236.58  243.47  301558.576846  121169.466633  180389.110213   \n4  245.34  237.56  237.75  173213.101124   81975.271321   91237.829804   \n\n   open_bitcoin value  value_classification  open_solana  \n0       93000.0    79                     4       233.96  \n1       91914.5    75                     3       230.68  \n2       95952.9    77                     4       242.26  \n3       95637.8    78                     4       237.59  \n4       97478.7    84                     4       243.47  ",
      "text/html": "<div>\n<style scoped>\n    .dataframe tbody tr th:only-of-type {\n        vertical-align: middle;\n    }\n\n    .dataframe tbody tr th {\n        vertical-align: top;\n    }\n\n    .dataframe thead th {\n        text-align: right;\n    }\n</style>\n<table border=\"1\" class=\"dataframe\">\n  <thead>\n    <tr style=\"text-align: right;\">\n      <th></th>\n      <th>high</th>\n      <th>low</th>\n      <th>close</th>\n      <th>volume</th>\n      <th>volume_buy</th>\n      <th>volume_sell</th>\n      <th>open_bitcoin</th>\n      <th>value</th>\n      <th>value_classification</th>\n      <th>open_solana</th>\n    </tr>\n  </thead>\n  <tbody>\n    <tr>\n      <th>0</th>\n      <td>239.68</td>\n      <td>221.82</td>\n      <td>230.68</td>\n      <td>445887.775346</td>\n      <td>201503.607457</td>\n      <td>244384.167889</td>\n      <td>93000.0</td>\n      <td>79</td>\n      <td>4</td>\n      <td>233.96</td>\n    </tr>\n    <tr>\n      <th>1</th>\n      <td>245.00</td>\n      <td>227.66</td>\n      <td>242.26</td>\n      <td>265621.873707</td>\n      <td>161330.187523</td>\n      <td>104291.686184</td>\n      <td>91914.5</td>\n      <td>75</td>\n      <td>3</td>\n      <td>230.68</td>\n    </tr>\n    <tr>\n      <th>2</th>\n      <td>245.46</td>\n      <td>233.00</td>\n      <td>237.59</td>\n      <td>142466.637324</td>\n      <td>73142.398338</td>\n      <td>69324.238987</td>\n      <td>95952.9</td>\n      <td>77</td>\n      <td>4</td>\n      <td>242.26</td>\n    </tr>\n    <tr>\n      <th>3</th>\n      <td>247.04</td>\n      <td>236.58</td>\n      <td>243.47</td>\n      <td>301558.576846</td>\n      <td>121169.466633</td>\n      <td>180389.110213</td>\n      <td>95637.8</td>\n      <td>78</td>\n      <td>4</td>\n      <td>237.59</td>\n    </tr>\n    <tr>\n      <th>4</th>\n      <td>245.34</td>\n      <td>237.56</td>\n      <td>237.75</td>\n      <td>173213.101124</td>\n      <td>81975.271321</td>\n      <td>91237.829804</td>\n      <td>97478.7</td>\n      <td>84</td>\n      <td>4</td>\n      <td>243.47</td>\n    </tr>\n  </tbody>\n</table>\n</div>"
     },
     "execution_count": 34,
     "metadata": {},
     "output_type": "execute_result"
    }
   ],
   "source": [
    "all_data = pd.merge(solana_batch_data, bitcoin_batch_data, how='inner', on=\"timestamp\",suffixes=('_solana', '_bitcoin'))  \n",
    "all_data = pd.merge(all_data, fng_batch_data, how='inner', on=\"timestamp\")\n",
    "\n",
    "if \"timestamp\" in all_data.columns:\n",
    "    all_data = all_data.drop(columns=['timestamp'])\n",
    "\n",
    "target_column = 'open_solana'\n",
    "all_data = utils.move_target_at_the_end(all_data, target_column)\n",
    "all_data_values = all_data.values[-30:]\n",
    "\n",
    "all_data.head()"
   ]
  },
  {
   "cell_type": "code",
   "execution_count": 35,
   "metadata": {
    "ExecuteTime": {
     "end_time": "2025-01-04T14:21:15.160019Z",
     "start_time": "2025-01-04T14:21:15.141909Z"
    }
   },
   "outputs": [],
   "source": [
    "scaler_labels = joblib.load('scaler_labels.pkl')\n",
    "scaler_features = joblib.load('scaler_features.pkl')\n",
    "\n",
    "all_data_values = scaler_features.transform(all_data_values)\n",
    "X = all_data_values.reshape(1, 30, 10)\n"
   ]
  },
  {
   "cell_type": "code",
   "execution_count": 36,
   "metadata": {
    "ExecuteTime": {
     "end_time": "2025-01-04T14:21:15.160348Z",
     "start_time": "2025-01-04T14:21:15.146078Z"
    }
   },
   "outputs": [
    {
     "data": {
      "text/plain": "Index(['high', 'low', 'close', 'volume', 'volume_buy', 'volume_sell',\n       'open_bitcoin', 'value', 'value_classification', 'open_solana'],\n      dtype='object')"
     },
     "execution_count": 36,
     "metadata": {},
     "output_type": "execute_result"
    }
   ],
   "source": [
    "all_data.columns"
   ]
  },
  {
   "cell_type": "code",
   "execution_count": 37,
   "metadata": {
    "ExecuteTime": {
     "end_time": "2025-01-04T14:21:15.304439Z",
     "start_time": "2025-01-04T14:21:15.152137Z"
    }
   },
   "outputs": [
    {
     "name": "stdout",
     "output_type": "stream",
     "text": [
      "\u001B[1m1/1\u001B[0m \u001B[32m━━━━━━━━━━━━━━━━━━━━\u001B[0m\u001B[37m\u001B[0m \u001B[1m0s\u001B[0m 112ms/step\n"
     ]
    }
   ],
   "source": [
    "predictions = model.predict(X)[0]"
   ]
  },
  {
   "cell_type": "code",
   "execution_count": 38,
   "metadata": {
    "ExecuteTime": {
     "end_time": "2025-01-04T14:21:15.308509Z",
     "start_time": "2025-01-04T14:21:15.305966Z"
    }
   },
   "outputs": [
    {
     "data": {
      "text/plain": "array([0.4165244 , 0.5076676 , 0.42782706, 0.30283636, 0.32652402,\n       0.52912307, 0.52718985, 0.7732368 , 0.46171755, 0.46803877],\n      dtype=float32)"
     },
     "execution_count": 38,
     "metadata": {},
     "output_type": "execute_result"
    }
   ],
   "source": [
    "predictions"
   ]
  },
  {
   "cell_type": "code",
   "execution_count": 39,
   "metadata": {
    "ExecuteTime": {
     "end_time": "2025-01-04T14:21:15.312888Z",
     "start_time": "2025-01-04T14:21:15.308767Z"
    }
   },
   "outputs": [
    {
     "data": {
      "text/plain": "range(0, 10)"
     },
     "execution_count": 39,
     "metadata": {},
     "output_type": "execute_result"
    }
   ],
   "source": [
    "range(len(predictions))"
   ]
  },
  {
   "cell_type": "code",
   "execution_count": 40,
   "metadata": {
    "ExecuteTime": {
     "end_time": "2025-01-04T14:21:15.313996Z",
     "start_time": "2025-01-04T14:21:15.311885Z"
    }
   },
   "outputs": [],
   "source": [
    "\n",
    "timestamps = [today + (i+1) * seconds_in_one_day for i in range(len(predictions))]"
   ]
  },
  {
   "cell_type": "code",
   "execution_count": 41,
   "metadata": {
    "ExecuteTime": {
     "end_time": "2025-01-04T14:21:15.836402Z",
     "start_time": "2025-01-04T14:21:15.314818Z"
    }
   },
   "outputs": [],
   "source": [
    "monitor_fg = fs.get_or_create_feature_group(\n",
    "    name='solana_predictions',\n",
    "    description='Solana_predictions',\n",
    "    version=1,\n",
    "    primary_key=['date']\n",
    ")"
   ]
  },
  {
   "cell_type": "code",
   "execution_count": 42,
   "metadata": {
    "ExecuteTime": {
     "end_time": "2025-01-04T14:21:15.842656Z",
     "start_time": "2025-01-04T14:21:15.840248Z"
    }
   },
   "outputs": [],
   "source": [
    "result = pd.DataFrame(columns=['timestamp', \"open_solana\"])\n",
    "result[\"timestamp\"]=timestamps\n",
    "result[\"open_solana\"]=predictions\n",
    "#result= result.sort_values(by=['timestamp'])"
   ]
  },
  {
   "cell_type": "code",
   "execution_count": 43,
   "outputs": [
    {
     "data": {
      "text/plain": "    timestamp  open_solana\n0  1736086816     0.416524\n1  1736173216     0.507668\n2  1736259616     0.427827\n3  1736346016     0.302836\n4  1736432416     0.326524\n5  1736518816     0.529123\n6  1736605216     0.527190\n7  1736691616     0.773237\n8  1736778016     0.461718\n9  1736864416     0.468039",
      "text/html": "<div>\n<style scoped>\n    .dataframe tbody tr th:only-of-type {\n        vertical-align: middle;\n    }\n\n    .dataframe tbody tr th {\n        vertical-align: top;\n    }\n\n    .dataframe thead th {\n        text-align: right;\n    }\n</style>\n<table border=\"1\" class=\"dataframe\">\n  <thead>\n    <tr style=\"text-align: right;\">\n      <th></th>\n      <th>timestamp</th>\n      <th>open_solana</th>\n    </tr>\n  </thead>\n  <tbody>\n    <tr>\n      <th>0</th>\n      <td>1736086816</td>\n      <td>0.416524</td>\n    </tr>\n    <tr>\n      <th>1</th>\n      <td>1736173216</td>\n      <td>0.507668</td>\n    </tr>\n    <tr>\n      <th>2</th>\n      <td>1736259616</td>\n      <td>0.427827</td>\n    </tr>\n    <tr>\n      <th>3</th>\n      <td>1736346016</td>\n      <td>0.302836</td>\n    </tr>\n    <tr>\n      <th>4</th>\n      <td>1736432416</td>\n      <td>0.326524</td>\n    </tr>\n    <tr>\n      <th>5</th>\n      <td>1736518816</td>\n      <td>0.529123</td>\n    </tr>\n    <tr>\n      <th>6</th>\n      <td>1736605216</td>\n      <td>0.527190</td>\n    </tr>\n    <tr>\n      <th>7</th>\n      <td>1736691616</td>\n      <td>0.773237</td>\n    </tr>\n    <tr>\n      <th>8</th>\n      <td>1736778016</td>\n      <td>0.461718</td>\n    </tr>\n    <tr>\n      <th>9</th>\n      <td>1736864416</td>\n      <td>0.468039</td>\n    </tr>\n  </tbody>\n</table>\n</div>"
     },
     "execution_count": 43,
     "metadata": {},
     "output_type": "execute_result"
    }
   ],
   "source": [
    "result"
   ],
   "metadata": {
    "collapsed": false,
    "ExecuteTime": {
     "end_time": "2025-01-04T14:21:15.849841Z",
     "start_time": "2025-01-04T14:21:15.844724Z"
    }
   }
  },
  {
   "cell_type": "code",
   "execution_count": 44,
   "outputs": [
    {
     "data": {
      "text/plain": "   open_solana       date\n0     0.416524 2025-01-05\n1     0.507668 2025-01-06\n2     0.427827 2025-01-07\n3     0.302836 2025-01-08\n4     0.326524 2025-01-09\n5     0.529123 2025-01-10\n6     0.527190 2025-01-11\n7     0.773237 2025-01-12\n8     0.461718 2025-01-13\n9     0.468039 2025-01-14",
      "text/html": "<div>\n<style scoped>\n    .dataframe tbody tr th:only-of-type {\n        vertical-align: middle;\n    }\n\n    .dataframe tbody tr th {\n        vertical-align: top;\n    }\n\n    .dataframe thead th {\n        text-align: right;\n    }\n</style>\n<table border=\"1\" class=\"dataframe\">\n  <thead>\n    <tr style=\"text-align: right;\">\n      <th></th>\n      <th>open_solana</th>\n      <th>date</th>\n    </tr>\n  </thead>\n  <tbody>\n    <tr>\n      <th>0</th>\n      <td>0.416524</td>\n      <td>2025-01-05</td>\n    </tr>\n    <tr>\n      <th>1</th>\n      <td>0.507668</td>\n      <td>2025-01-06</td>\n    </tr>\n    <tr>\n      <th>2</th>\n      <td>0.427827</td>\n      <td>2025-01-07</td>\n    </tr>\n    <tr>\n      <th>3</th>\n      <td>0.302836</td>\n      <td>2025-01-08</td>\n    </tr>\n    <tr>\n      <th>4</th>\n      <td>0.326524</td>\n      <td>2025-01-09</td>\n    </tr>\n    <tr>\n      <th>5</th>\n      <td>0.529123</td>\n      <td>2025-01-10</td>\n    </tr>\n    <tr>\n      <th>6</th>\n      <td>0.527190</td>\n      <td>2025-01-11</td>\n    </tr>\n    <tr>\n      <th>7</th>\n      <td>0.773237</td>\n      <td>2025-01-12</td>\n    </tr>\n    <tr>\n      <th>8</th>\n      <td>0.461718</td>\n      <td>2025-01-13</td>\n    </tr>\n    <tr>\n      <th>9</th>\n      <td>0.468039</td>\n      <td>2025-01-14</td>\n    </tr>\n  </tbody>\n</table>\n</div>"
     },
     "execution_count": 44,
     "metadata": {},
     "output_type": "execute_result"
    }
   ],
   "source": [
    "result['date'] = pd.to_datetime(result['timestamp'], unit='s')\n",
    "result['date'] = result['date'].dt.normalize()\n",
    "result.drop(columns=[\"timestamp\"], inplace=True)\n",
    "\n",
    "result"
   ],
   "metadata": {
    "collapsed": false,
    "ExecuteTime": {
     "end_time": "2025-01-04T14:21:15.867640Z",
     "start_time": "2025-01-04T14:21:15.847554Z"
    }
   }
  },
  {
   "cell_type": "code",
   "execution_count": 45,
   "metadata": {
    "ExecuteTime": {
     "end_time": "2025-01-04T14:21:15.870303Z",
     "start_time": "2025-01-04T14:21:15.865586Z"
    }
   },
   "outputs": [],
   "source": [
    "#this is plane and we may have duplicates\n",
    "#monitor_fg.insert(result)"
   ]
  },
  {
   "cell_type": "code",
   "execution_count": 46,
   "metadata": {
    "ExecuteTime": {
     "end_time": "2025-01-04T14:21:28.850521Z",
     "start_time": "2025-01-04T14:21:15.869548Z"
    }
   },
   "outputs": [
    {
     "name": "stderr",
     "output_type": "stream",
     "text": [
      "Uploading Dataframe: 100.00% |██████████| Rows 10/10 | Elapsed Time: 00:02 | Remaining Time: 00:00\n"
     ]
    },
    {
     "name": "stdout",
     "output_type": "stream",
     "text": [
      "Launching job: solana_predictions_1_offline_fg_materialization\n",
      "Job started successfully, you can follow the progress at \n",
      "https://c.app.hopsworks.ai:443/p/1160346/jobs/named/solana_predictions_1_offline_fg_materialization/executions\n"
     ]
    },
    {
     "data": {
      "text/plain": "(Job('solana_predictions_1_offline_fg_materialization', 'SPARK'), None)"
     },
     "execution_count": 46,
     "metadata": {},
     "output_type": "execute_result"
    }
   ],
   "source": [
    "#this insert prevents duplicates\n",
    "monitor_fg.insert(\n",
    "    result,\n",
    "    #overwrite=False,  # Do not overwrite all data\n",
    "    operation=\"upsert\",  # Use upsert to handle duplicates based on the primary key\n",
    "    #storage=None  # Write to both online and offline storage\n",
    ")"
   ]
  },
  {
   "cell_type": "code",
   "execution_count": 46,
   "outputs": [],
   "source": [],
   "metadata": {
    "collapsed": false,
    "ExecuteTime": {
     "end_time": "2025-01-04T14:21:28.852891Z",
     "start_time": "2025-01-04T14:21:28.849520Z"
    }
   }
  }
 ],
 "metadata": {
  "kernelspec": {
   "display_name": "crypto-env",
   "language": "python",
   "name": "python3"
  },
  "language_info": {
   "codemirror_mode": {
    "name": "ipython",
    "version": 3
   },
   "file_extension": ".py",
   "mimetype": "text/x-python",
   "name": "python",
   "nbconvert_exporter": "python",
   "pygments_lexer": "ipython3",
   "version": "3.10.16"
  }
 },
 "nbformat": 4,
 "nbformat_minor": 2
}
